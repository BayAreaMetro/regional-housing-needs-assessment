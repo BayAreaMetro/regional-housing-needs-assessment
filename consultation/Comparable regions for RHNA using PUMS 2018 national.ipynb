{
 "cells": [
  {
   "cell_type": "markdown",
   "metadata": {},
   "source": [
    "### Idenfitication of Bay Area Comparable Regions for Regional Housing Needs Determination purposes"
   ]
  },
  {
   "cell_type": "code",
   "execution_count": 587,
   "metadata": {},
   "outputs": [
    {
     "name": "stdout",
     "output_type": "stream",
     "text": [
      "Populating the interactive namespace from numpy and matplotlib\n",
      "Current size: [6.0, 4.0]\n",
      "Current size: [9, 6]\n"
     ]
    },
    {
     "name": "stderr",
     "output_type": "stream",
     "text": [
      "/Users/aolsen/anaconda2/envs/geoenv/lib/python2.7/site-packages/IPython/core/magics/pylab.py:161: UserWarning: pylab import has clobbered these variables: ['dist', 'box', 'size', 'colors']\n",
      "`%matplotlib` prevents importing * from pylab and numpy\n",
      "  \"\\n`%matplotlib` prevents importing * from pylab and numpy\"\n"
     ]
    }
   ],
   "source": [
    "import pandas as pd\n",
    "## grab FRED API data on inflation\n",
    "\n",
    "pd.core.common.is_list_like = pd.api.types.is_list_like\n",
    "from pandas_datareader import data, wb\n",
    "from pandas.api.types import CategoricalDtype\n",
    "from fiona.crs import from_epsg\n",
    "import geopandas as gpd\n",
    "\n",
    "from sklearn.neighbors import KDTree\n",
    "from sklearn.cluster import DBSCAN\n",
    "from sklearn import metrics\n",
    "\n",
    "import os\n",
    "\n",
    "import requests, json\n",
    "import urllib2\n",
    "\n",
    "import pylab as P\n",
    "#pd.options.display.mpl_style = 'default'\n",
    "\n",
    "import seaborn as sns\n",
    "import matplotlib.pyplot as plt\n",
    "import matplotlib.cm as cm, matplotlib.font_manager as fm\n",
    "sns.set(style=\"darkgrid\")\n",
    "%pylab inline\n",
    "\n",
    "pd.set_option('display.max_columns', 1800)\n",
    "pd.set_option('display.width', 1800)\n",
    "\n",
    "# Get current size\n",
    "fig_size = plt.rcParams[\"figure.figsize\"]\n",
    "print \"Current size:\", fig_size\n",
    " \n",
    "# Set figure width to 12 and height to 9\n",
    "fig_size[0] = 9\n",
    "fig_size[1] = 6\n",
    "plt.rcParams[\"figure.figsize\"] = fig_size\n",
    "print \"Current size:\", fig_size\n",
    "plt.rcParams['figure.figsize']\n",
    "plt.style.use('ggplot')\n",
    "\n",
    "from pandas.api.types import CategoricalDtype\n",
    "\n",
    "import matplotlib\n",
    "matplotlib.rcParams['pdf.fonttype'] = 42\n",
    "matplotlib.rcParams['ps.fonttype'] = 42\n",
    "matplotlib.rc('pdf', fonttype=42)\n",
    "box=os.getenv('BOX_LOC')\n",
    "drop=os.getenv('DROPBOX_LOC')\n",
    "\n"
   ]
  },
  {
   "cell_type": "code",
   "execution_count": null,
   "metadata": {},
   "outputs": [],
   "source": [
    "from shapely.geometry import Point\n",
    "from geopandas import GeoDataFrame, read_file\n",
    "from geopandas.tools import overlay\n",
    "from geopandas.tools import sjoin\n",
    "import geopandas as gpd\n",
    "import textwrap"
   ]
  },
  {
   "cell_type": "code",
   "execution_count": 229,
   "metadata": {},
   "outputs": [],
   "source": [
    "import matplotlib.ticker as ticker\n",
    "fmt = lambda x,pos: '{:,.0f}'.format(x)\n",
    "cbar_kws={'format': ticker.FuncFormatter(fmt)}\n",
    "fmt_float = lambda x,pos: '{:,.3f}'.format(x)\n",
    "cbar_kws_float={'format': ticker.FuncFormatter(fmt_float)}\n",
    "import matplotlib.patches as patches\n",
    "\n",
    "from matplotlib.backends.backend_pdf import PdfPages\n",
    "import matplotlib.colors as colors\n",
    "import matplotlib.patheffects as PathEffects\n",
    "\n",
    "class MidpointNormalize(Normalize):\n",
    "    def __init__(self, vmin=None, vmax=None, midpoint=None, clip=False):\n",
    "        self.midpoint = midpoint\n",
    "        Normalize.__init__(self, vmin, vmax, clip)\n",
    "\n",
    "    def __call__(self, value, clip=None):\n",
    "        # I'm ignoring masked values and all kinds of edge cases to make a\n",
    "        # simple example...\n",
    "        x, y = [self.vmin, self.midpoint, self.vmax], [0, 0.5, 1]\n",
    "        return np.ma.masked_array(np.interp(value, x, y))"
   ]
  },
  {
   "cell_type": "markdown",
   "metadata": {},
   "source": [
    "### Load and prepare mappings"
   ]
  },
  {
   "cell_type": "code",
   "execution_count": 591,
   "metadata": {},
   "outputs": [
    {
     "data": {
      "text/html": [
       "<div>\n",
       "<style scoped>\n",
       "    .dataframe tbody tr th:only-of-type {\n",
       "        vertical-align: middle;\n",
       "    }\n",
       "\n",
       "    .dataframe tbody tr th {\n",
       "        vertical-align: top;\n",
       "    }\n",
       "\n",
       "    .dataframe thead th {\n",
       "        text-align: right;\n",
       "    }\n",
       "</style>\n",
       "<table border=\"1\" class=\"dataframe\">\n",
       "  <thead>\n",
       "    <tr style=\"text-align: right;\">\n",
       "      <th></th>\n",
       "      <th>NAICS-2</th>\n",
       "      <th>ABAG-6</th>\n",
       "      <th>ABAG-11</th>\n",
       "      <th>MTCname</th>\n",
       "      <th>eddname</th>\n",
       "      <th>acs</th>\n",
       "      <th>ind_census</th>\n",
       "    </tr>\n",
       "  </thead>\n",
       "  <tbody>\n",
       "    <tr>\n",
       "      <th>0</th>\n",
       "      <td>11</td>\n",
       "      <td>Agriculture &amp; Natural Resources</td>\n",
       "      <td>Agriculture &amp; Natural Resources</td>\n",
       "      <td>agrempn</td>\n",
       "      <td>Agriculture and Natural Resources</td>\n",
       "      <td>Agriculture, forestry, fishing and hunting, an...</td>\n",
       "      <td>ind_other</td>\n",
       "    </tr>\n",
       "    <tr>\n",
       "      <th>1</th>\n",
       "      <td>21</td>\n",
       "      <td>Agriculture &amp; Natural Resources</td>\n",
       "      <td>Agriculture &amp; Natural Resources</td>\n",
       "      <td>agrempn</td>\n",
       "      <td>Agriculture and Natural Resources</td>\n",
       "      <td>Agriculture, forestry, fishing and hunting, an...</td>\n",
       "      <td>ind_other</td>\n",
       "    </tr>\n",
       "  </tbody>\n",
       "</table>\n",
       "</div>"
      ],
      "text/plain": [
       "   NAICS-2                           ABAG-6                          ABAG-11  MTCname                            eddname                                                acs ind_census\n",
       "0       11  Agriculture & Natural Resources  Agriculture & Natural Resources  agrempn  Agriculture and Natural Resources  Agriculture, forestry, fishing and hunting, an...  ind_other\n",
       "1       21  Agriculture & Natural Resources  Agriculture & Natural Resources  agrempn  Agriculture and Natural Resources  Agriculture, forestry, fishing and hunting, an...  ind_other"
      ]
     },
     "execution_count": 591,
     "metadata": {},
     "output_type": "execute_result"
    }
   ],
   "source": [
    "## get abag-naics mapping\n",
    "names=['NAICS','ABAGSector','mtc11','mtc6','EDDSector','ACS']\n",
    "naics_mappings = pd.read_excel(os.path.join(drop, 'Documents/Data/BayArea/Projections 2013/NAICS_to_ABAG_SECTORS.xlsx'),sheetname='both')\n",
    "naics_mappings.head(2)"
   ]
  },
  {
   "cell_type": "code",
   "execution_count": 616,
   "metadata": {},
   "outputs": [],
   "source": [
    "## SOC codes\n",
    "soc = pd.read_csv(os.path.join(drop, 'Documents/Data/_BLS/SOC/soc_structure_2010_major.csv'))\n",
    "soc['soc_2']=soc['Major Group'].apply(lambda x: (x[:2]))\n",
    "soc.head(3)\n",
    "\n",
    "socmap=soc.set_index(['soc_2']).Description#shortname"
   ]
  },
  {
   "cell_type": "markdown",
   "metadata": {},
   "source": [
    "#### Geographical mappings\n",
    "Relate PUMAs to more meaningful geographies"
   ]
  },
  {
   "cell_type": "code",
   "execution_count": 614,
   "metadata": {},
   "outputs": [],
   "source": [
    "bayareafips_full ={'06001':'Alameda', '06013':'Contra Costa', '06041':'Marin', '06055':'Napa', '06075':'San Francisco', '06081':'San Mateo', '06085':'Santa Clara', '06097':'Sonoma', '06095':'Solano'}\n",
    "\n",
    "## for regex use\n",
    "cntystr='({})'.format('|'.join(map(lambda x: '%s County'%x,bayareafips_full.values())))\n",
    "cntyfips='({})'.format('|'.join(map(lambda x: '^%s'%x,bayareafips_full.keys())))"
   ]
  },
  {
   "cell_type": "code",
   "execution_count": 6,
   "metadata": {},
   "outputs": [],
   "source": [
    "## load an intersect file of PUMAs with FMR areas.\n",
    "## This will allow us to push FMR areas back to PUMS.\n",
    "\n",
    "fmrareas_x_puma = gpd.read_file(os.path.join(drop,'Documents/Data/_HUD/FMR/FMR_x_PUMA2015.shp'))\n",
    "fmrareas_x_puma['STPUMA']=fmrareas_x_puma.STATEFP10+fmrareas_x_puma.PUMACE10\n",
    "fmrareas_x_puma.crs= from_epsg(4269)\n",
    "\n",
    "stpuma_x_fmr=fmrareas_x_puma.set_index(['STPUMA','FMR_CODE','FMR_AREANA']).groupby(level=['STPUMA']).Shape_Area.nlargest(1).reset_index(0,drop=True)\n",
    "\n",
    "stpuma_x_fmrcode = stpuma_x_fmr.reset_index(['FMR_CODE','FMR_AREANA']).FMR_CODE.to_dict()\n",
    "stpuma_x_fmrarea = stpuma_x_fmr.reset_index(['FMR_CODE','FMR_AREANA']).FMR_AREANA.to_dict()"
   ]
  },
  {
   "cell_type": "code",
   "execution_count": 615,
   "metadata": {},
   "outputs": [],
   "source": [
    "# ## From HCD, Bay Area MSA-level income limits\n",
    "## NOT IN USE SINCE WE USE NATIONAL HUD ONES\n",
    "\n",
    "# hcd_income_limits=pd.read_excel(os.path.join(drop,'Documents/Data/_HCD/income_limits/2018/inc2k18.xlsx'),'formated')\n",
    "\n",
    "# hcd_income_limits['County']=hcd_income_limits.County.str.extract(cntystr,expand=False).fillna(method='pad')\n",
    "# hcd_income_limits=hcd_income_limits.drop(hcd_income_limits.filter(regex='Unn').columns,axis=1)\n",
    "# hcd_income_limits\n",
    "\n",
    "# hcd_income_limits=hcd_income_limits[hcd_income_limits['Income Category']!='Median Income']\n",
    "# hcd_income_limits['Income Category']=hcd_income_limits['Income Category'].astype(pd.CategoricalDtype(categories=['Extremely Low','Very Low Income','Low Income','Moderate Income','Above Moderate Income'],ordered=True))\n",
    "# hcd_income_limits.head()"
   ]
  },
  {
   "cell_type": "code",
   "execution_count": 257,
   "metadata": {},
   "outputs": [],
   "source": [
    "## get abag-naics mapping\n",
    "\n",
    "names=['NAICS','ABAGSector','ABAGSector-11','MTCSector','EDDSector','ACS','census']\n",
    "naics_mappings = pd.read_excel(os.path.join(drop, 'Documents/Data/BayArea/Projections 2013/NAICS_to_ABAG_SECTORS.xlsx'),sheetname='both')\n",
    "naics_mappings.columns=names\n",
    "naics_mappings['NAICS']=naics_mappings['NAICS'].astype(str)\n",
    "\n",
    "#naics_abag = pd.read_csv(os.path.join(drop, r'Documents\\Data\\BayArea\\Projections 2013\\NAICS_to_ABAG_SECTORS.csv'),sep='\\t',dtype=object)\n",
    "\n",
    "naics_abag = naics_mappings.set_index('NAICS').ABAGSector.to_dict()\n",
    "naics_mtc = naics_mappings.set_index('NAICS').MTCSector.to_dict()\n",
    "naics_abag_11 = naics_mappings.set_index('NAICS')['ABAGSector-11'].to_dict()\n",
    "naics_acs = naics_mappings.set_index('NAICS').ACS\n",
    "\n",
    "wrap20=textwrap.TextWrapper(width=40)\n",
    "naics_acs_wrap=naics_mappings.set_index('NAICS').ACS.apply(lambda x: '\\n'.join(wrap20.wrap(text=x)))"
   ]
  },
  {
   "cell_type": "code",
   "execution_count": 259,
   "metadata": {},
   "outputs": [],
   "source": [
    "# stemdefs=pd.read_excel(os.path.join(drop,'Documents/Data/_BLS/STEM_occupations_OES/stem_2017.xlsx'),'STEM occupations list',skiprows=1)\n",
    "# stemdefs['OCC_CODE']=stemdefs['OCC_CODE'].str.replace('-','')\n",
    "# stemdefs['SOCP_3']=stemdefs['OCC_CODE'].str.slice(0,3).map(lambda x: '{:0<6}'.format(x))\n",
    "\n",
    "# stemdefs=stemdefs.set_index(['OCC_CODE']).OCC_TITLE\n",
    "# stemdefs.head()"
   ]
  },
  {
   "cell_type": "code",
   "execution_count": 308,
   "metadata": {},
   "outputs": [
    {
     "data": {
      "text/plain": [
       "CBSA Code\n",
       "10300       Detroit-Warren-Ann Arbor, MI\n",
       "10420         Cleveland-Akron-Canton, OH\n",
       "10540    Portland-Vancouver-Salem, OR-WA\n",
       "10580             Albany-Schenectady, NY\n",
       "10620           Charlotte-Concord, NC-SC\n",
       "Name: CSA Title, dtype: object"
      ]
     },
     "execution_count": 308,
     "metadata": {},
     "output_type": "execute_result"
    }
   ],
   "source": [
    "## load OMB MSA definitions\n",
    "\n",
    "ombdata=pd.read_excel('/Users/aolsen/Dropbox/Documents/Data/_Census/geo/list1_Sep_2018.xls',skiprows=2)\n",
    "\n",
    "ombdata=ombdata[ombdata['FIPS County Code'].notnull()]\n",
    "ombdata['STCOUNTY']=ombdata['FIPS State Code'].apply(lambda x: '{:0>2}'.format(int(x)))+\\\n",
    "ombdata['FIPS County Code'].apply(lambda x: '{:0>3}'.format(int(x)))\n",
    "county_x_csa=ombdata.set_index(['STCOUNTY'])['CSA Title'].fillna('Outside CSA')\n",
    "county_x_cbsa=ombdata.set_index(['STCOUNTY'])['CBSA Title'].fillna('Outside CBSA')\n",
    "\n",
    "ombdata=ombdata.groupby(['CBSA Code','CSA Code','CSA Title']).size().reset_index(name='count')\n",
    "ombdata['CSA Code']=ombdata['CSA Code'].apply(lambda x: '{:0>3}'.format(int(x)))\n",
    "\n",
    "cbsa_x_csa=ombdata.set_index(['CBSA Code'])['CSA Title']\n",
    "cbsa_x_csa.head()"
   ]
  },
  {
   "cell_type": "code",
   "execution_count": 309,
   "metadata": {},
   "outputs": [
    {
     "name": "stdout",
     "output_type": "stream",
     "text": [
      "(3156, 6)\n",
      "(3156, 6)\n"
     ]
    }
   ],
   "source": [
    "## load PUMA to MSA correspondence from Missouri Census Data Center\n",
    "## not in use - we did our own union\n",
    "\n",
    "# puma_x_msa=pd.read_csv(os.path.join(drop,'Documents/Data/_Census/geo/puma_x_msa_mcdc_geocorr12.csv'),skiprows=1)\n",
    "# puma_x_msa['STPUMA']=puma_x_msa['FIPS state'].apply(lambda x: '{:0>2}'.format(x))+puma_x_msa['puma12'].apply(lambda x: '{:0>5}'.format(x))\n",
    "# puma_x_msa=puma_x_msa.groupby(['cbsa','CBSA Name','STPUMA','PUMA12 Name']).size().reset_index(name='value')\n",
    "# puma_x_msa['CSA']=puma_x_msa.cbsa.map(cbsa_x_csa)\n",
    "# print(puma_x_msa.shape)\n",
    "# #puma_x_msa=puma_x_msa[puma_x_msa.CSA.notnull()]\n",
    "# print(puma_x_msa.shape)\n",
    "# puma_x_msa['CSA']=puma_x_msa['CSA'].fillna('Outside CBSA')"
   ]
  },
  {
   "cell_type": "code",
   "execution_count": 310,
   "metadata": {},
   "outputs": [
    {
     "data": {
      "text/html": [
       "<div>\n",
       "<style scoped>\n",
       "    .dataframe tbody tr th:only-of-type {\n",
       "        vertical-align: middle;\n",
       "    }\n",
       "\n",
       "    .dataframe tbody tr th {\n",
       "        vertical-align: top;\n",
       "    }\n",
       "\n",
       "    .dataframe thead th {\n",
       "        text-align: right;\n",
       "    }\n",
       "</style>\n",
       "<table border=\"1\" class=\"dataframe\">\n",
       "  <thead>\n",
       "    <tr style=\"text-align: right;\">\n",
       "      <th></th>\n",
       "      <th>cbsa</th>\n",
       "      <th>CBSA Name</th>\n",
       "      <th>STPUMA</th>\n",
       "      <th>PUMA12 Name</th>\n",
       "      <th>value</th>\n",
       "      <th>CSA</th>\n",
       "    </tr>\n",
       "  </thead>\n",
       "  <tbody>\n",
       "    <tr>\n",
       "      <th>2628</th>\n",
       "      <td>41500</td>\n",
       "      <td>Salinas, CA</td>\n",
       "      <td>0605301</td>\n",
       "      <td>Monterey County (North Central)--Seaside, Mont...</td>\n",
       "      <td>1</td>\n",
       "      <td>Outside CBSA</td>\n",
       "    </tr>\n",
       "  </tbody>\n",
       "</table>\n",
       "</div>"
      ],
      "text/plain": [
       "       cbsa    CBSA Name   STPUMA                                        PUMA12 Name  value           CSA\n",
       "2628  41500  Salinas, CA  0605301  Monterey County (North Central)--Seaside, Mont...      1  Outside CBSA"
      ]
     },
     "execution_count": 310,
     "metadata": {},
     "output_type": "execute_result"
    }
   ],
   "source": [
    "puma_x_msa[puma_x_msa.STPUMA=='0605301']"
   ]
  },
  {
   "cell_type": "code",
   "execution_count": 265,
   "metadata": {},
   "outputs": [
    {
     "data": {
      "text/html": [
       "<div>\n",
       "<style scoped>\n",
       "    .dataframe tbody tr th:only-of-type {\n",
       "        vertical-align: middle;\n",
       "    }\n",
       "\n",
       "    .dataframe tbody tr th {\n",
       "        vertical-align: top;\n",
       "    }\n",
       "\n",
       "    .dataframe thead th {\n",
       "        text-align: right;\n",
       "    }\n",
       "</style>\n",
       "<table border=\"1\" class=\"dataframe\">\n",
       "  <thead>\n",
       "    <tr style=\"text-align: right;\">\n",
       "      <th></th>\n",
       "      <th>ST</th>\n",
       "      <th>COUNTY</th>\n",
       "      <th>COUNTYNAME</th>\n",
       "      <th>MIGSP</th>\n",
       "      <th>MIGPUMA</th>\n",
       "      <th>STCOUNTY</th>\n",
       "      <th>MIGSTPUMA</th>\n",
       "      <th>CSA</th>\n",
       "      <th>CBSA</th>\n",
       "    </tr>\n",
       "  </thead>\n",
       "  <tbody>\n",
       "    <tr>\n",
       "      <th>0</th>\n",
       "      <td>01</td>\n",
       "      <td>001</td>\n",
       "      <td>Autauga County</td>\n",
       "      <td>001</td>\n",
       "      <td>02090</td>\n",
       "      <td>01001</td>\n",
       "      <td>00102090</td>\n",
       "      <td>Montgomery-Selma-Alexander City, AL</td>\n",
       "      <td>Montgomery, AL</td>\n",
       "    </tr>\n",
       "    <tr>\n",
       "      <th>1</th>\n",
       "      <td>01</td>\n",
       "      <td>003</td>\n",
       "      <td>Baldwin County</td>\n",
       "      <td>001</td>\n",
       "      <td>02600</td>\n",
       "      <td>01003</td>\n",
       "      <td>00102600</td>\n",
       "      <td>Mobile-Daphne-Fairhope, AL</td>\n",
       "      <td>Daphne-Fairhope-Foley, AL</td>\n",
       "    </tr>\n",
       "    <tr>\n",
       "      <th>2</th>\n",
       "      <td>01</td>\n",
       "      <td>005</td>\n",
       "      <td>Barbour County</td>\n",
       "      <td>001</td>\n",
       "      <td>02400</td>\n",
       "      <td>01005</td>\n",
       "      <td>00102400</td>\n",
       "      <td>Outside CSA</td>\n",
       "      <td>Eufaula, AL-GA</td>\n",
       "    </tr>\n",
       "    <tr>\n",
       "      <th>3</th>\n",
       "      <td>01</td>\n",
       "      <td>007</td>\n",
       "      <td>Bibb County</td>\n",
       "      <td>001</td>\n",
       "      <td>01700</td>\n",
       "      <td>01007</td>\n",
       "      <td>00101700</td>\n",
       "      <td>Birmingham-Hoover-Talladega, AL</td>\n",
       "      <td>Birmingham-Hoover, AL</td>\n",
       "    </tr>\n",
       "    <tr>\n",
       "      <th>4</th>\n",
       "      <td>01</td>\n",
       "      <td>009</td>\n",
       "      <td>Blount County</td>\n",
       "      <td>001</td>\n",
       "      <td>00800</td>\n",
       "      <td>01009</td>\n",
       "      <td>00100800</td>\n",
       "      <td>Birmingham-Hoover-Talladega, AL</td>\n",
       "      <td>Birmingham-Hoover, AL</td>\n",
       "    </tr>\n",
       "  </tbody>\n",
       "</table>\n",
       "</div>"
      ],
      "text/plain": [
       "   ST COUNTY      COUNTYNAME MIGSP MIGPUMA STCOUNTY MIGSTPUMA                                  CSA                       CBSA\n",
       "0  01    001  Autauga County   001   02090    01001  00102090  Montgomery-Selma-Alexander City, AL             Montgomery, AL\n",
       "1  01    003  Baldwin County   001   02600    01003  00102600           Mobile-Daphne-Fairhope, AL  Daphne-Fairhope-Foley, AL\n",
       "2  01    005  Barbour County   001   02400    01005  00102400                          Outside CSA             Eufaula, AL-GA\n",
       "3  01    007     Bibb County   001   01700    01007  00101700      Birmingham-Hoover-Talladega, AL      Birmingham-Hoover, AL\n",
       "4  01    009   Blount County   001   00800    01009  00100800      Birmingham-Hoover-Talladega, AL      Birmingham-Hoover, AL"
      ]
     },
     "execution_count": 265,
     "metadata": {},
     "output_type": "execute_result"
    }
   ],
   "source": [
    "migpumacodes=pd.read_excel('/Users/aolsen/Dropbox/Documents/Data/_Census/ACS/PUMS/2018/ACSPUMS2018CodeLists.xls',sheetname='MIGPUMA-POWPUMA 2018 lookup',\n",
    "                           skiprows=3,dtype=object,names=['ST','COUNTY','COUNTYNAME','MIGSP','MIGPUMA'])\n",
    "migpumacodes['STCOUNTY']=migpumacodes.ST+migpumacodes.COUNTY\n",
    "migpumacodes['MIGSTPUMA']=migpumacodes.MIGSP+migpumacodes.MIGPUMA\n",
    "migpumacodes=migpumacodes[migpumacodes.MIGSTPUMA.notnull()]\n",
    "migpumacodes['CSA']=migpumacodes.STCOUNTY.map(county_x_csa).fillna('Outside CSA')\n",
    "migpumacodes['CBSA']=migpumacodes.STCOUNTY.map(county_x_cbsa).fillna('Outside CBSA')\n",
    "migpumacodes.head()"
   ]
  },
  {
   "cell_type": "code",
   "execution_count": 346,
   "metadata": {},
   "outputs": [
    {
     "name": "stdout",
     "output_type": "stream",
     "text": [
      "(3397, 26)\n",
      "(3379, 26)\n"
     ]
    }
   ],
   "source": [
    "## PUMAs unioned with CBSAs\n",
    "\n",
    "puma_x_msas=gpd.read_file(os.path.join(drop,'Documents/Data/GIS/Census/PUMAs/cb_2017_u_us_puma_2010.shp'))\n",
    "puma_x_msas['area']=puma_x_msas.geometry.area\n",
    "puma_x_msas=puma_x_msas.rename(columns={'GEOID10':'STPUMA'})\n",
    "puma_x_msas.CSAFP=puma_x_msas.CSAFP.replace('None','Outside CSA').fillna('Outside CSA')\n",
    "puma_x_msas.CBSAFP=puma_x_msas.CBSAFP.replace('None','Outside CSA').fillna('Outside CBSA')\n",
    "puma_x_msas.NAME=puma_x_msas.NAME.fillna('Outside CBSA')\n",
    "puma_x_msas['CSANAME']=puma_x_msas.CBSAFP.map(cbsa_x_csa).fillna('Outside CSA')\n",
    "\n",
    "print(puma_x_msas.shape)\n",
    "puma_x_msas=puma_x_msas[puma_x_msas.STPUMA.notnull()]\n",
    "print(puma_x_msas.shape)"
   ]
  },
  {
   "cell_type": "code",
   "execution_count": 349,
   "metadata": {},
   "outputs": [],
   "source": [
    "## share of puma in a CBSA\n",
    "puma_x_cbsa=puma_x_msas.set_index(['STPUMA','NAME']).groupby(level=['STPUMA']).area.apply(pct).sort_index(level=0)"
   ]
  },
  {
   "cell_type": "code",
   "execution_count": 350,
   "metadata": {},
   "outputs": [],
   "source": [
    "## share of puma in a CBSA\n",
    "puma_x_csa=puma_x_msas.groupby(['STPUMA','CSANAME']).area.sum().groupby(level=['STPUMA']).apply(pct).sort_index(level=0)"
   ]
  },
  {
   "cell_type": "code",
   "execution_count": 357,
   "metadata": {},
   "outputs": [
    {
     "data": {
      "text/plain": [
       "CSANAME\n",
       "Outside CSA   1.00\n",
       "Name: area, dtype: float64"
      ]
     },
     "execution_count": 357,
     "metadata": {},
     "output_type": "execute_result"
    }
   ],
   "source": [
    "puma_x_csa.loc['0605301']"
   ]
  },
  {
   "cell_type": "code",
   "execution_count": 372,
   "metadata": {},
   "outputs": [],
   "source": [
    "## get largest puma-to-csa polygon\n",
    "#puma_x_csa=puma_x_msas.dissolve(by=['STPUMA','CSAFP']).groupby(level=['STPUMA']).area.apply(pct).sort_index(level=0)\n",
    "puma_x_csa_map=puma_x_csa.groupby(level=['STPUMA'],group_keys=False).nlargest(1).reset_index(level=1).CSANAME#.map(ombdata.groupby(['CSA Code'])['CSA Title'].first())"
   ]
  },
  {
   "cell_type": "code",
   "execution_count": 609,
   "metadata": {},
   "outputs": [
    {
     "data": {
      "text/plain": [
       "u'Salinas, CA'"
      ]
     },
     "execution_count": 609,
     "metadata": {},
     "output_type": "execute_result"
    }
   ],
   "source": [
    "puma_x_cbsa_map.loc['0605301']"
   ]
  },
  {
   "cell_type": "code",
   "execution_count": 610,
   "metadata": {},
   "outputs": [],
   "source": [
    "## get largest puma-to-cbsa polygon\n",
    "puma_x_cbsa_map=puma_x_cbsa.groupby(level=['STPUMA'],group_keys=False).nlargest(1).reset_index(level=1).NAME"
   ]
  },
  {
   "cell_type": "code",
   "execution_count": 611,
   "metadata": {},
   "outputs": [
    {
     "data": {
      "text/plain": [
       "'San Francisco Bay Area'"
      ]
     },
     "execution_count": 611,
     "metadata": {},
     "output_type": "execute_result"
    }
   ],
   "source": [
    "puma_x_csa_map.loc['0608502']"
   ]
  },
  {
   "cell_type": "code",
   "execution_count": 605,
   "metadata": {},
   "outputs": [],
   "source": [
    "## replace any bay area county with 'San Francisco Bay Area' instead of CSA name since that is the region for RHNA\n",
    "\n",
    "puma_x_csa_map.loc[puma_x_csa_map[puma_x_csa_map.index.str.slice(0,5).isin(bayareafips_full)].index]='San Francisco Bay Area'\n",
    "\n",
    "## override remainder with Halo \n",
    "\n",
    "puma_x_csa_map.loc[puma_x_csa_map=='San Jose-San Francisco-Oakland, CA']='San Francisco Bay Area Halo'"
   ]
  },
  {
   "cell_type": "code",
   "execution_count": 608,
   "metadata": {},
   "outputs": [
    {
     "data": {
      "text/plain": [
       "<matplotlib.axes._subplots.AxesSubplot at 0x14ce9eb90>"
      ]
     },
     "execution_count": 608,
     "metadata": {},
     "output_type": "execute_result"
    },
    {
     "data": {
      "image/png": "[encoded data removed]",
      "text/plain": [
       "<Figure size 648x432 with 1 Axes>"
      ]
     },
     "metadata": {},
     "output_type": "display_data"
    }
   ],
   "source": [
    "## load file relating PUMAs to CSAs\n",
    "## I only use this for visualization; it is not actually used downstream.\n",
    "\n",
    "uspumas=gpd.read_file(os.path.join(drop,'Documents/Data/GIS/Census/PUMAs/2010/tl_2015_00_puma10_merged.shp'))\n",
    "\n",
    "uspumas['CSA']=uspumas.GEOID10.map(puma_x_csa_map)\n",
    "uspumas['CSA']=uspumas['CSA'].fillna('Outside CSA')\n",
    "uspumas['STCOUNTY']=uspumas.GEOID10.str.slice(0,5)\n",
    "\n",
    "uspumas.loc[uspumas.CSA.str.contains('San Francisco Bay Area$')].plot()"
   ]
  },
  {
   "cell_type": "markdown",
   "metadata": {},
   "source": [
    "### Define various convenience functions"
   ]
  },
  {
   "cell_type": "code",
   "execution_count": 386,
   "metadata": {},
   "outputs": [],
   "source": [
    "## adapted from @PiHalbe at http://stackoverflow.com/a/28720410/453343\n",
    "\n",
    "def weighted_quantile_df(df, val, quantiles, wgt, values_sorted=False, old_style=False,check_recs=False):\n",
    "    \n",
    "    \"\"\" Very close to numpy.percentile, but supports weights.\n",
    "    NOTE: quantiles should be in [0, 1]!\n",
    "    :param values: numpy.array with data\n",
    "    :param quantiles: array-like with many quantiles needed\n",
    "    :param sample_weight: array-like of the same length as `array`\n",
    "    :param values_sorted: bool, if True, then will avoid sorting of initial array\n",
    "    :param old_style: if True, will correct output to be consistent with numpy.percentile.\n",
    "    :return: pandas series with computed quantiles.\n",
    "    \"\"\"\n",
    "     \n",
    "    quantile_names = [\"quant_{qt:.0f}\".format(qt=x*100) for x in quantiles]\n",
    "    #values = numpy.array(values)\n",
    "    df = df[~df[val].isnull()].copy()\n",
    "    values = df[val].values\n",
    "    quantiles = numpy.array(quantiles)\n",
    "    sample_weight = df[wgt].values\n",
    "    assert numpy.all(quantiles >= 0) and numpy.all(quantiles <= 1), 'quantiles should be in [0, 1]'\n",
    "\n",
    "    if not values_sorted:\n",
    "        sorter = np.argsort(values)\n",
    "        values = values[sorter]\n",
    "        sample_weight = sample_weight[sorter]\n",
    "    weighted_quantiles = sample_weight.cumsum() - 0.5 * sample_weight\n",
    "    weighted_quantiles /= sample_weight.sum()\n",
    "    \n",
    "    if check_recs:\n",
    "        return df.shape[0]\n",
    "    return pd.Series(np.interp(quantiles, weighted_quantiles, values),index=quantile_names)\n",
    "    #return numpy.interp(quantiles, weighted_quantiles, values)\n",
    "\n",
    "## from @PiHalbe at http://stackoverflow.com/a/28720410/453343\n",
    "\n",
    "def weighted_quantile(values, quantiles, sample_weight=None, values_sorted=False, old_style=False):\n",
    "    \n",
    "    \"\"\" Very close to numpy.percentile, but supports weights.\n",
    "    NOTE: quantiles should be in [0, 1]!\n",
    "    :param values: numpy.array with data\n",
    "    :param quantiles: array-like with many quantiles needed\n",
    "    :param sample_weight: array-like of the same length as `array`\n",
    "    :param values_sorted: bool, if True, then will avoid sorting of initial array\n",
    "    :param old_style: if True, will correct output to be consistent with numpy.percentile.\n",
    "    :return: numpy.array with computed quantiles.\n",
    "    \"\"\"\n",
    "    \n",
    "    if len(values)>0:\n",
    "        values = numpy.array(values)\n",
    "        quantiles = numpy.array(quantiles)\n",
    "        if sample_weight is None:\n",
    "            sample_weight = numpy.ones(len(values))\n",
    "        sample_weight = numpy.array(sample_weight)\n",
    "        assert numpy.all(quantiles >= 0) and numpy.all(quantiles <= 1), 'quantiles should be in [0, 1]'\n",
    "\n",
    "        if not values_sorted:\n",
    "            sorter = numpy.argsort(values)\n",
    "            values = values[sorter]\n",
    "            sample_weight = sample_weight[sorter]\n",
    "\n",
    "        weighted_quantiles = numpy.cumsum(sample_weight) - 0.5 * sample_weight\n",
    "        if old_style:\n",
    "            # To be convenient with numpy.percentile\n",
    "            weighted_quantiles -= weighted_quantiles[0]\n",
    "            weighted_quantiles /= weighted_quantiles[-1]\n",
    "        else:\n",
    "            weighted_quantiles /= numpy.sum(sample_weight)\n",
    "        return numpy.interp(quantiles, weighted_quantiles, values)\n",
    "    else: \n",
    "        return np.nan"
   ]
  },
  {
   "cell_type": "code",
   "execution_count": 387,
   "metadata": {},
   "outputs": [],
   "source": [
    "## function to be passed by groupby.apply to returned weighted estimate - does replicate weights standard errors\n",
    "\n",
    "def weighted_var_SE(frame,var,weight):\n",
    "    \"\"\"\n",
    "    Takes ungrouped observations, splits into groups, applies the logic below, and combines groups into one table. \n",
    "    Needs the numeric variable (var) as well as the group by varible (group, as a list) to be passed.\n",
    "    \"\"\"\n",
    "    \n",
    "    ## A: calculates the weigted value of var x at the level of each observation\n",
    "    ## main estimate\n",
    "    #weighted_x = frame.ix[:,weight].mul(frame[var],axis=0)\n",
    "    weighted_x = frame[weight]*frame[var]\n",
    "\n",
    "    repwgts=frame.filter(regex=weight+'\\d{1,3}').mul(frame[var], axis=0)\n",
    "    repwgts_estimates=repwgts.sum()/frame.filter(regex=weight+'\\d{1,3}').sum()\n",
    "    \n",
    "    estimate=weighted_x.sum()/frame[weight].sum()\n",
    "    \n",
    "    ## loop through each rep weight column, calculate sq difference with main weight     \n",
    "    \n",
    "    squared_difference=0\n",
    "    for rw in repwgts_estimates:\n",
    "        squared_difference = squared_difference + (rw - estimate)**2\n",
    "    \n",
    "    variance =(4/80.)*squared_difference\n",
    "    standard_error = (variance)**.5\n",
    "    coefficient_of_variation = standard_error/estimate\n",
    "    moe = standard_error * 1.645\n",
    "    ci_upper = estimate + moe\n",
    "    ci_lower = estimate - moe\n",
    "    \n",
    "    #return pd.DataFrame(data={'Total':primaryWeightSum,'se':standard_error,'coef_det':standard_error/primaryWeightSum})\n",
    "    ## nov 2015--replaced with series to not have to pass index\n",
    "    \n",
    "    samplerecs = frame.shape[0]\n",
    "    \n",
    "    output = pd.Series({'estimate':estimate,'ci_upper':ci_upper,'ci_lower':ci_lower if ci_lower>0 else 0 ,\n",
    "                      'se':standard_error,'moe':moe,'coef_variation':standard_error/estimate,'sample_recs':samplerecs})\n",
    "    output.index=output.index.astype(CategoricalDtype(categories=['estimate','ci_lower','ci_upper','moe','se','coef_variation','sample_recs'],ordered=True))\n",
    "    return output.sort_index()\n",
    "    \n",
    "#     return repwgts_estimates\n",
    "#     try:\n",
    "#         ## sums A for the group and divides by weighted sum of records. Returns one value for each group.\n",
    "#         estimate=weighted_x.sum()/frame[weight].sum()\n",
    "    \n",
    "#     except ZeroDivisionError:\n",
    "#         #raise\n",
    "#         print \"bummer, zero division error in %s\" %len(weighted_x)\n",
    "#         ## this seems like a hack job--but it appears kosher--we only go here if np.sum(frame.WGTP) is 0.\n",
    "#         ## If np.sum(frame.WGTP) is 0, the numerator is also 0 anyway. \n",
    "        \n",
    "#         ## if there are no records in a particular group\n",
    "#         estimate =0 \n",
    "#     return pd.Series({var:estimate})\n",
    "#persons.loc[(persons.JWMNP>0)&(persons.YEAR>2011)].groupby(grp).apply(weighted_var_SE,'JWMNP',weight='PWGTP')#.sort_index()\n",
    "\n",
    "def simple_estimate_SE(df,weight='PWGTP',years=1):\n",
    "    \n",
    "    \n",
    "    ## A: calculates the weigted value of var x at the level of each observation\n",
    "    \n",
    "    ## col names\n",
    "    weights = [weight]+df.filter(like=weight, axis=1).columns.tolist()\n",
    "\n",
    "    \n",
    "    ## 1: calculate 81 estimates (the last 80 being replicates)\n",
    "    ## sums weights for subset of records for each replicate\n",
    "    \n",
    "    estcol = df.ix[:,weights].sum(axis=0)\n",
    "    \n",
    "    ## 2: Store primary weight separately\n",
    "    primary = estcol[weight] / (years*1.)\n",
    "      \n",
    "    squared_difference=0\n",
    "    \n",
    "    primaryWeightSum = primary\n",
    "    #replicateWeightsSum =pd.Series(estcol).sum() \n",
    "    \n",
    "    ## loop through each rep weight column, calculate sq difference with main weight     \n",
    "    \n",
    "    for est in estcol.iloc[1:]:\n",
    "        squared_difference = squared_difference + (est/(years*1.) - primaryWeightSum)**2\n",
    "    \n",
    "    variance =(4/80.)*squared_difference\n",
    "    standard_error = (variance)**.5\n",
    "    coefficient_of_variation = standard_error/primaryWeightSum\n",
    "    moe = standard_error * 1.645\n",
    "    ci_upper = np.ceil(primaryWeightSum + moe)\n",
    "    ci_lower = np.ceil(primaryWeightSum - moe)\n",
    "    \n",
    "    #return pd.DataFrame(data={'Total':primaryWeightSum,'se':standard_error,'coef_det':standard_error/primaryWeightSum})\n",
    "    ## nov 2015--replaced with series to not have to pass index\n",
    "    \n",
    "    samplerecs = df.shape[0]\n",
    "    \n",
    "    return pd.Series({'Total':int(primaryWeightSum),'ci_upper':ci_upper,'ci_lower':ci_lower if ci_lower>0 else 0 ,\n",
    "                      'se':standard_error,'moe':moe,'coef_variation':standard_error/primaryWeightSum,'sample_recs':samplerecs})\n",
    "\n",
    "def group_median(frame,var,group):\n",
    "    ## calculate 81 estimates (the last 80 being replicates)\n",
    "    #val= pd.DataFrame(data={var:rep_estimate},ignore_index=True)\n",
    "    estcol = [] # weight collection\n",
    "    primary=[] # holder of the main estimate\n",
    "    \n",
    "    ## expanded array\n",
    "    #weighted_x = frame[w]*frame[var]  \n",
    "    #repl_estimate=weighted_x.sum()/frame[w].sum()\n",
    "    #estcol.append(repl_estimate)\n",
    "\n",
    "    #print \"recs in grp %s: %s--now calculating estimate for weight %s\" %('-'.join([str(k) for k in (frame.iloc[0,group].values.tolist())]),frame[var].shape[0],w)\n",
    "    val_sorted=pd.Series(np.repeat(frame[var].values.tolist(), frame.PWGTP.values.tolist())).sort_values(inplace=False)#iloc[]\n",
    "\n",
    "    ## find midpoint\n",
    "    if val_sorted.shape[0] % 2==0:\n",
    "        wm= (val_sorted.iloc[(val_sorted.shape[0]/2)]+\n",
    "            val_sorted.iloc[(val_sorted.shape[0]/2)+1])/2\n",
    "    else:\n",
    "        wm = val_sorted.iloc[val_sorted.shape[0]/2]\n",
    "    \n",
    "    return pd.Series({var:[wm],\n",
    "                              'recs':frame.shape[0],'pop':frame['PWGTP'].sum()})"
   ]
  },
  {
   "cell_type": "code",
   "execution_count": 388,
   "metadata": {},
   "outputs": [],
   "source": [
    "def simple_estimate_SE(df,weight='PWGTP',years=1):\n",
    "    \n",
    "    \"\"\"\n",
    "    applied to groupby object (frame is self). \n",
    "    Takes ungrouped observations, splits into groups, applies the logic below, and combines groups into one table. \n",
    "    Needs the numeric variable (var) as well as the group by varible (group, as a list) to be passed.\n",
    "    \n",
    "    :param var: value to be weighted, e.g. income\n",
    "    :param weight: weight to be summed (i.e. counting observations, not weighting some var)\n",
    "    \n",
    "    :return: pandas series\n",
    "    \"\"\"\n",
    "    \n",
    "    ## A: calculates the weigted value of var x at the level of each observation\n",
    "    \n",
    "    ## col names\n",
    "    estcol = df.filter(regex=weight).sum()\n",
    "    \n",
    "    ## 2: Store primary weight separately\n",
    "    primary = estcol[weight] / (years*1.)\n",
    "      \n",
    "    squared_difference=0\n",
    "    \n",
    "    primaryWeightSum = primary\n",
    "    \n",
    "    ## loop through each rep weight column, calculate sq difference with main weight     \n",
    "    \n",
    "    for est in estcol.iloc[1:]:\n",
    "        squared_difference = squared_difference + (est/(years*1.) - primaryWeightSum)**2\n",
    "    \n",
    "    variance =(4./80.)*squared_difference\n",
    "    standard_error = (variance)**.5\n",
    "    coefficient_of_variation = standard_error/primaryWeightSum\n",
    "    moe = standard_error * 1.645  ## reflects a 90% moe assumption per the census bureau\n",
    "    ci_upper = np.ceil(primaryWeightSum + moe)\n",
    "    ci_lower = np.ceil(primaryWeightSum - moe)\n",
    "    \n",
    "    samplerecs = df.shape[0]\n",
    "    \n",
    "    return pd.Series({'estimate':int(primaryWeightSum),'ci_upper':ci_upper,'ci_lower':ci_lower if ci_lower>0 else 0 ,\n",
    "                      'se':standard_error,'coef_variation':standard_error/primaryWeightSum,'sample_recs':samplerecs})\n",
    "\n",
    "def group_median_SE_ALT(frame,var,percentile,weight='PWGTP',SE=True):\n",
    "    \n",
    "    #percentile = 50\n",
    "    out = {}\n",
    "    for perc in percentile:\n",
    "        frame = frame[~frame[var].isnull()].copy()\n",
    "\n",
    "        ## calculate 81 estimates (the last 80 being replicates)\n",
    "        estcol_median =[]\n",
    "        primary=[] # holder of the main estimate\n",
    "\n",
    "        weights = [weight]+frame.filter(like=weight, axis=1).columns.tolist()\n",
    "        \n",
    "        ## expanded, sort array according to main, replicate weights\n",
    "\n",
    "        for w in weights: ##passing vertical series, getting back just a scalar\n",
    "            wm =weighted_quantile(frame[var].values,perc/100.,frame[w].values)\n",
    "            #print wm,\n",
    "            ## wm is a scalar not a vector, so after loop we will have 81 estimates in list\n",
    "            estcol_median.append(wm)\n",
    "\n",
    "        ## just grab the primary weight for simplicity so we don't confuse with the replicates\n",
    "        primary = estcol_median[0]\n",
    "        \n",
    "        if SE:\n",
    "            ## then adjust the weight colleciton so it is just the replicates\n",
    "            estcol_median=estcol_median[1:]\n",
    "\n",
    "            squared_difference_median=0\n",
    "\n",
    "            ## loop through each rep weight column, calculate sq difference with main weight     \n",
    "\n",
    "            squared_difference_median = np.sum((np.asarray(estcol_median)-np.asarray(primary))**2)\n",
    "            variance_median =(4/80.)*squared_difference_median\n",
    "            standard_error_median = ((variance_median)**.5)\n",
    "\n",
    "            coefficient_of_variation_median = 1.*standard_error_median/primary\n",
    "\n",
    "            moe = standard_error_median * 1.645\n",
    "            ci_upper = primary + moe #np.ceil(primary + moe)\n",
    "            ci_lower = primary - moe #np.ceil(primary - moe)\n",
    "\n",
    "            #print primaryWeightSum\n",
    "            out['percentile_%s'%perc]= pd.Series({'estimate':primary,\n",
    "                                      #var+'_mean':[estcol_mean[0]],\n",
    "                                      'se_median':standard_error_median,#/1*1,\n",
    "                                      #'se_mean':standard_error_mean,\n",
    "                                      'cv_median':coefficient_of_variation_median,\n",
    "                              'ci_upper':ci_upper,'ci_lower':ci_lower if ci_lower>0 else 0,\n",
    "\n",
    "                                      'recs':frame.shape[0],'pop':frame[weight].sum()})\n",
    "        else:\n",
    "            \n",
    "\n",
    "            out['percentile_%s'%perc]= pd.Series({'estimate':primary,\n",
    "                                      'recs':frame.shape[0],\n",
    "                                  'pop':frame[weight].sum()})\n",
    "    return pd.concat(out)\n",
    "\n",
    "def group_median_SE_w_ratio(frame,var,percentile,weight='PWGTP',SE=True):\n",
    "    \"\"\"\n",
    "    calculates 80-20 ratios of var and provides confidence intervals\n",
    "    \"\"\"\n",
    "    #percentile = 50\n",
    "    out = {}\n",
    "    pctkeep ={}\n",
    "    frame = frame[~frame[var].isnull()].copy()\n",
    "\n",
    "    ## calculate 81 estimates (the last 80 being replicates)\n",
    "    estcol_median =[]\n",
    "    primary=[] # holder of the main estimate\n",
    "\n",
    "    weights = [weight]+frame.filter(like=weight, axis=1).columns.tolist()\n",
    "    #return frame[weights[1]].sum(axis=0)\n",
    "    ## expanded, sort array according to main, replicate weights\n",
    "    #return frame[var].values\n",
    "    for w in weights: ##passing vertical series, getting back just a scalar\n",
    "        for perc in percentile:\n",
    "            wm =weighted_quantile(frame[var].values,perc/100.,frame[w].values)\n",
    "            #print w,wm\n",
    "            pctkeep[(w,perc)]=wm\n",
    "            ## wm is a scalar not a vector, so after loop we will have 81 estimates in list\n",
    "            #estcol_median.append(wm)\n",
    "    result_1 = pd.Series(pctkeep)\n",
    "    result_1=result_1.swaplevel(1,0)\n",
    "    result_2 = result_1.xs(np.max(percentile))/result_1.xs(np.min(percentile))\n",
    "    \n",
    "    ## Standard errors\n",
    "    ## loop through each rep weight column, calculate sq difference with main weight     \n",
    "\n",
    "    squared_difference_median = np.sum((np.asarray(result_2[1:])-np.asarray(result_2[0]))**2)\n",
    "    variance_median =(4/80.)*squared_difference_median\n",
    "    standard_error_median = ((variance_median)**.5)\n",
    "\n",
    "    coefficient_of_variation_median = 1.*standard_error_median/result_2[0]\n",
    "\n",
    "    moe = standard_error_median * 1.645\n",
    "    ci_upper = result_2[0] + moe #np.ceil(primary + moe)\n",
    "    ci_lower = result_2[0] - moe #np.ceil(primary - moe)\n",
    "\n",
    "    #print primaryWeightSum\n",
    "    out = pd.Series({'estimate':result_2[0],\n",
    "                              #var+'_mean':[estcol_mean[0]],\n",
    "                              #'se_median':int(standard_error_median/1)*1,\n",
    "                              #'se_mean':standard_error_mean,\n",
    "                              #'cv_median':coefficient_of_variation_median,\n",
    "                              'ci_upper':ci_upper,'ci_lower':ci_lower if ci_lower>0 else 0,\n",
    "\n",
    "                              'recs':frame.shape[0],'pop':frame[weight].sum()})\n",
    "    return out"
   ]
  },
  {
   "cell_type": "code",
   "execution_count": 389,
   "metadata": {},
   "outputs": [],
   "source": [
    "import re, io, numpy as np\n",
    "from cStringIO import StringIO \n",
    "    \n",
    "def map_value_labels(codes_pasted,var):\n",
    "    \"\"\"\n",
    "    Reads pasted id:value correspondence and prepares a \n",
    "    id:value dictionary to be used for mapping\n",
    "    \"\"\"\n",
    "    \n",
    "    ## substitute out dots and leading space\n",
    "    codes_pasted = re.sub(r' \\.','\\t', codes_pasted)\n",
    "    \n",
    "    ## read code string as if it were a file object, store in dataframe\n",
    "    df_codes = pd.read_csv(StringIO(codes_pasted), \n",
    "                           encoding='utf8', sep=\"\\t\",\n",
    "                           header=None if os.name=='posix' else None,\n",
    "                           names=['id','value'],\n",
    "                           dtype={'id': object, 'value': object})\n",
    "    \n",
    "    df_codes['value']=df_codes['value'].apply(lambda x: str(x).strip())\n",
    "    \n",
    "    df_codes.index=df_codes.id.astype(np.int64)\n",
    "    df_codes=df_codes['value'].to_dict()\n",
    "    #print df_codes\n",
    "    ## store output in a dict keyed on the variable name, with the codes being the values\n",
    "    d={}\n",
    "    d[var]=df_codes\n",
    "    return d\n",
    "\n",
    "def assign_value_labels(df,value_map,years=range(2006,2018),target=None):\n",
    "    \"\"\"\n",
    "    performs actual assignment. Takes dataframe and dict from map_value_labels\n",
    "    \"\"\"\n",
    "    ##prepare to write encoding back to data--store in separate variable\n",
    "    var = value_map.keys()[0]\n",
    "    \n",
    "    ## allow for possibility of assigning a different name to the original census variable.\n",
    "    ## default is just an '_l' suffix, but since we may want to have different codings of the same variable\n",
    "    ## allowing a separate name is useful.\n",
    "    \n",
    "    if target is None:\n",
    "        target = \"%s_l\"%var\n",
    "    print \"Adding variable %s to df\" %target\n",
    "    df.ix[df.YEAR.isin(years),target] = df.ix[df.YEAR.isin(years),var].map(value_map[var])   \n",
    "    \n",
    "    print df[target].head(2)\n",
    "    "
   ]
  },
  {
   "cell_type": "code",
   "execution_count": 390,
   "metadata": {},
   "outputs": [],
   "source": [
    "def agebreaker(breaks,prefix='age'):\n",
    "    labels=[]\n",
    "    for f in range(len(breaks)-1):\n",
    "        labels.append(\"{prefix}{fr:02.0f}{to:02.0f}\".format(fr=breaks[f],to=breaks[f+1]-1,prefix=prefix))\n",
    "    labels[-1]='{prefix}{dt:,.0f}p'.format(dt=breaks[-2],prefix=prefix)\n",
    "    return labels\n",
    "\n",
    "def agebreaker(breaks,prefix='ag',topcode=True):\n",
    "    labels=[]\n",
    "    for f in range(len(breaks)-1):\n",
    "        labels.append(\"{pre}{fr:02.0f}-{to:02.0f}\".format(fr=breaks[f],to=breaks[f+1]-1,pre=prefix))\n",
    "#difflabels[0]='{dt:,.0f}'.format(dt=diffbreaks[1])\n",
    "    if topcode:\n",
    "        labels[-1]='{pre}{dt:.0f}p'.format(dt=breaks[-2],pre=prefix)\n",
    "        \n",
    "    return labels\n",
    "#agebreaker(range(0,86,5),prefix='ag')\n",
    "\n",
    "\n",
    "def agebreaker2(breaks):\n",
    "    labels=[]\n",
    "    for f in range(len(breaks)-1):\n",
    "        labels.append(\"Ages {fr:.0f}-{to:.0f}\".format(fr=breaks[f],to=breaks[f+1]-1))\n",
    "    labels[-1]='Ages {dt:,.0f}+'.format(dt=breaks[-2])\n",
    "    return labels\n",
    "\n",
    "diffbreaks_5 =range(0,86,5)+[np.inf]\n",
    "diffbreaks_custom =[0,18,25,45,65,np.inf]\n",
    "diffbreaks_custom =[0,20,30,65,np.inf]\n",
    "diffbreaks_coarse =range(20,90,5)+[np.inf]\n"
   ]
  },
  {
   "cell_type": "code",
   "execution_count": 21,
   "metadata": {},
   "outputs": [],
   "source": [
    "pct=lambda x: x/x.sum()"
   ]
  },
  {
   "cell_type": "code",
   "execution_count": 277,
   "metadata": {},
   "outputs": [],
   "source": [
    "## various classifications / codings\n",
    "\n",
    "def place_of_birth(x):\n",
    "    if x==6:\n",
    "        return 'Born in CA'\n",
    "    elif x<100:\n",
    "        return 'Born in US / terr.'\n",
    "    else:\n",
    "        return 'Born abroad'\n",
    "\n",
    "def nativity(df):\n",
    "    if df.POBP==6:\n",
    "        return 'Born in CA'\n",
    "    elif df.POBP<100:\n",
    "        return 'Born in US / terr.'\n",
    "    else: ## abroad\n",
    "        if df.YEAR-df.YOEP<=20:\n",
    "            return 'Foreign abroad, lt 20 yrs in US'\n",
    "        else:\n",
    "            return 'Foreign abroad, 20+ yrs in US'\n",
    "\n",
    "def hhsize(s,na_string='GQ/vacant',breaking=4,prefix=''):\n",
    "    if s==-1:\n",
    "        return na_string\n",
    "    if 0 <= s< breaking :\n",
    "        return \"{}{:.0f}\".format(prefix,s)\n",
    "    else:\n",
    "        return \"{}{}\".format(prefix,breaking)\n",
    "    \n",
    "def has_senior(s):\n",
    "    if s==-1:\n",
    "        return 'NA'\n",
    "    elif s>=65:\n",
    "        return 'senior householder'\n",
    "    else:\n",
    "        return 'no senior householder'\n",
    "        \n",
    "\n",
    "def adult_child(df):\n",
    "\n",
    "    if 2006<= df.YEAR <2008:\n",
    "        if (df.RELP==2) or (df.RELP==3) :\n",
    "            if 18 <= df.AGEP <=39:\n",
    "                return \"Young adult children at home\"\n",
    "            else:\n",
    "                return \"Other children at home\"\n",
    "        else:\n",
    "            return 'No children in home'\n",
    "    elif df.YEAR>2007:\n",
    "        if (df.RELP==2) or (df.RELP==3)  or (df.RELP==4):\n",
    "            if 18 <= df.AGEP <=39:\n",
    "                return \"Young adult children at home\"\n",
    "            else:\n",
    "                return \"Other children at home\"\n",
    "        else:\n",
    "            return 'No children in home'\n",
    "def race_eth(df):\n",
    "    if df.name>1:\n",
    "        return 'Hispanic'\n",
    "    else:\n",
    "        return df+'-NonHispanic'\n",
    "    \n",
    "\n",
    "def ami_classifier(df):\n",
    "    \"\"\"\n",
    "        very low -        0-50% AMI\n",
    "        low -        50-80% AMI\n",
    "        moderate -        80-120% AMI\n",
    "        high-        120-150% AMI\n",
    "        very high-        150% and above AMI\n",
    "    \"\"\"\n",
    "    vlow = df.HINCP_adj_median *.5\n",
    "    low  = df.HINCP_adj_median *.8\n",
    "    moderate = df.HINCP_adj_median *1.2\n",
    "    high = df.HINCP_adj_median *1.5\n",
    "    return pd.Series(data=[vlow,low,moderate,high])\n",
    "def ami_classifier(df):\n",
    "    \"\"\"\n",
    "        very low -        0-60% AMI\n",
    "        low -        60-80% AMI\n",
    "        moderate -        80-120% AMI\n",
    "        high-        120-150% AMI\n",
    "        very high-        150% and above AMI\n",
    "    \"\"\"\n",
    "    vlow = df.estimate *.6\n",
    "    #low  = df.HINCP_adj_median *.8\n",
    "    moderate = df.estimate *1.2\n",
    "    high = df.estimate *1.5\n",
    "    return pd.Series(data=[vlow,moderate,np.inf])\n",
    "## simplest version of making formated labels\n",
    "\n",
    "def label_formatter(breaks,currency=False):\n",
    "    if breaks[0]!=0:\n",
    "        breaks.insert(0,0)\n",
    "    diff=np.diff(breaks).tolist()\n",
    "    ## make tuples of *breaks* and length of intervals\n",
    "    joint = list(zip(breaks,diff))\n",
    "    if currency:\n",
    "        labels = [\"${left:,.0f} to ${right:,.0f}\".format(left=yr[0], right=yr[0]+yr[1]-1) for yr in joint]\n",
    "        s1 = \"${left:,.0f} to ${right:,.0f}\"\n",
    "        s2=\"${left:,.0f} +\"\n",
    "    else:\n",
    "        labels = [\"{left:,.0f} to {right:,.0f}\".format(left=yr[0], right=yr[0]+yr[1]-1) for yr in joint]\n",
    "        s1 = \"{left:,.0f} to {right:,.0f}\"\n",
    "        s2=\"{left:,.0f} +\"\n",
    "    \n",
    "    \n",
    "    labels = [s1.format(left=yr[0], right=yr[0]+yr[1]-1) if not np.isinf(yr[1]) else s2.format(left=yr[0]) for yr in joint ]\n",
    "    return labels\n",
    "## floats\n",
    "def floatlabels(s,prec=3):\n",
    "    #nudge=10 ** -(prec+1)\n",
    "    nudge=0\n",
    "    outlist=[]\n",
    "    i=0\n",
    "    #for i, x in enumerate(s):\n",
    "    ## precision passed as parameter\n",
    "    \"{num:,.{prec:}f}$\".format(prec=6,num=1000.33333)\n",
    "    for i in range(len(s)):\n",
    "        if i==0: ## first item\n",
    "            ## add outer bound\n",
    "            outlist.append('LT {num:,.{prec:}f}'.format(num=s[0],prec=prec))\n",
    "            ## but also add from this item to the next one\n",
    "            outlist.append('{fr:,.{prec:}f} -> {to:,.{prec:}f}'.format(fr=s[i],to=s[i+1]-nudge,prec=prec))\n",
    "        elif i==len(s)-1:  ## last item\n",
    "            outlist.append('{num:,.{prec:}f}+'.format(num=s[-1],prec=prec))\n",
    "        else:# i<len(s)-2:\n",
    "            outlist.append('{fr:,.{prec:}f} -> {to:,.{prec:}f}'.format(fr=s[i],to=s[i+1]-nudge,prec=prec))\n",
    "    return outlist\n",
    "\n",
    "## floats\n",
    "def floatlabels(s,prec=3):\n",
    "    #nudge=10 ** -(prec+1)\n",
    "    nudge=0\n",
    "    outlist=[]\n",
    "    i=0\n",
    "    #for i, x in enumerate(s):\n",
    "    ## precision passed as parameter\n",
    "    \"{num:,.{prec:}f}$\".format(prec=6,num=1000.33333)\n",
    "    for i in range(len(s)):\n",
    "        #if i==0: ## first item\n",
    "            ## add outer bound\n",
    "       #     outlist.append('LT {num:,.{prec:}f}'.format(num=s[0],prec=prec))\n",
    "            ## but also add from this item to the next one\n",
    "       #     outlist.append('{fr:,.{prec:}f} -> {to:,.{prec:}f}'.format(fr=s[i],to=s[i+1]-nudge,prec=prec))\n",
    "        #    pass\n",
    "        if i==len(s)-1:  ## last item\n",
    "            outlist.append('{num:,.{prec:}f}+'.format(num=s[-1],prec=prec))\n",
    "        else:# i<len(s)-2:\n",
    "            outlist.append('{fr:,.{prec:}f} -> {to:,.{prec:}f}'.format(fr=s[i],to=s[i+1]-nudge,prec=prec))\n",
    "    return outlist\n",
    "bins=[-np.inf]+list(np.arange(-1,1.1,.5))+[np.inf]\n",
    "bins=np.arange(-1,1.01,.1)\n",
    "floatlabels(bins,prec=2)\n",
    "#np.arange(-1,1.1,.5)\n",
    "#np.arange(-1,1.01,.05)\n",
    "\n",
    "\n",
    "bins=[-np.inf]+list(np.arange(-1,1.1,.5))+[np.inf]\n",
    "bins=np.arange(-1,1.01,.1)\n",
    "#floatlabels(bins,prec=2)"
   ]
  },
  {
   "cell_type": "markdown",
   "metadata": {},
   "source": [
    "### Define data dictionaries, mostly from PUMS data dictionary"
   ]
  },
  {
   "cell_type": "code",
   "execution_count": 546,
   "metadata": {},
   "outputs": [],
   "source": [
    "codesvacant=\"\"\"\n",
    "1 .For rent\n",
    "2 .Rented, not occupied\n",
    "3 .For sale only\n",
    "4 .Sold, not occupied\n",
    "5 .For seasonal/recreational/occasional use\n",
    "6 .For migrant workers\n",
    "7 .Other vacant\n",
    "\"\"\"\n",
    "\n",
    "codesvacant2=\"\"\"\n",
    "1 .Rented\n",
    "2 .Rented\n",
    "3 .Owned\n",
    "4 .Owned\n",
    "5 .Other vacant\n",
    "6 .Other vacant\n",
    "7 .Other vacant\n",
    "\"\"\"\n",
    "\n",
    "codesvacant2=\"\"\"\n",
    "1 .Rented\n",
    "2 .Other vacant\n",
    "3 .Owned\n",
    "4 .Other vacant\n",
    "5 .Other vacant\n",
    "6 .Other vacant\n",
    "7 .Other vacant\n",
    "\"\"\"\n",
    "\n",
    "## WARNING: VALID FROM 2009 and later. In earlier years, the coding was reverse--\"1\" was the most recent year,\n",
    "## so coding switched every year.\n",
    "codesYBL=\"\"\"\n",
    "            01     .1939 or earlier\n",
    "            02     .1940 to 1949\n",
    "            03     .1950 to 1959\n",
    "            04     .1960 to 1969\n",
    "            05     .1970 to 1979\n",
    "            06     .1980 to 1989\n",
    "            07     .1990 to 1999\n",
    "            08     .2000 to 2004\n",
    "            09     .2005 to 2018\n",
    "            10     .2005 to 2018\n",
    "            11     .2005 to 2018\n",
    "            12     .2005 to 2018\n",
    "            13     .2005 to 2018\n",
    "            14     .2005 to 2018\n",
    "            15     .2005 to 2018\n",
    "            16     .2005 to 2018\n",
    "            17     .2005 to 2018\n",
    "            18     .2005 to 2018\n",
    "            19     .2005 to 2018\n",
    "            20     .2005 to 2018\n",
    "            21     .2005 to 2018\n",
    "            22     .2005 to 2018\n",
    "\"\"\"\n",
    "\n",
    "codesYBL2008=\"\"\"\n",
    "01 .2008\n",
    "02 .2007\n",
    "03 .2006\n",
    "04 .2005\n",
    "05 .2000 to 2004\n",
    "06 .1990 to 1999\n",
    "07 .1980 to 1989\n",
    "08 .1970 to 1979\n",
    "09 .1960 to 1969\n",
    "10 .1950 to 1959\n",
    "11 .1940 to 1949\n",
    "12 .1939 or earlier\n",
    "\"\"\"\n",
    "codesYBL2007=\"\"\"\n",
    "1 .2005 or later\n",
    "2 .2000 to 2004\n",
    "3 .1990 to 1999\n",
    "4 .1980 to 1989\n",
    "5 .1970 to 1979\n",
    "6 .1960 to 1969\n",
    "7 .1950 to 1959\n",
    "8 .1940 to 1949\n",
    "9 .1939 or earlier\n",
    "\"\"\"\n",
    "codesYBL2006=\"\"\"\n",
    " 1 .2005 or later\n",
    " 2 .2000 to 2004\n",
    " 3 .1990 to 1999\n",
    " 4 .1980 to 1989\n",
    " 5 .1970 to 1979\n",
    " 6 .1960 to 1969\n",
    " 7 .1950 to 1959\n",
    " 8 .1940 to 1949\n",
    " 9 .1939 or earlier\n",
    "\"\"\"\n",
    "milit=\"\"\"\n",
    "1 .Now on active duty\n",
    "2 .On active duty in the past, but not now\n",
    "3 .Only on active duty for training in Reserves/National Guard\n",
    "4 .Never served in the military\n",
    "\"\"\"\n",
    "## REMI doesn't have much race detail, so we don't either.\n",
    "codesraceREMI =\"\"\"\n",
    "1 .White\n",
    "2 .Black\n",
    "3 .Other\n",
    "4 .Other\n",
    "5 .Other\n",
    "6 .Other\n",
    "7 .Other\n",
    "8 .Other\n",
    "9 .Other\n",
    "\"\"\"\n",
    "\n",
    "    \n",
    "## we ship the blank category here--Ideally fix, but currently most vars are loaded as integers, so 'bb' won't work here\n",
    "## RACE\n",
    "## note that these are not actually verbatim categories from the code book. Instead, this collapses categories.\n",
    "codesrace =\"\"\"\n",
    "1 .White\n",
    "2 .Black\n",
    "3 .Other\n",
    "4 .Other\n",
    "5 .Other\n",
    "6 .Asian\n",
    "7 .Other\n",
    "8 .Other\n",
    "9 .Two + Races\n",
    "\"\"\"\n",
    "\n",
    "\n",
    "bldcodes=\"\"\"\n",
    "01 .Other\n",
    "02 .One-family house\n",
    "03 .One-family house\n",
    "04 .2 Apartments\n",
    "05 .3-10 Apartments\n",
    "06 .3-10 Apartments\n",
    "07 .10-49 Apartments\n",
    "08 .10-49 Apartments\n",
    "09 .50 or more apartments\n",
    "10 .Other\n",
    "\"\"\"\n",
    "\n",
    "# MIG\n",
    "\n",
    "migstatus=\"\"\"\n",
    "1 .Yes, same house (nonmovers) \n",
    "2 .No, outside US and Puerto Rico \n",
    "3 .No, different house in US or Puerto Rico \n",
    "\"\"\"\n",
    "\n",
    "# HUPAC\n",
    "presenceofchildren=\"\"\"\n",
    "1 .With children under 6 years only \n",
    "2 .With children 6 to 17 years only \n",
    "3 .With children under 6 years and 6 to 17 years \n",
    "4 .No children \n",
    "\"\"\"\n",
    "\n",
    "# FES\n",
    "familytype=\"\"\" \n",
    "1 .Married-couple family: Husband and wife in LF \n",
    "2 .Married-couple family: Husband in labor force, wife not in LF \n",
    "3 .Married-couple family: Husband not in LF, wife in LF \n",
    "4 .Married-couple family: Neither husband nor wife in LF \n",
    "5 .Other family: Male householder, no wife present, in LF \n",
    "6 .Other family: Male householder, no wife present, not in LF \n",
    "7 .Other family: Female householder, no husband present, in LF \n",
    "8 .Other family: Female householder, no husband present, not in LF     \n",
    "\"\"\"\n",
    "\n",
    "## don't use--these codes change all the time so we need multiple dictionaries for the years\n",
    "educ=\"\"\"\n",
    "01 .No schooling completed\n",
    "02 .Nursery school, preschool   \n",
    "03 .K-8\n",
    "04 .K-8\n",
    "05 .K-8\n",
    "06 .K-8              \n",
    "07 .K-8\n",
    "08 .K-8\n",
    "09 .K-8\n",
    "10 .K-8      \n",
    "11 .K-8\n",
    "12 .High school, unfinished\n",
    "13 .High school, unfinished\n",
    "14 .High school, unfinished                   \n",
    "15 .High school, unfinished\n",
    "16 .High school or equiv\n",
    "17 .High school or equiv\n",
    "18 .Some college\n",
    "19 .Some college\n",
    "20 .Associate's degree                           \n",
    "21 .Bachelor's degree\n",
    "22 .Master's degree\n",
    "23 .Professional degree beyond a bachelor's degree\n",
    "24 .Doctorate degree\n",
    "\"\"\"\n",
    "\n",
    "codemovein=\"\"\"\n",
    "1 .Less than 2 years\n",
    "2 .Less than 2 years\n",
    "3 .2 to 4 years\n",
    "4 .5 to 9 years\n",
    "5 .10 years or more\n",
    "6 .10 years or more\n",
    "7 .10 years or more\n",
    "\"\"\"\n",
    "\n",
    "codesrelationship = \"\"\"\n",
    "\n",
    "00 .Reference person\n",
    "01 .Husband/wife\n",
    "02 .Biological son or daughter\n",
    "03 .Adopted son or daughter\n",
    "04 .Stepson or stepdaughter\n",
    "05 .Brother or sister\n",
    "06 .Father or mother\n",
    "07 .Grandchild\n",
    "08 .Parent-in-law\n",
    "09 .Son-in-law or daughter-in-law\n",
    "10 .Other relative\n",
    "11 .Roomer or boarder\n",
    "12 .Housemate or roommate\n",
    "13 .Unmarried partner\n",
    "14 .Foster child\n",
    "15 .Other nonrelative\n",
    "16 .Institutionalized group quarters population\n",
    "17 .Noninstitutionalized group quarters population\n",
    "\"\"\"\n",
    "codesJTW=\"\"\"\n",
    "02 .Bus or streetcar \n",
    "01 .Car, truck, or van \n",
    "03 .Bus or streetcar \n",
    "04 .Subway or railroad \n",
    "05 .Subway or railroad\n",
    "06 .Other method         \n",
    "07 .Other method \n",
    "08 .Other method  \n",
    "09 .Bicycle \n",
    "10 .Walked \n",
    "11 .Worked at home \n",
    "12 .Other method \n",
    " \"\"\"\n",
    "\n",
    "codes_ten = \"\"\"\n",
    "1 .Owned (mortgage or loan)\n",
    "2 .Owned free and clear\n",
    "3 .Rented\n",
    "4 .Occupied w/O rent\n",
    "\"\"\"\n",
    "codes_ten = \"\"\"\n",
    "1 .Owned\n",
    "2 .Owned\n",
    "3 .Rented\n",
    "4 .Occupied w/O rent\n",
    "\"\"\"\n",
    "\n",
    "codescow=\"\"\"\n",
    "           1 .Private Wage and Salary employee\n",
    "           2 .Non-Profit Wage and Salary employee\n",
    "           3 .Local government employee\n",
    "           4 .State government employee\n",
    "           5 .Federal government employee\n",
    "           6 .Self-employed in own not incorporated business\n",
    "           7 .Self-employed in own incorporated business\n",
    "           8 .Working without pay in family business or farm\n",
    "           9 .Unemployed and last worked 5 years ago or earlier or never worked\n",
    "\"\"\"\n",
    "\n",
    "codesESRcoarse=\"\"\"\n",
    "           1 .Civilian employed, at work\n",
    "           2 .Civilian employed, with a job but not at work\n",
    "           3 .Unemployed\n",
    "           4 .Armed forces, at work\n",
    "           5 .Armed forces, with a job but not at work\n",
    "           6 .NILF\n",
    "\"\"\"\n",
    "\n",
    "codesESR =\"\"\"\n",
    "1 .Civilian employed, at work \n",
    "2 .Civilian employed, with a job but not at work \n",
    "3 .Unemployed \n",
    "4 .Armed forces, at work \n",
    "5 .Armed forces, with a job but not at work \n",
    "6 .Not in labor force \n",
    "\"\"\"\n",
    "\n",
    "codesESR2=\"\"\"\n",
    "           1 .Civilian employed\n",
    "           2 .Civilian employed\n",
    "           3 .Unemployed\n",
    "           4 .Armed forces\n",
    "           5 .Armed forces\n",
    "           6 .NILF\n",
    "\"\"\"\n",
    "\n",
    "codesLNGI=\"\"\"\n",
    "            1 .Person 14+ in HH speaks Eng very well\n",
    "            2 .No Person 14+ in HH speaks Eng very well\n",
    "\"\"\"\n",
    "\n",
    "codesSCHL_pre2008=\"\"\"\n",
    "           01 .No school completed\n",
    "           02 .Nursery school to grade 4   \n",
    "           03 .Grade 5 or grade 6\n",
    "           04 .Grade 7 or grade 8\n",
    "           05 .Grade 9\n",
    "           06 .Grade 10                   \n",
    "           07 .Grade 11  \n",
    "           08 .Grade 12 no diploma    \n",
    "           09 .High school graduate                \n",
    "           10 .Some college, but less than 1 year\n",
    "           11 .One or more years of college, no degree\n",
    "           12 .Associate's degree                           \n",
    "           13 .Bachelor's degree \n",
    "           14 .Master's degree\n",
    "           15 .Professional school degree\n",
    "           16 .Doctorate degree \n",
    "\"\"\"\n",
    "codesSCHL_2008p=\"\"\"\n",
    "\t\t01 .No school completed\n",
    "\t\t02 .Nursery school to grade 4\n",
    "\t\t03 .Nursery school to grade 4\n",
    "\t\t04 .Nursery school to grade 4\n",
    "\t\t05 .Nursery school to grade 4\n",
    "\t\t06 .Nursery school to grade 4\n",
    "\t\t07 .Nursery school to grade 4\n",
    "\t\t08 .Grade 5 or grade 6\n",
    "\t\t09 .Grade 5 or grade 6\n",
    "\t\t10 .Grade 7 or grade 8\n",
    "\t\t11 .Grade 7 or grade 8\n",
    "\t\t12 .Grade 9\n",
    "\t\t13 .Grade 10\n",
    "\t\t14 .Grade 11\n",
    "\t\t15 .Grade 12 no diploma\n",
    "\t\t16 .High school graduate\n",
    "\t\t17 .High school graduate\n",
    "\t\t18 .Some college, but less than 1 year\n",
    "\t\t19 .One or more years of college, no degree\n",
    "\t\t20 .Associate's degree\n",
    "\t\t21 .Bachelor's degree\n",
    "\t\t22 .Master's degree\n",
    "\t\t23 .Professional school degree\n",
    "\t\t24 .Doctorate degree\n",
    "\"\"\"\n",
    "codesSCHL_2008p_orig=\"\"\"\n",
    "\t\t01 .No schooling completed\n",
    "\t\t02 .Nursery school, preschool   \n",
    "\t\t03 .Kindergarten\n",
    "\t\t04 .Grade 1\n",
    "\t\t05 .Grade 2\n",
    "\t\t06 .Grade 3\n",
    "\t\t07 .Grade 4\n",
    "\t\t08 .Grade 5\n",
    "\t\t09 .Grade 6\n",
    "\t\t10 .Grade 7\n",
    "\t\t11 .Grade 8  \n",
    "\t\t12 .Grade 9\n",
    "\t\t13 .Grade 10\n",
    "\t\t14 .Grade 11\n",
    "\t\t15 .12th grade - no diploma   \n",
    "\t\t16 .Regular high school diploma\n",
    "\t\t17 .GED or alternative credential\n",
    "\t\t18 .Some college, but less than 1 year\n",
    "\t\t19 .1 or more years of college credit, no degree\n",
    "\t\t20 .Associate's degree\n",
    "\t\t21 .Bachelor's degree\n",
    "\t\t22 .Master's degree\n",
    "\t\t23 .Professional degree beyond a bachelor's degree\n",
    "\t\t24 .Doctorate degree\n",
    "\"\"\""
   ]
  },
  {
   "cell_type": "code",
   "execution_count": 547,
   "metadata": {},
   "outputs": [],
   "source": [
    "###########################################################\n",
    "vacant_value_map = map_value_labels(codesvacant,'VACS')\n",
    "vacant_value_map2 = map_value_labels(codesvacant2,'VACS')\n",
    "esr_value_map = map_value_labels(codesESR2,'ESR')\n",
    "cow_value_map = map_value_labels(codescow,'COW')\n",
    "race_value_map = map_value_labels(codesrace,'RAC1P')\n",
    "remirace_value_map = map_value_labels(codesraceREMI,'RAC1P')\n",
    "move_value_map = map_value_labels(codemovein,'MV')\n",
    "rel_value_map = map_value_labels(codesrelationship,'RELP')\n",
    "ten_value_map = map_value_labels(codes_ten,'TEN')\n",
    "mil_value_map = map_value_labels(milit,'MIL')\n",
    "bld_value_map = map_value_labels(bldcodes,'BLD')\n",
    "jtw_value_map = map_value_labels(codesJTW,'JWTR')\n",
    "chld_value_map = map_value_labels(presenceofchildren,'HUPAC')\n",
    "famtype_value_map = map_value_labels(familytype,'FES')\n",
    "mig_value_map = map_value_labels(migstatus,'MIG')\n",
    "ybl_value_map = map_value_labels(codesYBL,'YBL')\n",
    "ling_value_map = map_value_labels(codesLNGI,'LNGI')\n",
    "schl_a_value_map = map_value_labels(codesSCHL_pre2008,'SCHL')\n",
    "schl_b_value_map = map_value_labels(codesSCHL_2008p,'SCHL')\n"
   ]
  },
  {
   "cell_type": "markdown",
   "metadata": {},
   "source": [
    "### Prep Person file"
   ]
  },
  {
   "cell_type": "code",
   "execution_count": 367,
   "metadata": {},
   "outputs": [],
   "source": [
    "p_allvarkeep=['ST','PUMA','NP','PWGTP','MIG']"
   ]
  },
  {
   "cell_type": "code",
   "execution_count": 369,
   "metadata": {},
   "outputs": [],
   "source": [
    "persons_a=pd.read_csv(os.path.join(drop,'Documents/Data/_Census/ACS/ACS_2018_1Year_US/PUMS/ss18pusa.csv'))\n",
    "persons_b=pd.read_csv(os.path.join(drop,'Documents/Data/_Census/ACS/ACS_2018_1Year_US/PUMS/ss18pusb.csv'))"
   ]
  },
  {
   "cell_type": "code",
   "execution_count": 370,
   "metadata": {},
   "outputs": [],
   "source": [
    "persons = pd.concat([persons_a,persons_b])\n",
    "\n",
    "del persons_a\n",
    "del persons_b"
   ]
  },
  {
   "cell_type": "code",
   "execution_count": 376,
   "metadata": {},
   "outputs": [],
   "source": [
    "persons['STPUMA']=persons.ST.apply(lambda x: '{:0>2}'.format(x))+persons.PUMA.apply(lambda x: '{:0>5}'.format(x))\n",
    "persons['CSA']=persons.STPUMA.map(puma_x_csa_map)\n",
    "persons.CSA=persons.CSA.replace({'San Jose-San Francisco-Oakland, CA','San Francisco Bay Area Halo'}).fillna('Outside CSA')#.astype('category')\n",
    "persons['CBSA']=persons.STPUMA.map(puma_x_cbsa_map)"
   ]
  },
  {
   "cell_type": "code",
   "execution_count": 377,
   "metadata": {},
   "outputs": [],
   "source": [
    "## BE CAREFUL - remember there is a different logic for STPUMA to county relations on the east coast - \n",
    "## Only use for CA tabulations\n",
    "\n",
    "persons['STCOUNTY']=persons['STPUMA'].str.slice(0,5)"
   ]
  },
  {
   "cell_type": "markdown",
   "metadata": {},
   "source": [
    "### Prep Household file"
   ]
  },
  {
   "cell_type": "code",
   "execution_count": 34,
   "metadata": {},
   "outputs": [],
   "source": [
    "households_a=pd.read_csv(os.path.join(drop,'Documents/Data/_Census/ACS/ACS_2018_1Year_US/PUMS/ss18husa.csv'))\n",
    "households_b=pd.read_csv(os.path.join(drop,'Documents/Data/_Census/ACS/ACS_2018_1Year_US/PUMS/ss18husb.csv'))"
   ]
  },
  {
   "cell_type": "code",
   "execution_count": 35,
   "metadata": {},
   "outputs": [],
   "source": [
    "households = pd.concat([households_a,households_b])\n",
    "\n",
    "del households_a\n",
    "del households_b"
   ]
  },
  {
   "cell_type": "code",
   "execution_count": 391,
   "metadata": {},
   "outputs": [],
   "source": [
    "households['STPUMA']=households.ST.apply(lambda x: '{:0>2}'.format(x))+households.PUMA.apply(lambda x: '{:0>5}'.format(x))\n",
    "households['CSA']=households.STPUMA.map(puma_x_csa_map)\n",
    "households.CSA=households.CSA.replace({'San Jose-San Francisco-Oakland, CA','Bay Area Vicinity'})\n",
    "\n",
    "households['CSA']=households['CSA'].fillna('Outside CSA')#.astype('category')\n",
    "households['CBSA']=households.STPUMA.map(puma_x_cbsa_map)\n",
    "households['CBSA']=households['CBSA'].fillna('Outside CBSA').astype('category')"
   ]
  },
  {
   "cell_type": "code",
   "execution_count": 392,
   "metadata": {},
   "outputs": [],
   "source": [
    "persons['POWSP2']=None\n",
    "persons.loc[persons.POWSP.notnull(),'POWSP2']=persons.loc[persons.POWSP.notnull(),'POWSP'].apply(lambda x: '{:0>3}'.format(int(x)))\n",
    "\n",
    "persons['POWPUMA2']=None\n",
    "persons.loc[persons.POWPUMA.notnull(),'POWPUMA2']=persons.loc[persons.POWPUMA.notnull(),'POWPUMA'].apply(lambda x: '{:0>5}'.format(int(x)))\n",
    "\n",
    "persons['POWSTPUMA']=None\n",
    "persons.loc[persons.POWPUMA2.notnull(),'POWSTPUMA']=persons.loc[persons.POWSP2.notnull(),'POWSP2']+persons.loc[persons.POWPUMA2.notnull(),'POWPUMA2']"
   ]
  },
  {
   "cell_type": "code",
   "execution_count": 393,
   "metadata": {},
   "outputs": [],
   "source": [
    "persons['MIGSP2']=None\n",
    "persons.loc[persons.MIGSP.notnull(),'MIGSP2']=persons.loc[persons.MIGSP.notnull(),'MIGSP'].apply(lambda x: '{:0>3}'.format(int(x)))\n",
    "\n",
    "persons['MIGPUMA2']=None\n",
    "persons.loc[persons.MIGPUMA.notnull(),'MIGPUMA2']=persons.loc[persons.MIGPUMA.notnull(),'MIGPUMA'].apply(lambda x: '{:0>5}'.format(int(x)))\n",
    "\n",
    "persons['MIGSTPUMA']=None\n",
    "persons.loc[persons.MIGPUMA2.notnull(),'MIGSTPUMA']=persons.loc[persons.MIGSP2.notnull(),'MIGSP2']+persons.loc[persons.MIGPUMA2.notnull(),'MIGPUMA2']"
   ]
  },
  {
   "cell_type": "code",
   "execution_count": 394,
   "metadata": {},
   "outputs": [],
   "source": [
    "persons['MIGCSA']=persons.MIGSTPUMA.map(migpumacodes.groupby('MIGSTPUMA').CSA.first())\n",
    "persons['MIGCBSA']=persons.MIGSTPUMA.map(migpumacodes.groupby('MIGSTPUMA').CBSA.first())"
   ]
  },
  {
   "cell_type": "code",
   "execution_count": 395,
   "metadata": {},
   "outputs": [],
   "source": [
    "persons['movestatus']='Nonmover'\n",
    "\n",
    "persons.loc[(persons.MIGCSA!=persons.CSA)&(persons.MIG.isin([2,3])),'movestatus']='Moved from outside region'\n",
    "persons.loc[(persons.MIGCSA==persons.CSA),'movestatus']='Moved within region'\n",
    "persons.loc[(persons.MIG.isin([1])),'movestatus']='Nonmover'"
   ]
  },
  {
   "cell_type": "code",
   "execution_count": 396,
   "metadata": {},
   "outputs": [],
   "source": [
    "persons['FMR_CODE']=persons.STPUMA.map(stpuma_x_fmrcode)\n",
    "households['FMR_CODE']=households.STPUMA.map(stpuma_x_fmrcode)\n"
   ]
  },
  {
   "cell_type": "code",
   "execution_count": 397,
   "metadata": {},
   "outputs": [],
   "source": [
    "#persons.loc[(persons.MIGCSA!=persons.CSA)].groupby(['MIGCSA','CSA']).PWGTP.sum().loc[:,'San Jose-San Francisco-Oakland, CA']"
   ]
  },
  {
   "cell_type": "markdown",
   "metadata": {},
   "source": [
    "### Variable assignments and classifications"
   ]
  },
  {
   "cell_type": "code",
   "execution_count": 398,
   "metadata": {},
   "outputs": [],
   "source": [
    "mtcbins = [30000,60000,100000,np.inf]\n",
    "persbins=[10000,25000,50000,100000,np.inf]\n",
    "label_formatter(mtcbins)\n",
    "finer_bins = [20000,35000,50000,75000,100000,150000,200000,np.inf]\n",
    "coarse_bins = [50000,100000,200000,np.inf]\n",
    "rent_bins = [0,200,500,750,1000,1500,np.inf]\n",
    "label_formatter(persbins,currency=True)\n",
    "\n",
    "mtcbins = [30000,60000,100000,np.inf]\n",
    "label_formatter(mtcbins)\n",
    "finer_bins = [0,20000,35000,50000,75000,100000,150000,200000,np.inf]\n",
    "\n",
    "households['inc_cat_mtc_int']=pd.cut(households.HINCP,mtcbins,labels=map(lambda x: 'q%s'%x,range(1,5)) )\n",
    "households['inc_cat_mtc']=pd.cut(households.HINCP.fillna(0),mtcbins,labels=label_formatter(mtcbins) )\n",
    "households['inc_cat_fine']=pd.cut(households.HINCP.fillna(0),finer_bins,labels=label_formatter(finer_bins,currency=True))\n",
    "households['inc_cat_fine']=households['inc_cat_fine']#.cat.add_categories('NA')\n",
    "households['inc_cat_fine']=households['inc_cat_fine'].cat.reorder_categories(label_formatter(finer_bins,currency=True))\n",
    "persons['pinc_cat_coarse']=pd.cut(persons.PINCP,persbins,labels=label_formatter(persbins,currency=True) )\n",
    "persons['pinc_cat_fine']=pd.cut(persons.PINCP.fillna(0),finer_bins,labels=label_formatter(finer_bins,currency=True))\n",
    "persons['pinc_cat_fine']=persons['pinc_cat_fine'].cat.add_categories('NA')\n",
    "persons['pinc_cat_fine']=persons['pinc_cat_fine'].fillna('NA').cat.reorder_categories(label_formatter(finer_bins,currency=True)+['NA'])"
   ]
  },
  {
   "cell_type": "code",
   "execution_count": 399,
   "metadata": {},
   "outputs": [],
   "source": [
    "households['inc_cat_coarse']=pd.cut(households.HINCP.fillna(0),coarse_bins,labels=label_formatter(coarse_bins,currency=True))\n",
    "households['inc_cat_coarse']=households['inc_cat_coarse']#.cat.add_categories('NA')\n",
    "households['inc_cat_coarse']=households['inc_cat_coarse'].cat.reorder_categories(label_formatter(coarse_bins,currency=True))"
   ]
  },
  {
   "cell_type": "code",
   "execution_count": 400,
   "metadata": {},
   "outputs": [],
   "source": [
    "households['county']=households['County']=households.STPUMA.str.slice(0,5).map(bayareafips_full)+' County'"
   ]
  },
  {
   "cell_type": "code",
   "execution_count": 402,
   "metadata": {},
   "outputs": [],
   "source": [
    "roombins=np.arange(0,4.01,.25)\n",
    "roomlabels=floatlabels(roombins,prec=2)\n",
    "\n",
    "households['rooms']=pd.to_numeric(households.RMSP,errors='coerce')\n",
    "households['pers_per_room']=households.NP.replace({0:np.nan})/households.rooms\n",
    "households['pers_per_room_cat']=pd.cut(households.pers_per_room,roombins,labels=floatlabels(roombins,prec=2)[:-1])\n",
    "\n",
    "households['rooms_less_persons']=households.rooms-households.NP.replace({0:np.nan})\n",
    "households['rooms_less_persons_cat']=pd.cut(households.rooms_less_persons,[-20,-10,-8,-6,-4,-2,-1,20],right=True,\n",
    "                                         #labels=['Deficit 10 or more','Deficit 9-10','Deficit 7-8','Deficit 5-6', 'Deficit 4-5','Deficit 2-3','Deficit 0-1','0','Surplus']\n",
    "                                           labels=['Deficit 10 or more','Deficit 8-9','Deficit 6-7','Deficit 4-5', 'Deficit 2-3','Deficit 1','Surplus']\n",
    "                                           )\n",
    "\n",
    "households['room_cat']=pd.cut(households.rooms,[1,4,6,8,20],labels=['1-4','5-6','7-8','9+'])\n",
    "households['is_crowded']=households.pers_per_room>1"
   ]
  },
  {
   "cell_type": "code",
   "execution_count": 550,
   "metadata": {},
   "outputs": [
    {
     "data": {
      "text/plain": [
       "vac_status                                vac_status_gen\n",
       "For migrant workers                       Other vacant          40820\n",
       "For rent                                  Rented              2901215\n",
       "For sale only                             Owned               1207670\n",
       "For seasonal/recreational/occasional use  Other vacant        5423645\n",
       "Not Vacant                                Not Vacant        121520185\n",
       "Other vacant                              Other vacant        6177645\n",
       "Rented, not occupied                      Other vacant         602000\n",
       "Sold, not occupied                        Other vacant         666726\n",
       "Name: WGTP, dtype: int64"
      ]
     },
     "execution_count": 550,
     "metadata": {},
     "output_type": "execute_result"
    }
   ],
   "source": [
    "households['vac_status']=households.VACS.map(vacant_value_map['VACS']).fillna('Not Vacant')#.astype('category')\n",
    "\n",
    "## vacancy numerator\n",
    "households['vac_status_gen']=households.VACS.map(vacant_value_map2['VACS']).fillna('Not Vacant')#.astype('category')\n",
    "\n",
    "households.groupby(['vac_status','vac_status_gen']).WGTP.sum()"
   ]
  },
  {
   "cell_type": "code",
   "execution_count": 549,
   "metadata": {},
   "outputs": [],
   "source": [
    "#households['is_vacant']=households.VACS.isin(range(1,8))\n",
    "households['is_vacant']=households.VACS.isin([1,3]) ## limit types of vacancies that count\n",
    "\n",
    "persons['JWTR_l']=persons.JWTR.map(jtw_value_map['JWTR'])\n",
    "households['TEN_l']=households.TEN.map(ten_value_map['TEN'])\n",
    "\n",
    "households['TEN_l']=households['TEN_l'].fillna('VAC/GQ')"
   ]
  },
  {
   "cell_type": "code",
   "execution_count": 551,
   "metadata": {},
   "outputs": [],
   "source": [
    "## DENOMINATOR for share vacant by tenure\n",
    "\n",
    "# a) occupied rental and owned units PLUS\n",
    "# b) vacant rental and owned units\n",
    "\n",
    "households['ten_univ']='VAC/GQ'\n",
    "households.loc[households.vac_status.str.contains('ent'),'ten_univ']='Rented'\n",
    "households.loc[households.vac_status.str.contains('sale|Sold'),'ten_univ']='Owned'\n",
    "households.loc[households.TEN_l.str.contains('ent'),'ten_univ']='Rented'\n",
    "households.loc[households.TEN_l.str.contains('Owned'),'ten_univ']='Owned'"
   ]
  },
  {
   "cell_type": "code",
   "execution_count": 405,
   "metadata": {},
   "outputs": [],
   "source": [
    "persons['age_fine']=pd.cut(persons.AGEP, right=False,bins=diffbreaks_5,labels=agebreaker(diffbreaks_5,prefix=''))\n",
    "persons['age_coarse']=pd.cut(persons.AGEP, right=False,bins=diffbreaks_custom,labels=agebreaker(diffbreaks_custom,prefix=''))"
   ]
  },
  {
   "cell_type": "code",
   "execution_count": 406,
   "metadata": {},
   "outputs": [],
   "source": [
    "persons['naics_2']=persons['NAICSP'].apply(lambda x: str(x)[:2])\n",
    "persons['naics_2']=persons['naics_2'].replace('na',np.nan)\n",
    "persons['naics_2']=persons.naics_2.replace({'4M':'44', '3M':'33'})\n",
    "persons['naics_abag']=persons['naics_2'].map(naics_abag_11)\n",
    "persons['naics_acs']=persons['naics_2'].map(naics_acs_wrap)"
   ]
  },
  {
   "cell_type": "code",
   "execution_count": 407,
   "metadata": {},
   "outputs": [],
   "source": [
    "households['yr_blt']=households.YBL.map(ybl_value_map['YBL'])\n"
   ]
  },
  {
   "cell_type": "code",
   "execution_count": 408,
   "metadata": {},
   "outputs": [],
   "source": [
    "persons['occ_2']= persons['SOCP'].apply(lambda x: str(x)[:2])\n",
    "persons['occ_2']=persons.occ_2.replace('na',np.nan)\n",
    "persons['occ_desc']=persons['occ_2'].map(socmap)\n",
    "\n",
    "persons['occ_is_professional']=persons.occ_desc.str.contains('management|archit|legal|computer|social scienc')#.map({True:1,False:0})\n",
    "persons['occ_is_pdr']=persons.occ_desc.str.contains('building and grounds|installat|production')#.map({True:1,False:0})\n",
    "persons['occ_is_service']=persons.occ_desc.str.contains('support occ|social ser|personal care')#.map({True:1,False:0})\n",
    "\n",
    "persons['ind_is_professional']=persons.naics_acs.str.contains('Profess|Finan')#.map({True:1,False:0})\n",
    "persons['ind_is_pdr']=persons.naics_acs.str.contains('Transport|Manuf|Wholesa')#.map({True:1,False:0})\n",
    "persons['ind_is_service']=persons.naics_acs.str.contains('Arts|accomm|Educ')#.map({True:1,False:0})"
   ]
  },
  {
   "cell_type": "code",
   "execution_count": 409,
   "metadata": {},
   "outputs": [],
   "source": [
    "## add race / ethnicity\n",
    "persons['race_remi']=persons.RAC1P.map(remirace_value_map['RAC1P'])\n",
    "persons['rac_ethn_remi']=persons.groupby(['HISP'])['race_remi'].transform(race_eth)"
   ]
  },
  {
   "cell_type": "code",
   "execution_count": 410,
   "metadata": {},
   "outputs": [],
   "source": [
    "households['rac_ethn_remi']=households.SERIALNO.map(persons.loc[persons.RELP==0].set_index('SERIALNO').rac_ethn_remi)"
   ]
  },
  {
   "cell_type": "code",
   "execution_count": 412,
   "metadata": {},
   "outputs": [],
   "source": [
    "persons['in_labor_force']=persons.ESR.isin(range(1,6)).map({True:'In Labor Force',False:'Not in Labor Force'})"
   ]
  },
  {
   "cell_type": "code",
   "execution_count": 413,
   "metadata": {},
   "outputs": [],
   "source": [
    "## family size specific FPL guideline for 2018 https://aspe.hhs.gov/2018-poverty-guidelines\n",
    "\n",
    "fpl=pd.Series({1.0: 12140,\n",
    " 2.0: 16460,\n",
    " 3.0: 20780,\n",
    " 4.0: 25100,\n",
    " 5.0: 29420,\n",
    " 6.0: 33740,\n",
    " 7.0: 38060,\n",
    " 8.0: 42380})\n",
    "fpl_plus=lambda x: 42380+x*4320"
   ]
  },
  {
   "cell_type": "code",
   "execution_count": 414,
   "metadata": {},
   "outputs": [],
   "source": [
    "households['fpl']=None\n",
    "households.loc[households.NP>8,'fpl']=households.loc[households.NP>8].NP.map(fpl_plus)\n",
    "households.loc[households.NP<=8,'fpl']=households.loc[households.NP<=8].NP.map(fpl)\n",
    "\n",
    "households['hinc_belov_fpl']=households.HINCP<households.fpl\n",
    "households['hinc_2x_belov_fpl']=households.HINCP<households.fpl*2.0"
   ]
  },
  {
   "cell_type": "code",
   "execution_count": 415,
   "metadata": {},
   "outputs": [],
   "source": [
    "## housing costs\n",
    "pd.options.display.float_format = '{:,.0f}'.format\n",
    "## what do recent movers pay for housing, 2006-2014?"
   ]
  },
  {
   "cell_type": "code",
   "execution_count": 416,
   "metadata": {},
   "outputs": [],
   "source": [
    "households['rent_to_hinc']=households.GRNTP/(households.HINCP/12.)"
   ]
  },
  {
   "cell_type": "code",
   "execution_count": 417,
   "metadata": {},
   "outputs": [
    {
     "name": "stderr",
     "output_type": "stream",
     "text": [
      "/Users/aolsen/anaconda2/envs/geoenv/lib/python2.7/site-packages/ipykernel_launcher.py:6: FutureWarning: convert_objects is deprecated.  To re-infer data dtypes for object columns, use DataFrame.infer_objects()\n",
      "For all other conversions use the data-type specific converters pd.to_datetime, pd.to_timedelta and pd.to_numeric.\n",
      "  \n"
     ]
    }
   ],
   "source": [
    "households['hsgcost_to_hinc']=None\n",
    "\n",
    "households.loc[:,['GRPIP','OCPIP']]=households.loc[:,['GRPIP','OCPIP']].convert_objects(convert_numeric=True)\n",
    "households.loc[households.GRPIP.notnull(),'hsgcost_to_hinc']=households.loc[households.GRPIP.notnull()].GRPIP.fillna(0)\n",
    "households.loc[households.OCPIP.notnull(),'hsgcost_to_hinc']=households.loc[households.OCPIP.notnull()].OCPIP.fillna(0)\n",
    "households.loc[households.hsgcost_to_hinc.isnull(),'hsgcost_to_hinc']='NA'"
   ]
  },
  {
   "cell_type": "code",
   "execution_count": 583,
   "metadata": {},
   "outputs": [],
   "source": [
    "## categorize cost ratios\n",
    "\n",
    "pd.options.display.float_format = '{:,.0f}'.format\n",
    "\n",
    "hhincbinspct = range(0,51,10)+[np.inf]\n",
    "households['rent_to_hinc_cat'] = pd.cut(households.rent_to_hinc*100,hhincbinspct,right=False,\n",
    "                                        labels=['%s pct' %x for x in label_formatter(hhincbinspct)] )\n",
    "households['hsgcost_to_hinc_cat'] = pd.cut(households.hsgcost_to_hinc,hhincbinspct,right=False,\n",
    "                                        labels=['%s pct' %x for x in label_formatter(hhincbinspct)] )"
   ]
  },
  {
   "cell_type": "code",
   "execution_count": 584,
   "metadata": {},
   "outputs": [],
   "source": [
    "households['is_cost_burdened']=households['hsgcost_to_hinc_cat'].isin(['30 to 39 pct','40 to 49 pct','50 + pct'])"
   ]
  },
  {
   "cell_type": "code",
   "execution_count": 422,
   "metadata": {},
   "outputs": [],
   "source": [
    "pd.options.display.float_format = '{:,.2f}'.format"
   ]
  },
  {
   "cell_type": "code",
   "execution_count": null,
   "metadata": {},
   "outputs": [],
   "source": [
    "hsgcost=households.groupby(['CSA','TEN_l','hsgcost_to_hinc_cat']).apply(simple_estimate_SE,weight='WGTP')"
   ]
  },
  {
   "cell_type": "code",
   "execution_count": 585,
   "metadata": {},
   "outputs": [
    {
     "data": {
      "text/html": [
       "<div>\n",
       "<style scoped>\n",
       "    .dataframe tbody tr th:only-of-type {\n",
       "        vertical-align: middle;\n",
       "    }\n",
       "\n",
       "    .dataframe tbody tr th {\n",
       "        vertical-align: top;\n",
       "    }\n",
       "\n",
       "    .dataframe thead th {\n",
       "        text-align: right;\n",
       "    }\n",
       "</style>\n",
       "<table border=\"1\" class=\"dataframe\">\n",
       "  <thead>\n",
       "    <tr style=\"text-align: right;\">\n",
       "      <th></th>\n",
       "      <th>ci_lower</th>\n",
       "      <th>ci_upper</th>\n",
       "      <th>coef_variation</th>\n",
       "      <th>estimate</th>\n",
       "      <th>sample_recs</th>\n",
       "      <th>se</th>\n",
       "    </tr>\n",
       "    <tr>\n",
       "      <th>hsgcost_to_hinc_cat</th>\n",
       "      <th></th>\n",
       "      <th></th>\n",
       "      <th></th>\n",
       "      <th></th>\n",
       "      <th></th>\n",
       "      <th></th>\n",
       "    </tr>\n",
       "  </thead>\n",
       "  <tbody>\n",
       "    <tr>\n",
       "      <th>0 to 9 pct</th>\n",
       "      <td>58,607</td>\n",
       "      <td>67,476</td>\n",
       "      <td>0</td>\n",
       "      <td>63,041</td>\n",
       "      <td>607</td>\n",
       "      <td>2,696</td>\n",
       "    </tr>\n",
       "    <tr>\n",
       "      <th>10 to 19 pct</th>\n",
       "      <td>249,347</td>\n",
       "      <td>270,072</td>\n",
       "      <td>0</td>\n",
       "      <td>259,709</td>\n",
       "      <td>2,339</td>\n",
       "      <td>6,299</td>\n",
       "    </tr>\n",
       "    <tr>\n",
       "      <th>20 to 29 pct</th>\n",
       "      <td>279,826</td>\n",
       "      <td>300,365</td>\n",
       "      <td>0</td>\n",
       "      <td>290,095</td>\n",
       "      <td>2,611</td>\n",
       "      <td>6,243</td>\n",
       "    </tr>\n",
       "    <tr>\n",
       "      <th>30 to 39 pct</th>\n",
       "      <td>159,262</td>\n",
       "      <td>174,939</td>\n",
       "      <td>0</td>\n",
       "      <td>167,100</td>\n",
       "      <td>1,453</td>\n",
       "      <td>4,765</td>\n",
       "    </tr>\n",
       "    <tr>\n",
       "      <th>40 to 49 pct</th>\n",
       "      <td>93,010</td>\n",
       "      <td>106,459</td>\n",
       "      <td>0</td>\n",
       "      <td>99,734</td>\n",
       "      <td>842</td>\n",
       "      <td>4,088</td>\n",
       "    </tr>\n",
       "    <tr>\n",
       "      <th>50 + pct</th>\n",
       "      <td>256,027</td>\n",
       "      <td>277,128</td>\n",
       "      <td>0</td>\n",
       "      <td>266,577</td>\n",
       "      <td>2,283</td>\n",
       "      <td>6,414</td>\n",
       "    </tr>\n",
       "  </tbody>\n",
       "</table>\n",
       "</div>"
      ],
      "text/plain": [
       "                     ci_lower  ci_upper  coef_variation  estimate  sample_recs    se\n",
       "hsgcost_to_hinc_cat                                                                 \n",
       "0 to 9 pct             58,607    67,476               0    63,041          607 2,696\n",
       "10 to 19 pct          249,347   270,072               0   259,709        2,339 6,299\n",
       "20 to 29 pct          279,826   300,365               0   290,095        2,611 6,243\n",
       "30 to 39 pct          159,262   174,939               0   167,100        1,453 4,765\n",
       "40 to 49 pct           93,010   106,459               0    99,734          842 4,088\n",
       "50 + pct              256,027   277,128               0   266,577        2,283 6,414"
      ]
     },
     "execution_count": 585,
     "metadata": {},
     "output_type": "execute_result"
    }
   ],
   "source": [
    "hsgcost.loc(0)['San Francisco Bay Area','Rented']"
   ]
  },
  {
   "cell_type": "code",
   "execution_count": 424,
   "metadata": {},
   "outputs": [
    {
     "data": {
      "text/plain": [
       "<matplotlib.axes._subplots.AxesSubplot at 0x1b019ae50>"
      ]
     },
     "execution_count": 424,
     "metadata": {},
     "output_type": "execute_result"
    },
    {
     "data": {
      "image/png": "[encoded data removed]",
      "text/plain": [
       "<Figure size 648x432 with 1 Axes>"
      ]
     },
     "metadata": {},
     "output_type": "display_data"
    }
   ],
   "source": [
    "households.groupby(['TEN_l','hsgcost_to_hinc_cat']).WGTP.sum().unstack(0).plot(kind='bar')"
   ]
  },
  {
   "cell_type": "markdown",
   "metadata": {},
   "source": [
    "#### Assign metro-specific HUD income limits to household file\n",
    "\n",
    "https://www.hudexchange.info/programs/home/home-income-limits/\n",
    "\n",
    "\n",
    "> Family sizes in excess of 8 persons are calculated by adding 8% of the four-person income limit for each additional family member. That is, a 9-person limit should be 140% of the 4-person limit, the 10-person limit should be 148%."
   ]
  },
  {
   "cell_type": "code",
   "execution_count": 426,
   "metadata": {},
   "outputs": [],
   "source": [
    "inccatmap={30:u'Extremely Low',\n",
    " 50:u'Very Low Income',\n",
    " 80:u'Low Income',\n",
    " 120:u'Moderate Income',\n",
    "# np.inf:'Above Moderate Income'\n",
    "}"
   ]
  },
  {
   "cell_type": "code",
   "execution_count": 427,
   "metadata": {},
   "outputs": [],
   "source": [
    "### Read in HUD Income Limits at the county level\n",
    "\n",
    "inclim = pd.read_excel(os.path.join(drop,'Documents/Data/_HUD/INCOME_LIMITS/HOME_IncomeLmts_Natl_2018.xlsx'),converters={'fips2010':str})\n",
    "\n",
    "inclim['STCOUNTY']=inclim.State.apply(lambda x: '{:0>2}'.format(x))+inclim.County.apply(lambda x: '{:0>3}'.format(x))\n",
    "inclim=inclim.drop(['State','statename','County'],axis=1)\n",
    "\n",
    "inclim=inclim.set_index([u'fips2010', 'STCOUNTY', u'cbsasub', u'areaname'])\n",
    "inclim=inclim.stack().reset_index(name='value').rename(columns={'level_4':'variable','fips2010':'geoid10'})\n",
    "inclim['variable']=inclim.variable.apply(lambda x: x.lower())\n",
    "variable_split = inclim.variable.str.extract(pat='(?P<pct>\\d{2})_(?P<yr>\\d{2})p(?P<ppl>\\d)').astype(np.int64)\n",
    "inclim=pd.concat([inclim,variable_split],axis=1).drop(['variable'],axis=1)\n",
    "inclim=inclim.loc[inclim.pct!=60]\n",
    "\n",
    "inclim['Income Category']=inclim.pct.map(inccatmap)\n",
    "inclim_v=inclim.set_index([ u'geoid10', u'STCOUNTY',  u'cbsasub', u'areaname', u'pct',u'yr','ppl'] ).value\n",
    "inclim['Income Category']=inclim['Income Category']#.astype('category')\n",
    "#inclim['Income Category']=inclim['Income Category'].cat.add_categories('Above Moderate Income')"
   ]
  },
  {
   "cell_type": "code",
   "execution_count": 429,
   "metadata": {},
   "outputs": [
    {
     "data": {
      "text/plain": [
       "cbsasub           pct  ppl\n",
       "METRO10180M10180  30   1     13,150.00\n",
       "                       2     15,000.00\n",
       "Name: value, dtype: float64"
      ]
     },
     "execution_count": 429,
     "metadata": {},
     "output_type": "execute_result"
    }
   ],
   "source": [
    "## family of 4 is base size. For each additional person, 8% is added to income limits\n",
    "basesize=4\n",
    "\n",
    "hud_income_limits_v = inclim.set_index([u'cbsasub', u'pct','ppl'] ).value\n",
    "hud_income_limits_v_exp={}\n",
    "for percount in range(9,21):\n",
    "    hud_income_limits_v_exp[percount]=hud_income_limits_v.sort_index().loc[:,:,4]*(1+((percount-basesize)*.08))\n",
    "hud_income_limits_v=hud_income_limits_v.append(pd.concat(hud_income_limits_v_exp).reset_index(name='value').rename(columns={'level_0':'ppl'}).set_index([u'cbsasub', u'pct','ppl']).value).sort_index()\n",
    "hud_income_limits_v=hud_income_limits_v.loc[~hud_income_limits_v.index.duplicated(keep='first')]\n",
    "hud_income_limits_v.head(2)"
   ]
  },
  {
   "cell_type": "code",
   "execution_count": 432,
   "metadata": {},
   "outputs": [],
   "source": [
    "## ensure we don't get index errors by looping only on FMR_CODEs present in both files\n",
    "\n",
    "fmr_common=list(set(inclim_v.index.get_level_values(2)).intersection(set(households.FMR_CODE.dropna())))"
   ]
  },
  {
   "cell_type": "markdown",
   "metadata": {},
   "source": [
    "#### Now, apply metro-specific income cutoffs to the PUMS records\n",
    "Each household will be classified according to family size cutoffs specific to each region"
   ]
  },
  {
   "cell_type": "code",
   "execution_count": 433,
   "metadata": {},
   "outputs": [],
   "source": [
    "if not os.path.exists(os.path.join(drop,'Documents/Data/_Census/ACS/ACS_2018_1Year_US/pums_1yr_2018_hh_HUD_inc.h5')):\n",
    "\n",
    "    ## there are negative incomes - and 0 - we want to count them in the lowest bin so the cutoff has to be below 0\n",
    "    BASEBIN=-50000\n",
    "\n",
    "    households['hud_inclimit']=None\n",
    "    for row,FMR_CODE in enumerate(fmr_common):\n",
    "        if np.mod(row,50)==0:\n",
    "            print row,FMR_CODE\n",
    "        for i in range(1,21):\n",
    "            #print FMR_CODE,i,\n",
    "            templimits=hud_income_limits_v.loc[FMR_CODE,:,i].reset_index(['cbsasub','ppl'],drop=True).sort_index()\n",
    "            templimits=templimits.append(pd.Series({'80+':np.inf}))\n",
    "\n",
    "            ## replace top cutoff with inf so anything above moderate is moderate\n",
    "            #templimits.loc['Moderate Income']=np.Inf\n",
    "\n",
    "            households.loc[(households.FMR_CODE==FMR_CODE)\n",
    "                           &(households.NP==i),'hud_inclimit']=\\\n",
    "            pd.cut(households.loc[(households.FMR_CODE==FMR_CODE)\n",
    "                           &(households.NP==i),'HINCP'], bins=[BASEBIN]+templimits.tolist(),\n",
    "              labels=templimits.index).astype(str)\n",
    "    \n",
    "    store=pd.HDFStore(os.path.join(drop,'Documents/Data/_Census/ACS/ACS_2018_1Year_US/pums_1yr_2018_hh_HUD_inc.h5'),mode='w',format='table')\n",
    "    store['pums_h_hudinc']=households.hud_inclimit\n",
    "else:\n",
    "    households_HUD= pd.read_hdf(os.path.join(drop,'Documents/Data/_Census/ACS/ACS_2018_1Year_US/pums_1yr_2018_hh_HUD_inc.h5'),mode='r',key='pums_h_hudinc')\n",
    "\n",
    "\n",
    "households['hud_inclimit']=households.SERIALNO.map(households_HUD.set_index('SERIALNO').hud_inclimit)"
   ]
  },
  {
   "cell_type": "code",
   "execution_count": 434,
   "metadata": {},
   "outputs": [
    {
     "data": {
      "text/plain": [
       "cbsasub           pct  ppl\n",
       "METRO41860MM7360  30   2     35,200.00\n",
       "                  50   2     58,650.00\n",
       "                  80   2     93,950.00\n",
       "Name: value, dtype: float64"
      ]
     },
     "execution_count": 434,
     "metadata": {},
     "output_type": "execute_result"
    }
   ],
   "source": [
    "## what are cutoffs for SF, 2 person hh?\n",
    "\n",
    "hud_income_limits_v.loc['METRO41860MM7360',:,2]"
   ]
  },
  {
   "cell_type": "code",
   "execution_count": 435,
   "metadata": {},
   "outputs": [
    {
     "name": "stdout",
     "output_type": "stream",
     "text": [
      "      hud_inclimit     HINCP  NP\n",
      "99346           80 93,000.00   2\n",
      "       hud_inclimit     HINCP  NP\n",
      "104884          80+ 94,000.00   2\n",
      "       hud_inclimit     HINCP  NP\n",
      "102617           30 35,000.00   2\n",
      "       hud_inclimit     HINCP  NP\n",
      "115977           50 36,000.00   2\n"
     ]
    }
   ],
   "source": [
    "## so, check incomes right around the cutoff to make sure that they are correctly binned\n",
    "## checks out\n",
    "\n",
    "for income in [93000,94000,35000,36000]:\n",
    "    print households.loc[(households.FMR_CODE=='METRO41860MM7360')\n",
    "                   &(households.NP==2)\n",
    "                   &(households.HINCP==income),['hud_inclimit','HINCP','NP']].dropna().head(1)"
   ]
  },
  {
   "cell_type": "markdown",
   "metadata": {},
   "source": [
    "## Summaries\n",
    "Data is loaded, mappings are done, value labels assigned. Now we can run CSA region summaries for variables of interest to identifty most similar regions.\n",
    "\n",
    "When that is done, we can subset the national data to just households in the most similar regions. Then we can prepare crowding and cost burden summaries for those subsets and compare to local and national ones."
   ]
  },
  {
   "cell_type": "code",
   "execution_count": 586,
   "metadata": {},
   "outputs": [
    {
     "data": {
      "text/plain": [
       "CSA\n",
       "Outside CSA                                            79115463\n",
       "New York-Newark, NY-NJ-CT-PA                           22587015\n",
       "Los Angeles-Long Beach, CA                             18762397\n",
       "Washington-Baltimore-Arlington, DC-MD-VA-WV-PA          9747900\n",
       "Chicago-Naperville, IL-IN-WI                            9671573\n",
       "Boston-Worcester-Providence, MA-RI-NH-CT                8237269\n",
       "San Francisco Bay Area                                  7753699\n",
       "Dallas-Fort Worth, TX-OK                                7752435\n",
       "Philadelphia-Reading-Camden, PA-NJ-DE-MD                7204346\n",
       "Houston-The Woodlands, TX                               6968835\n",
       "Miami-Port St. Lucie-Fort Lauderdale, FL                6912761\n",
       "Atlanta--Athens-Clarke County--Sandy Springs, GA-AL     6652940\n",
       "Detroit-Warren-Ann Arbor, MI                            5283991\n",
       "Phoenix-Mesa, AZ                                        4845714\n",
       "Seattle-Tacoma, WA                                      4839639\n",
       "Name: PWGTP, dtype: int64"
      ]
     },
     "execution_count": 586,
     "metadata": {},
     "output_type": "execute_result"
    }
   ],
   "source": [
    "top_n_csas=persons.groupby(['CSA']).PWGTP.sum().sort_values(ascending=False).head(50).index\n",
    "persons.groupby(['CSA']).PWGTP.sum().sort_values(ascending=False).head(15)"
   ]
  },
  {
   "cell_type": "code",
   "execution_count": 436,
   "metadata": {},
   "outputs": [
    {
     "data": {
      "text/plain": [
       "105024.9815498155"
      ]
     },
     "execution_count": 436,
     "metadata": {},
     "output_type": "execute_result"
    }
   ],
   "source": [
    "### classify households relative to 80% AMI within each CBSA.\n",
    "\n",
    "csasummary_medianinc=households[households.HINCP.notnull()].groupby(['CSA']).apply(group_median_SE_ALT,var='HINCP',percentile=[50.],weight='WGTP')\n",
    "csasummary_medianinc=csasummary_medianinc['percentile_50.0'].estimate\n",
    "csasummary_medianinc.loc['San Francisco Bay Area']"
   ]
  },
  {
   "cell_type": "code",
   "execution_count": 437,
   "metadata": {},
   "outputs": [
    {
     "data": {
      "text/plain": [
       "190300.0"
      ]
     },
     "execution_count": 437,
     "metadata": {},
     "output_type": "execute_result"
    }
   ],
   "source": [
    "csasummary_75thpercentile_inc=households[households.HINCP.notnull()].groupby(['CSA']).apply(group_median_SE_ALT,var='HINCP',percentile=[75.],weight='WGTP')\n",
    "csasummary_75thpercentile_inc=csasummary_75thpercentile_inc['percentile_75.0'].estimate\n",
    "csasummary_75thpercentile_inc.loc['San Francisco Bay Area']"
   ]
  },
  {
   "cell_type": "code",
   "execution_count": 438,
   "metadata": {},
   "outputs": [
    {
     "data": {
      "text/plain": [
       "hhinc_above_80pct_AMI  hhinc_above_80pct_AMI_HUD\n",
       "False                  hhinc_gt_80pct                129583\n",
       "                       hhinc_lt_80pct               1170611\n",
       "True                   hhinc_gt_80pct               1556256\n",
       "                       hhinc_lt_80pct                 66812\n",
       "Name: WGTP, dtype: int64"
      ]
     },
     "execution_count": 438,
     "metadata": {},
     "output_type": "execute_result"
    }
   ],
   "source": [
    "households['hhinc_median']=households.CSA.map(csasummary_medianinc)\n",
    "households['hhinc_median_80']=households.hhinc_median*.80\n",
    "households['hhinc_above_80pct_AMI']=households.HINCP>households.hhinc_median_80\n",
    "households['hhinc_above_80pct_AMI_HUD']=(households.hud_inclimit=='80+').map({True:'hhinc_gt_80pct',False:'hhinc_lt_80pct'})\n",
    "\n",
    "households.groupby(['CSA','hhinc_above_80pct_AMI','hhinc_above_80pct_AMI_HUD']).WGTP.sum().loc['San Francisco Bay Area']"
   ]
  },
  {
   "cell_type": "code",
   "execution_count": 552,
   "metadata": {},
   "outputs": [
    {
     "data": {
      "text/plain": [
       "(32068, 271)"
      ]
     },
     "execution_count": 552,
     "metadata": {},
     "output_type": "execute_result"
    }
   ],
   "source": [
    "households_bayarea=households[households.county.notnull()]\n",
    "households_bayarea.shape"
   ]
  },
  {
   "cell_type": "code",
   "execution_count": 520,
   "metadata": {},
   "outputs": [
    {
     "data": {
      "text/plain": [
       "{'Alameda County': 180000.0,\n",
       " 'Contra Costa County': 175000.0,\n",
       " 'Marin County': 230000.0,\n",
       " 'Napa County': 150000.0,\n",
       " 'San Francisco County': 210205.42857142855,\n",
       " 'San Mateo County': 218963.13559322033,\n",
       " 'Santa Clara County': 215400.88235294115,\n",
       " 'Solano County': 132371.186440678,\n",
       " 'Sonoma County': 134000.0}"
      ]
     },
     "execution_count": 520,
     "metadata": {},
     "output_type": "execute_result"
    }
   ],
   "source": [
    "csasummary_75th_percentile=households_bayarea[households_bayarea.HINCP.notnull()].groupby(['county']).apply(group_median_SE_ALT,var='HINCP',percentile=[50.,75.],weight='WGTP')\n",
    "csasummary_75th_percentile=csasummary_75th_percentile['percentile_75.0'].estimate\n",
    "csasummary_75th_percentile.to_dict()"
   ]
  },
  {
   "cell_type": "markdown",
   "metadata": {},
   "source": [
    "### Extract relevant variables"
   ]
  },
  {
   "cell_type": "code",
   "execution_count": 443,
   "metadata": {},
   "outputs": [
    {
     "data": {
      "image/png": "[encoded data removed]",
      "text/plain": [
       "<Figure size 648x432 with 1 Axes>"
      ]
     },
     "metadata": {},
     "output_type": "display_data"
    }
   ],
   "source": [
    "## load gdp separately - last year 2017\n",
    "gdp_per_worker=pd.read_excel(os.path.join(drop,'Data/RHNA/gdp_per_worker.xlsx'),index_col=[1,2]).gdp_per_worker\n",
    "gdp_per_worker=gdp_per_worker.unstack(1)[2017].dropna().sort_values(ascending=True).tail(25).plot(kind='barh')"
   ]
  },
  {
   "cell_type": "code",
   "execution_count": 522,
   "metadata": {},
   "outputs": [],
   "source": [
    "## severe cost burden\n",
    "\n",
    "#csasummary_burden_rent=hsgcost.loc(0)[:,['Rented']].estimate.groupby(level=[0,1]).apply(pct)\n",
    "csasummary_burden_own=hsgcost.loc(0)[:,['Owned']].estimate.groupby(level=[0,1]).apply(pct).loc[:,:,'50 + pct'].reset_index(1,drop=True)\n",
    "csasummary_burden_rent=hsgcost.loc(0)[:,['Rented']].estimate.groupby(level=[0,1]).apply(pct).loc[:,:,'50 + pct'].reset_index(1,drop=True)\n",
    "#csasummary_burden_rent.sort_values()"
   ]
  },
  {
   "cell_type": "code",
   "execution_count": 445,
   "metadata": {},
   "outputs": [],
   "source": [
    "## race\n",
    "\n",
    "csasummary_race=persons.groupby(['CSA','rac_ethn_remi']).PWGTP.sum().groupby(level=0).apply(pct)\n",
    "#csasummary_race"
   ]
  },
  {
   "cell_type": "code",
   "execution_count": 446,
   "metadata": {},
   "outputs": [],
   "source": [
    "## hhincome\n",
    "\n",
    "csasummary_hhinc=households.groupby(['CSA','inc_cat_coarse']).WGTP.sum().groupby(level=0).apply(pct)"
   ]
  },
  {
   "cell_type": "code",
   "execution_count": 447,
   "metadata": {},
   "outputs": [],
   "source": [
    "## LFPR\n",
    "\n",
    "csasummary_slf_15_65_mf=persons.loc[persons.AGEP.isin(range(15,65))].groupby(['CSA','in_labor_force']).PWGTP.sum().groupby(level=0).apply(pct).loc[:,'In Labor Force']\n",
    "csasummary_slf_15_65_m=persons.loc[(persons.AGEP.isin(range(15,65)))&(persons.SEX==1)].groupby(['CSA','in_labor_force']).PWGTP.sum().groupby(level=0).apply(pct).loc[:,'In Labor Force']\n",
    "csasummary_slf_15_65_f=persons.loc[(persons.AGEP.isin(range(15,65)))&(persons.SEX==2)].groupby(['CSA','in_labor_force']).PWGTP.sum().groupby(level=0).apply(pct).loc[:,'In Labor Force']"
   ]
  },
  {
   "cell_type": "code",
   "execution_count": 448,
   "metadata": {},
   "outputs": [],
   "source": [
    "csasummary_slf_21_30_mf=persons.loc[persons.AGEP.isin(range(21,31))].groupby(['CSA','in_labor_force']).PWGTP.sum().groupby(level=0).apply(pct).loc[:,'In Labor Force']"
   ]
  },
  {
   "cell_type": "code",
   "execution_count": 449,
   "metadata": {},
   "outputs": [],
   "source": [
    "## age groups\n",
    "\n",
    "csasummary_youth=persons.groupby(['CSA','age_coarse']).PWGTP.sum().groupby(level=0).apply(pct).loc[:,'20-29']\n",
    "\n",
    "csasummary_seniors=persons.groupby(['CSA','age_coarse']).PWGTP.sum().groupby(level=0).apply(pct).loc[:,'65p']"
   ]
  },
  {
   "cell_type": "code",
   "execution_count": 450,
   "metadata": {},
   "outputs": [],
   "source": [
    "## occupations\n",
    "\n",
    "csasummary_occ_prof=persons.groupby(['CSA','occ_is_professional']).PWGTP.sum().groupby(level=0).apply(pct).unstack(1)[True]\n",
    "csasummary_occ_svcs=persons.groupby(['CSA','occ_is_service']).PWGTP.sum().groupby(level=0).apply(pct).unstack(1)[True]"
   ]
  },
  {
   "cell_type": "code",
   "execution_count": 451,
   "metadata": {},
   "outputs": [],
   "source": [
    "## built since 2005\n",
    "\n",
    "csasummary_post2005=households.groupby(['CSA','yr_blt']).WGTP.sum().groupby(level=0).apply(pct).unstack(1)['2005 to 2018']"
   ]
  },
  {
   "cell_type": "code",
   "execution_count": 554,
   "metadata": {},
   "outputs": [],
   "source": [
    "## vacant units\n",
    "\n",
    "csasummary_vacant=households.groupby(['CSA','is_vacant']).WGTP.sum().groupby(level=0).apply(pct).loc[:,True]"
   ]
  },
  {
   "cell_type": "code",
   "execution_count": 555,
   "metadata": {},
   "outputs": [],
   "source": [
    "## crowded households\n",
    "\n",
    "csasummary_crowd=households.groupby(['CSA','is_crowded']).WGTP.sum().groupby(level=0).apply(pct).loc[:,True]"
   ]
  },
  {
   "cell_type": "code",
   "execution_count": 454,
   "metadata": {},
   "outputs": [],
   "source": [
    "## povpip - Income-to-poverty ratio recode\n",
    "\n",
    "csasummary_pov=persons[persons.POVPIP.notnull()].groupby(['CSA']).apply(group_median_SE_ALT,var='POVPIP',percentile=[50.],weight='PWGTP')\n",
    "csasummary_pov=csasummary_pov['percentile_50.0'].estimate"
   ]
  },
  {
   "cell_type": "code",
   "execution_count": 455,
   "metadata": {},
   "outputs": [],
   "source": [
    "## inc below poverty\n",
    "\n",
    "csasummary_fpl=households.groupby(['CSA','hinc_belov_fpl']).WGTP.sum().groupby(level=0).apply(pct).unstack(1)[True]"
   ]
  },
  {
   "cell_type": "code",
   "execution_count": 456,
   "metadata": {},
   "outputs": [],
   "source": [
    "## 2x inc below poverty\n",
    "\n",
    "csasummary_fpl2x=households.groupby(['CSA','hinc_2x_belov_fpl']).WGTP.sum().groupby(level=0).apply(pct).unstack(1)[True]"
   ]
  },
  {
   "cell_type": "code",
   "execution_count": 457,
   "metadata": {},
   "outputs": [],
   "source": [
    "## journey to work\n",
    "\n",
    "csasummary_jtw=persons.groupby(['CSA','JWTR_l']).PWGTP.sum().groupby(level=0).apply(pct).unstack(1)\n",
    "#csasummary_jtw"
   ]
  },
  {
   "cell_type": "code",
   "execution_count": 458,
   "metadata": {},
   "outputs": [],
   "source": [
    "## move status from abroad\n",
    "\n",
    "csasummary_fromabroad=persons.groupby(['CSA','MIG']).PWGTP.sum().groupby(level=0).apply(pct).unstack(1)[3]"
   ]
  },
  {
   "cell_type": "code",
   "execution_count": 459,
   "metadata": {},
   "outputs": [],
   "source": [
    "## move status generally\n",
    "\n",
    "csasummary_movestatus=persons.groupby(['CSA','movestatus']).PWGTP.sum().groupby(level=0).apply(pct).unstack(1)['Moved from outside region']"
   ]
  },
  {
   "cell_type": "markdown",
   "metadata": {},
   "source": [
    "### Combine the various profile components - MAKE SURE order matches with keys list"
   ]
  },
  {
   "cell_type": "code",
   "execution_count": 556,
   "metadata": {},
   "outputs": [],
   "source": [
    "combodata=pd.concat([csasummary_movestatus,\n",
    "                     csasummary_fpl2x,#csasummary_pov,\n",
    "                     csasummary_crowd,\n",
    "                     csasummary_vacant,\n",
    "                     csasummary_post2005,\n",
    "                     csasummary_occ_prof,\n",
    "                     csasummary_occ_svcs,\n",
    "                     #csasummary_race,\n",
    "                     #gdp_per_worker,\n",
    "                     csasummary_hhinc.loc[:,'$0 to $49,999'],\n",
    "                     csasummary_hhinc.loc[:,'$200,000 +'],\n",
    "                     csasummary_slf_21_30_mf,\n",
    "                     csasummary_slf_15_65_mf,\n",
    "                     csasummary_seniors,\n",
    "                     csasummary_youth,\n",
    "                     csasummary_burden_rent],\n",
    "         \n",
    "         keys=['csasummary_movestatus',\n",
    "               'csasummary_fpl2x',#'csasummary_pov',\n",
    "               'csasummary_crowd',\n",
    "               'csasummary_vacant',\n",
    "               'csasummary_post2005',\n",
    "               'csasummary_occ_prof',\n",
    "               'csasummary_occ_svcs',\n",
    "               #'csasummary_race',\n",
    "               #'gdp_per_worker',\n",
    "               'csasummary_hhinc_low',\n",
    "               'csasummary_hhinc_high',\n",
    "               'csasummary_slf_21_30_mf',\n",
    "               'csasummary_slf_15_65_mf',\n",
    "               'csasummary_seniors',\n",
    "               'csasummary_youth',\n",
    "               'csasummary_burden_rent'],\n",
    "                    names=['variable','csa'])\n",
    "\n",
    "combodata=combodata.unstack('variable').dropna().loc[top_n_csas]#.drop(['gdp_per_worker'],axis=1)#,'csasummary_crowd','csasummary_vacant'],axis=1)"
   ]
  },
  {
   "cell_type": "code",
   "execution_count": 526,
   "metadata": {},
   "outputs": [
    {
     "data": {
      "text/plain": [
       "(array([ 0.5,  1.5,  2.5,  3.5,  4.5,  5.5,  6.5,  7.5,  8.5,  9.5, 10.5,\n",
       "        11.5, 12.5, 13.5]), <a list of 14 Text xticklabel objects>)"
      ]
     },
     "execution_count": 526,
     "metadata": {},
     "output_type": "execute_result"
    },
    {
     "data": {
      "image/png": "[encoded data removed]",
      "text/plain": [
       "<Figure size 792x792 with 2 Axes>"
      ]
     },
     "metadata": {},
     "output_type": "display_data"
    }
   ],
   "source": [
    "fmt_abs = lambda x,pos: '{:,.2f}'.format(x)\n",
    "\n",
    "fig, ax = plt.subplots()\n",
    "fig.set_figwidth(11)\n",
    "fig.set_figheight(11)        \n",
    "ax=sns.heatmap(combodata.corr(),\n",
    "             annot=True, fmt='.1f',annot_kws={\"size\": 13.1,'rotation':0},linewidths=.5,\n",
    "              cbar_kws={'format': FuncFormatter(fmt_abs)},\n",
    "               cmap=cm.coolwarm,norm=MidpointNormalize(midpoint=.5));\n",
    "title('Profile variables, correlation\\nSource: U.S. Census Bureau, PUMS')\n",
    "plt.tight_layout()\n",
    "plt.xticks(rotation=45)"
   ]
  },
  {
   "cell_type": "code",
   "execution_count": 557,
   "metadata": {},
   "outputs": [
    {
     "data": {
      "text/html": [
       "<div>\n",
       "<style scoped>\n",
       "    .dataframe tbody tr th:only-of-type {\n",
       "        vertical-align: middle;\n",
       "    }\n",
       "\n",
       "    .dataframe tbody tr th {\n",
       "        vertical-align: top;\n",
       "    }\n",
       "\n",
       "    .dataframe thead th {\n",
       "        text-align: right;\n",
       "    }\n",
       "</style>\n",
       "<table border=\"1\" class=\"dataframe\">\n",
       "  <thead>\n",
       "    <tr style=\"text-align: right;\">\n",
       "      <th>variable</th>\n",
       "      <th>csasummary_movestatus</th>\n",
       "      <th>csasummary_fpl2x</th>\n",
       "      <th>csasummary_crowd</th>\n",
       "      <th>csasummary_vacant</th>\n",
       "      <th>csasummary_post2005</th>\n",
       "      <th>csasummary_occ_prof</th>\n",
       "      <th>csasummary_occ_svcs</th>\n",
       "      <th>csasummary_hhinc_low</th>\n",
       "      <th>csasummary_hhinc_high</th>\n",
       "      <th>csasummary_slf_21_30_mf</th>\n",
       "      <th>csasummary_slf_15_65_mf</th>\n",
       "      <th>csasummary_seniors</th>\n",
       "      <th>csasummary_youth</th>\n",
       "      <th>csasummary_burden_rent</th>\n",
       "    </tr>\n",
       "    <tr>\n",
       "      <th>CSA</th>\n",
       "      <th></th>\n",
       "      <th></th>\n",
       "      <th></th>\n",
       "      <th></th>\n",
       "      <th></th>\n",
       "      <th></th>\n",
       "      <th></th>\n",
       "      <th></th>\n",
       "      <th></th>\n",
       "      <th></th>\n",
       "      <th></th>\n",
       "      <th></th>\n",
       "      <th></th>\n",
       "      <th></th>\n",
       "    </tr>\n",
       "  </thead>\n",
       "  <tbody>\n",
       "    <tr>\n",
       "      <th>San Francisco Bay Area</th>\n",
       "      <td>0.13</td>\n",
       "      <td>0.16</td>\n",
       "      <td>0.07</td>\n",
       "      <td>0.02</td>\n",
       "      <td>0.09</td>\n",
       "      <td>0.26</td>\n",
       "      <td>0.17</td>\n",
       "      <td>0.24</td>\n",
       "      <td>0.23</td>\n",
       "      <td>0.83</td>\n",
       "      <td>0.77</td>\n",
       "      <td>0.15</td>\n",
       "      <td>0.14</td>\n",
       "      <td>0.23</td>\n",
       "    </tr>\n",
       "  </tbody>\n",
       "</table>\n",
       "</div>"
      ],
      "text/plain": [
       "variable                csasummary_movestatus  csasummary_fpl2x  csasummary_crowd  csasummary_vacant  csasummary_post2005  csasummary_occ_prof  csasummary_occ_svcs  csasummary_hhinc_low  csasummary_hhinc_high  csasummary_slf_21_30_mf  csasummary_slf_15_65_mf  csasummary_seniors  csasummary_youth  csasummary_burden_rent\n",
       "CSA                                                                                                                                                                                                                                                                                                                             \n",
       "San Francisco Bay Area                   0.13              0.16              0.07               0.02                 0.09                 0.26                 0.17                  0.24                   0.23                     0.83                     0.77                0.15              0.14                    0.23"
      ]
     },
     "execution_count": 557,
     "metadata": {},
     "output_type": "execute_result"
    }
   ],
   "source": [
    "#CSA_target=combodata.loc[[u'San Jose-San Francisco-Oakland, CA']]\n",
    "CSA_target=combodata.loc[[u'San Francisco Bay Area']]\n",
    "CSA_target"
   ]
  },
  {
   "cell_type": "code",
   "execution_count": 558,
   "metadata": {},
   "outputs": [],
   "source": [
    "CSA_candidates=combodata.copy()"
   ]
  },
  {
   "cell_type": "markdown",
   "metadata": {},
   "source": [
    "## Identify comparable regions\n",
    "* We start with the universe of `top_n_csas` region, set at 50 regions\n",
    "* We then identify the 7 regions (8 including the Bay Area) that are closest on the selected variable dimensions"
   ]
  },
  {
   "cell_type": "code",
   "execution_count": 560,
   "metadata": {},
   "outputs": [
    {
     "name": "stdout",
     "output_type": "stream",
     "text": [
      "1st place: CSA San Francisco Bay Area, with an euclidean distance of 0.000\n",
      "2nd place: CSA Washington-Baltimore-Arlington, DC-MD-VA-WV-PA, with an euclidean distance of 0.142\n",
      "3rd place: CSA Seattle-Tacoma, WA, with an euclidean distance of 0.174\n",
      "4th place: CSA Boston-Worcester-Providence, MA-RI-NH-CT, with an euclidean distance of 0.195\n",
      "5th place: CSA Denver-Aurora, CO, with an euclidean distance of 0.202\n",
      "6th place: CSA Minneapolis-St. Paul, MN-WI, with an euclidean distance of 0.219\n",
      "7th place: CSA Hartford-East Hartford, CT, with an euclidean distance of 0.222\n",
      "8th place: CSA New York-Newark, NY-NJ-CT-PA, with an euclidean distance of 0.225\n"
     ]
    }
   ],
   "source": [
    "from scipy import spatial\n",
    "RUNNERS_UP=8\n",
    "rankmap={}\n",
    "rankmap_ordinal={}\n",
    "\n",
    "#tree = KDTree(CSA_candidates.fillna(0).as_matrix(), leaf_size=3)              \n",
    "\n",
    "## actually the spatial version from scipy has a few more parameters \n",
    "tree = spatial.KDTree(CSA_candidates.fillna(0), leafsize=3) \n",
    "dist, ind = tree.query(CSA_target.fillna(0), \n",
    "                       k=RUNNERS_UP,p=2) # p parameter 1: manhattan dist; 2: euclidean\n",
    "\n",
    "## nifty function to turn cardinal numbers into ordinal, from \n",
    "## https://codegolf.stackexchange.com/questions/4707/outputting-ordinal-numbers-1st-2nd-3rd#answer-4712\n",
    "\n",
    "ordinal = lambda n: \"%d%s\" % (n,\"tsnrhtdd\"[(n/10%10!=1)*(n%10<4)*n%10::4])\n",
    "\n",
    "for i,item in enumerate(zip(ind[0],dist[0])):\n",
    "    rankmap[CSA_candidates.iloc[[ind[0,i]]].index.values[0]]=ordinal(i+1)\n",
    "    rankmap_ordinal[CSA_candidates.iloc[[ind[0,i]]].index.values[0]]=int(i)\n",
    "    print \"{n} place: CSA {csa}, with an euclidean distance of {dist:0.3f}\".format(\n",
    "        n=ordinal(i+1),csa=CSA_candidates.iloc[[ind[0,i]]].index.values[0],dist=dist[0][i])"
   ]
  },
  {
   "cell_type": "markdown",
   "metadata": {},
   "source": [
    "Reassuringly, we see that San Francisco Bay Area is most similar to... itself!"
   ]
  },
  {
   "cell_type": "markdown",
   "metadata": {},
   "source": [
    "####  Second, subset PUMS data to just the top n CSAs\n",
    "We use this subset to run summaries, averaged across the top 7 comparable regions."
   ]
  },
  {
   "cell_type": "code",
   "execution_count": 561,
   "metadata": {},
   "outputs": [],
   "source": [
    "persons_comp=persons.loc[persons.CSA.isin(CSA_candidates.iloc[ind[0]].index[1:])]\n",
    "households_comp=households.loc[households.CSA.isin(CSA_candidates.iloc[ind[0]].index[1:])]"
   ]
  },
  {
   "cell_type": "code",
   "execution_count": 562,
   "metadata": {},
   "outputs": [],
   "source": [
    "# CSA_candidates_for_r=CSA_candidates.iloc[ind[0]].append(CSA_candidates.loc[['Fresno-Madera-Hanford, CA']]).stack().reset_index(name='value')\n",
    "# CSA_candidates_for_r.variable=CSA_candidates_for_r.variable.str.replace('csasummary_','')\n",
    "# CSA_candidates_for_r.to_csv(os.path.join(drop,'Data/RHNA/pums_comparable_regions.csv'))"
   ]
  },
  {
   "cell_type": "markdown",
   "metadata": {},
   "source": [
    "### Compile crowding, vacancy and cost burden data for different geographies\n",
    "\n",
    "#### 1: NOT segmented by tenure"
   ]
  },
  {
   "cell_type": "code",
   "execution_count": 563,
   "metadata": {},
   "outputs": [
    {
     "data": {
      "text/plain": [
       "Geography           RT  ten_univ\n",
       "Bay Area            H   Owned      0.04\n",
       "                        Rented     0.05\n",
       "Comparable Regions  H   Owned      0.04\n",
       "                        Rented     0.06\n",
       "U.S.                H   Owned      0.05\n",
       "                        Rented     0.09\n",
       "Name: WGTP, dtype: float64"
      ]
     },
     "execution_count": 563,
     "metadata": {},
     "output_type": "execute_result"
    }
   ],
   "source": [
    "vacancy_geo_ten=pd.concat([\n",
    "    ## region\n",
    "    households_bayarea[households_bayarea.vac_status_gen.isin(['Owned','Rented'])].WGTP.sum()/\\\n",
    "    households_bayarea[households_bayarea.ten_univ.isin(['Owned','Rented'])].groupby(['RT','ten_univ']).WGTP.sum(),\n",
    "    \n",
    "    ## comparable\n",
    "    households_comp[households_comp.vac_status_gen.isin(['Owned','Rented'])].WGTP.sum()/\\\n",
    "    households_comp[households_comp.ten_univ.isin(['Owned','Rented'])].groupby(['RT','ten_univ']).WGTP.sum(),\n",
    "    \n",
    "    # U.S.\n",
    "    households[households.vac_status_gen.isin(['Owned','Rented'])].WGTP.sum()/\\\n",
    "    households[households.ten_univ.isin(['Owned','Rented'])].groupby(['RT','ten_univ']).WGTP.sum()],\n",
    "           keys=['Bay Area','Comparable Regions','U.S.'],names=['Geography'])\n",
    "vacancy_geo_ten"
   ]
  },
  {
   "cell_type": "code",
   "execution_count": 579,
   "metadata": {},
   "outputs": [],
   "source": [
    "## vacancy percentage for comparable regions, by tenure, household income category\n",
    "## for TENURE sheet\n",
    "\n",
    "vacancy_geo_ten=pd.concat([\n",
    "    ## region\n",
    "    households_bayarea[households_bayarea.vac_status_gen.isin(['Owned','Rented'])].groupby(['vac_status_gen']).WGTP.sum()/\\\n",
    "    households_bayarea[households_bayarea.ten_univ.isin(['Owned','Rented'])].groupby(['ten_univ']).WGTP.sum(),\n",
    "    \n",
    "    ## comparable\n",
    "    households_comp[households_comp.vac_status_gen.isin(['Owned','Rented'])].groupby(['vac_status_gen']).WGTP.sum()/\\\n",
    "    households_comp[households_comp.ten_univ.isin(['Owned','Rented'])].groupby(['ten_univ']).WGTP.sum(),\n",
    "    \n",
    "    # U.S.\n",
    "    households[households.vac_status_gen.isin(['Owned','Rented'])].groupby(['vac_status_gen']).WGTP.sum()/\\\n",
    "    households[households.ten_univ.isin(['Owned','Rented'])].groupby(['ten_univ']).WGTP.sum()],\n",
    "           keys=['Bay Area','Comparable Regions','U.S.'],names=['Geography'])\n",
    "\n",
    "\n",
    "## add totals\n",
    "vacancy_geo_ten_TOTAL=pd.concat([pd.concat([\n",
    "    ## region\n",
    "    households_bayarea[households_bayarea.vac_status_gen.isin(['Owned','Rented'])].WGTP.sum()/\\\n",
    "    households_bayarea[households_bayarea.ten_univ.isin(['Owned','Rented'])].groupby(['RT']).WGTP.sum(),\n",
    "    \n",
    "    ## comparable\n",
    "    households_comp[households_comp.vac_status_gen.isin(['Owned','Rented'])].WGTP.sum()/\\\n",
    "    households_comp[households_comp.ten_univ.isin(['Owned','Rented'])].groupby(['RT']).WGTP.sum(),\n",
    "    \n",
    "    # U.S.\n",
    "    households[households.vac_status_gen.isin(['Owned','Rented'])].WGTP.sum()/\\\n",
    "    households[households.ten_univ.isin(['Owned','Rented'])].groupby(['RT']).WGTP.sum()],\n",
    "           keys=['Bay Area','Comparable Regions','U.S.'],names=['Geography'])],\n",
    "                                keys=['Total'],names=['vac_status_gen']).reset_index('RT',drop=True).reorder_levels(vacancy_geo_ten.index.names)\n",
    "\n",
    "vacancy_geo_ten=vacancy_geo_ten.append(vacancy_geo_ten_TOTAL).sort_index()\n",
    "\n",
    "vacancy_geo_ten.unstack().to_clipboard()"
   ]
  },
  {
   "cell_type": "code",
   "execution_count": 565,
   "metadata": {},
   "outputs": [
    {
     "data": {
      "text/html": [
       "<div>\n",
       "<style scoped>\n",
       "    .dataframe tbody tr th:only-of-type {\n",
       "        vertical-align: middle;\n",
       "    }\n",
       "\n",
       "    .dataframe tbody tr th {\n",
       "        vertical-align: top;\n",
       "    }\n",
       "\n",
       "    .dataframe thead th {\n",
       "        text-align: right;\n",
       "    }\n",
       "</style>\n",
       "<table border=\"1\" class=\"dataframe\">\n",
       "  <thead>\n",
       "    <tr style=\"text-align: right;\">\n",
       "      <th>is_cost_burdened</th>\n",
       "      <th>False</th>\n",
       "      <th>True</th>\n",
       "    </tr>\n",
       "    <tr>\n",
       "      <th>Geography</th>\n",
       "      <th></th>\n",
       "      <th></th>\n",
       "    </tr>\n",
       "  </thead>\n",
       "  <tbody>\n",
       "    <tr>\n",
       "      <th>Bay Area</th>\n",
       "      <td>0.67</td>\n",
       "      <td>0.33</td>\n",
       "    </tr>\n",
       "    <tr>\n",
       "      <th>Comparable Regions</th>\n",
       "      <td>0.68</td>\n",
       "      <td>0.32</td>\n",
       "    </tr>\n",
       "    <tr>\n",
       "      <th>U.S.</th>\n",
       "      <td>0.73</td>\n",
       "      <td>0.27</td>\n",
       "    </tr>\n",
       "  </tbody>\n",
       "</table>\n",
       "</div>"
      ],
      "text/plain": [
       "is_cost_burdened    False  True \n",
       "Geography                       \n",
       "Bay Area             0.67   0.33\n",
       "Comparable Regions   0.68   0.32\n",
       "U.S.                 0.73   0.27"
      ]
     },
     "execution_count": 565,
     "metadata": {},
     "output_type": "execute_result"
    }
   ],
   "source": [
    "## crowding percentage for comparable regions\n",
    "\n",
    "comparable_burden=pd.concat([households_bayarea.groupby(['is_cost_burdened']).WGTP.sum()/households_bayarea.WGTP.sum(),\n",
    "            (households_comp.groupby(['is_cost_burdened']).WGTP.sum()/households_comp.WGTP.sum()),\n",
    "           (households.groupby(['is_cost_burdened']).WGTP.sum()/households.WGTP.sum())],\n",
    "           keys=['Bay Area','Comparable Regions','U.S.'],names=['Geography']).unstack(1)\n",
    "comparable_burden"
   ]
  },
  {
   "cell_type": "code",
   "execution_count": 566,
   "metadata": {},
   "outputs": [
    {
     "data": {
      "text/html": [
       "<div>\n",
       "<style scoped>\n",
       "    .dataframe tbody tr th:only-of-type {\n",
       "        vertical-align: middle;\n",
       "    }\n",
       "\n",
       "    .dataframe tbody tr th {\n",
       "        vertical-align: top;\n",
       "    }\n",
       "\n",
       "    .dataframe thead th {\n",
       "        text-align: right;\n",
       "    }\n",
       "</style>\n",
       "<table border=\"1\" class=\"dataframe\">\n",
       "  <thead>\n",
       "    <tr style=\"text-align: right;\">\n",
       "      <th>is_crowded</th>\n",
       "      <th>False</th>\n",
       "      <th>True</th>\n",
       "    </tr>\n",
       "    <tr>\n",
       "      <th>Geography</th>\n",
       "      <th></th>\n",
       "      <th></th>\n",
       "    </tr>\n",
       "  </thead>\n",
       "  <tbody>\n",
       "    <tr>\n",
       "      <th>Bay Area</th>\n",
       "      <td>0.93</td>\n",
       "      <td>0.07</td>\n",
       "    </tr>\n",
       "    <tr>\n",
       "      <th>Comparable Regions</th>\n",
       "      <td>0.97</td>\n",
       "      <td>0.03</td>\n",
       "    </tr>\n",
       "    <tr>\n",
       "      <th>U.S.</th>\n",
       "      <td>0.97</td>\n",
       "      <td>0.03</td>\n",
       "    </tr>\n",
       "  </tbody>\n",
       "</table>\n",
       "</div>"
      ],
      "text/plain": [
       "is_crowded          False  True \n",
       "Geography                       \n",
       "Bay Area             0.93   0.07\n",
       "Comparable Regions   0.97   0.03\n",
       "U.S.                 0.97   0.03"
      ]
     },
     "execution_count": 566,
     "metadata": {},
     "output_type": "execute_result"
    }
   ],
   "source": [
    "## cost burden percentage for comparable regions\n",
    "\n",
    "comparable_crowding=pd.concat([households_bayarea.groupby(['is_crowded']).WGTP.sum()/households_bayarea.WGTP.sum(),\n",
    "            (households_comp.groupby(['is_crowded']).WGTP.sum()/households_comp.WGTP.sum()),\n",
    "           (households.groupby(['is_crowded']).WGTP.sum()/households.WGTP.sum())],\n",
    "           keys=['Bay Area','Comparable Regions','U.S.'],names=['Geography']).unstack(1)\n",
    "comparable_crowding"
   ]
  },
  {
   "cell_type": "markdown",
   "metadata": {},
   "source": [
    "#### 2: Segmented  by tenure"
   ]
  },
  {
   "cell_type": "code",
   "execution_count": 567,
   "metadata": {},
   "outputs": [
    {
     "data": {
      "text/html": [
       "<div>\n",
       "<style scoped>\n",
       "    .dataframe tbody tr th:only-of-type {\n",
       "        vertical-align: middle;\n",
       "    }\n",
       "\n",
       "    .dataframe tbody tr th {\n",
       "        vertical-align: top;\n",
       "    }\n",
       "\n",
       "    .dataframe thead th {\n",
       "        text-align: right;\n",
       "    }\n",
       "</style>\n",
       "<table border=\"1\" class=\"dataframe\">\n",
       "  <thead>\n",
       "    <tr style=\"text-align: right;\">\n",
       "      <th></th>\n",
       "      <th>TEN_l</th>\n",
       "      <th>Owned</th>\n",
       "      <th>Rented</th>\n",
       "    </tr>\n",
       "    <tr>\n",
       "      <th>Geography</th>\n",
       "      <th>is_crowded</th>\n",
       "      <th></th>\n",
       "      <th></th>\n",
       "    </tr>\n",
       "  </thead>\n",
       "  <tbody>\n",
       "    <tr>\n",
       "      <th>Bay Area</th>\n",
       "      <th>True</th>\n",
       "      <td>0.03</td>\n",
       "      <td>0.13</td>\n",
       "    </tr>\n",
       "    <tr>\n",
       "      <th>Comparable Regions</th>\n",
       "      <th>True</th>\n",
       "      <td>0.02</td>\n",
       "      <td>0.07</td>\n",
       "    </tr>\n",
       "    <tr>\n",
       "      <th>U.S.</th>\n",
       "      <th>True</th>\n",
       "      <td>0.02</td>\n",
       "      <td>0.06</td>\n",
       "    </tr>\n",
       "  </tbody>\n",
       "</table>\n",
       "</div>"
      ],
      "text/plain": [
       "TEN_l                          Owned  Rented\n",
       "Geography          is_crowded               \n",
       "Bay Area           True         0.03    0.13\n",
       "Comparable Regions True         0.02    0.07\n",
       "U.S.               True         0.02    0.06"
      ]
     },
     "execution_count": 567,
     "metadata": {},
     "output_type": "execute_result"
    }
   ],
   "source": [
    "## crowding percentage for comparable regions\n",
    "\n",
    "comparable_crowding_ten=pd.concat([households_bayarea.groupby(['TEN_l','is_crowded']).WGTP.sum()/households_bayarea.groupby('TEN_l').WGTP.sum(),\n",
    "            (households_comp.groupby(['TEN_l','is_crowded']).WGTP.sum()/households_comp.groupby('TEN_l').WGTP.sum()),\n",
    "           (households.groupby(['TEN_l','is_crowded']).WGTP.sum()/households.groupby('TEN_l').WGTP.sum())],\n",
    "           keys=['Bay Area','Comparable Regions','U.S.'],names=['Geography']).unstack(1)\n",
    "comparable_crowding_ten=comparable_crowding_ten.loc(0)[:,True][['Owned','Rented']]\n",
    "comparable_crowding_ten"
   ]
  },
  {
   "cell_type": "code",
   "execution_count": 568,
   "metadata": {},
   "outputs": [
    {
     "data": {
      "text/html": [
       "<div>\n",
       "<style scoped>\n",
       "    .dataframe tbody tr th:only-of-type {\n",
       "        vertical-align: middle;\n",
       "    }\n",
       "\n",
       "    .dataframe tbody tr th {\n",
       "        vertical-align: top;\n",
       "    }\n",
       "\n",
       "    .dataframe thead th {\n",
       "        text-align: right;\n",
       "    }\n",
       "</style>\n",
       "<table border=\"1\" class=\"dataframe\">\n",
       "  <thead>\n",
       "    <tr style=\"text-align: right;\">\n",
       "      <th></th>\n",
       "      <th>TEN_l</th>\n",
       "      <th>Owned</th>\n",
       "      <th>Rented</th>\n",
       "    </tr>\n",
       "    <tr>\n",
       "      <th>Geography</th>\n",
       "      <th>is_cost_burdened</th>\n",
       "      <th></th>\n",
       "      <th></th>\n",
       "    </tr>\n",
       "  </thead>\n",
       "  <tbody>\n",
       "    <tr>\n",
       "      <th>Bay Area</th>\n",
       "      <th>True</th>\n",
       "      <td>0.29</td>\n",
       "      <td>0.46</td>\n",
       "    </tr>\n",
       "    <tr>\n",
       "      <th>Comparable Regions</th>\n",
       "      <th>True</th>\n",
       "      <td>0.27</td>\n",
       "      <td>0.50</td>\n",
       "    </tr>\n",
       "    <tr>\n",
       "      <th>U.S.</th>\n",
       "      <th>True</th>\n",
       "      <td>0.22</td>\n",
       "      <td>0.49</td>\n",
       "    </tr>\n",
       "  </tbody>\n",
       "</table>\n",
       "</div>"
      ],
      "text/plain": [
       "TEN_l                                Owned  Rented\n",
       "Geography          is_cost_burdened               \n",
       "Bay Area           True               0.29    0.46\n",
       "Comparable Regions True               0.27    0.50\n",
       "U.S.               True               0.22    0.49"
      ]
     },
     "execution_count": 568,
     "metadata": {},
     "output_type": "execute_result"
    }
   ],
   "source": [
    "## cost burden percentage for comparable regions\n",
    "\n",
    "comparable_burdened_ten=pd.concat([households_bayarea.groupby(['TEN_l','is_cost_burdened']).WGTP.sum()/households_bayarea.groupby('TEN_l').WGTP.sum(),\n",
    "            (households_comp.groupby(['TEN_l','is_cost_burdened']).WGTP.sum()/households_comp.groupby('TEN_l').WGTP.sum()),\n",
    "           (households.groupby(['TEN_l','is_cost_burdened']).WGTP.sum()/households.groupby('TEN_l').WGTP.sum())],\n",
    "           keys=['Bay Area','Comparable Regions','U.S.'],names=['Geography']).unstack(1)\n",
    "comparable_burdened_ten=comparable_burdened_ten.loc(0)[:,True][['Owned','Rented']]\n",
    "comparable_burdened_ten"
   ]
  },
  {
   "cell_type": "code",
   "execution_count": 569,
   "metadata": {},
   "outputs": [],
   "source": [
    "## WITH TOTALS - cost burden percentage for comparable regions, by tenure, household income category\n",
    "\n",
    "compraable_crowd_ten=pd.concat([\n",
    "    ## region\n",
    "    households_bayarea.groupby(['RT','TEN_l','is_crowded']).WGTP.sum()/households_bayarea.groupby(['RT','TEN_l']).WGTP.sum(),\n",
    "    \n",
    "    ## comparable\n",
    "    households_comp.groupby(['RT','TEN_l','is_crowded']).WGTP.sum()/households_comp.groupby(['RT','TEN_l']).WGTP.sum(),\n",
    "    \n",
    "    # U.S.\n",
    "    (households.groupby(['RT','TEN_l','is_crowded']).WGTP.sum()/households.groupby(['RT','TEN_l']).WGTP.sum())],\n",
    "           keys=['Bay Area','Comparable Regions','U.S.'],names=['Geography'])\n",
    "\n",
    "\n",
    "## add totals\n",
    "compraable_crowd_ten_TOTAL=pd.concat([pd.concat([## region\n",
    "    households_bayarea.groupby(['RT','is_crowded']).WGTP.sum()/households_bayarea[households_bayarea.TEN_l!='VAC/GQ'].groupby(['RT']).WGTP.sum(),\n",
    "\n",
    "    ## comparable\n",
    "    households_comp.groupby(['RT','is_crowded']).WGTP.sum()/households_comp[households_comp.TEN_l!='VAC/GQ'].groupby(['RT']).WGTP.sum(),\n",
    "\n",
    "    # U.S.\n",
    "    (households.groupby(['RT','is_crowded']).WGTP.sum()/households[households.TEN_l!='VAC/GQ'].groupby(['RT']).WGTP.sum())],\n",
    "    keys=['Bay Area','Comparable Regions','U.S.'],names=['Geography'])],keys=['Total'],names=['TEN_l'])\n",
    "compraable_crowd_ten_TOTAL=compraable_crowd_ten_TOTAL.reorder_levels(compraable_crowd_ten.index.names)\n",
    "compraable_crowd_ten=compraable_crowd_ten.append(compraable_crowd_ten_TOTAL).sort_index().loc[:,:,['Owned','Rented','Total'],True].reset_index(['RT','is_crowded'],drop=True)\n"
   ]
  },
  {
   "cell_type": "markdown",
   "metadata": {},
   "source": [
    "#### 3: Segmented  by tenure, 80% AMI"
   ]
  },
  {
   "cell_type": "code",
   "execution_count": 570,
   "metadata": {},
   "outputs": [],
   "source": [
    "## WITH TOTALS cost burden percentage for comparable regions, by tenure, household income category\n",
    "\n",
    "comparable_burdened_ten_AMI=pd.concat([\n",
    "    ## region\n",
    "    households_bayarea.groupby(['hhinc_above_80pct_AMI_HUD','TEN_l','is_cost_burdened']).WGTP.sum()/households_bayarea.groupby(['hhinc_above_80pct_AMI_HUD','TEN_l']).WGTP.sum(),\n",
    "    \n",
    "    ## comparable\n",
    "    households_comp.groupby(['hhinc_above_80pct_AMI_HUD','TEN_l','is_cost_burdened']).WGTP.sum()/households_comp.groupby(['hhinc_above_80pct_AMI_HUD','TEN_l']).WGTP.sum(),\n",
    "    \n",
    "    # U.S.\n",
    "    (households.groupby(['hhinc_above_80pct_AMI_HUD','TEN_l','is_cost_burdened']).WGTP.sum()/households.groupby(['hhinc_above_80pct_AMI_HUD','TEN_l']).WGTP.sum())],\n",
    "           keys=['Bay Area','Comparable Regions','U.S.'],names=['Geography'])\n",
    "\n",
    "\n",
    "## add totals\n",
    "comparable_burdened_ten_AMI_TOTAL=pd.concat([pd.concat([## region\n",
    "    households_bayarea.groupby(['hhinc_above_80pct_AMI_HUD','is_cost_burdened']).WGTP.sum()/households_bayarea[households_bayarea.TEN_l!='VAC/GQ'].groupby(['hhinc_above_80pct_AMI_HUD']).WGTP.sum(),\n",
    "\n",
    "    ## comparable\n",
    "    households_comp.groupby(['hhinc_above_80pct_AMI_HUD','is_cost_burdened']).WGTP.sum()/households_comp[households_comp.TEN_l!='VAC/GQ'].groupby(['hhinc_above_80pct_AMI_HUD']).WGTP.sum(),\n",
    "\n",
    "    # U.S.\n",
    "    (households.groupby(['hhinc_above_80pct_AMI_HUD','is_cost_burdened']).WGTP.sum()/households[households.TEN_l!='VAC/GQ'].groupby(['hhinc_above_80pct_AMI_HUD']).WGTP.sum())],\n",
    "    keys=['Bay Area','Comparable Regions','U.S.'],names=['Geography'])],keys=['Total'],names=['TEN_l'])\n",
    "comparable_burdened_ten_AMI_TOTAL=comparable_burdened_ten_AMI_TOTAL.reorder_levels(comparable_burdened_ten_AMI.index.names)\n",
    "comparable_burdened_ten_AMI=comparable_burdened_ten_AMI.append(comparable_burdened_ten_AMI_TOTAL).sort_index()"
   ]
  },
  {
   "cell_type": "code",
   "execution_count": 571,
   "metadata": {},
   "outputs": [],
   "source": [
    "## for RHNA sheet, reference table\n",
    "\n",
    "unstack_levels=['TEN_l','Geography']\n",
    "rhna_ref_table=comparable_burdened_ten_AMI.loc[:,:,['Owned','Rented','Total'],True].unstack(unstack_levels).reset_index(1,drop=True)\\\n",
    ".append(pd.concat([compraable_crowd_ten],keys=['crowded'],names=['variable','Geography','TEN_l']).unstack(unstack_levels))\\\n",
    ".append(pd.concat([vacancy_geo_ten],keys=['vacancy'],names=['variable','Geography','TEN_l']).unstack(unstack_levels)).sort_index(axis=1)\n",
    "rhna_ref_table.sort_index(ascending=False).to_clipboard()"
   ]
  },
  {
   "cell_type": "code",
   "execution_count": 572,
   "metadata": {},
   "outputs": [],
   "source": [
    "## for r - write summary stressors\n",
    "rhna_ref_table_r=rhna_ref_table.stack(level=[0,1]).reset_index(name='value').rename(columns={'level_0':'Measure'})\n",
    "rhna_ref_table_r.Measure=rhna_ref_table_r.Measure.map({'hhinc_gt_80pct':'Burdened (HH Income >=80% AMI)',\n",
    "                              'hhinc_lt_80pct':'Burdened (HH Income <80% AMI)', 'crowded':'Crowded', 'vacancy':'Vacant'})\n",
    "rhna_ref_table_r.to_csv(os.path.join(drop,'Data/RHNA/comparable_burden_v2.csv'))"
   ]
  },
  {
   "cell_type": "code",
   "execution_count": 573,
   "metadata": {},
   "outputs": [
    {
     "data": {
      "text/html": [
       "<div>\n",
       "<style scoped>\n",
       "    .dataframe tbody tr th:only-of-type {\n",
       "        vertical-align: middle;\n",
       "    }\n",
       "\n",
       "    .dataframe tbody tr th {\n",
       "        vertical-align: top;\n",
       "    }\n",
       "\n",
       "    .dataframe thead th {\n",
       "        text-align: right;\n",
       "    }\n",
       "</style>\n",
       "<table border=\"1\" class=\"dataframe\">\n",
       "  <thead>\n",
       "    <tr style=\"text-align: right;\">\n",
       "      <th></th>\n",
       "      <th>TEN_l</th>\n",
       "      <th>Measure</th>\n",
       "      <th>Geography</th>\n",
       "      <th>value</th>\n",
       "    </tr>\n",
       "  </thead>\n",
       "  <tbody>\n",
       "    <tr>\n",
       "      <th>0</th>\n",
       "      <td>Owned</td>\n",
       "      <td>Cost Burdened Households</td>\n",
       "      <td>Bay Area</td>\n",
       "      <td>0.29</td>\n",
       "    </tr>\n",
       "    <tr>\n",
       "      <th>1</th>\n",
       "      <td>Owned</td>\n",
       "      <td>Cost Burdened Households</td>\n",
       "      <td>Comparable Regions</td>\n",
       "      <td>0.27</td>\n",
       "    </tr>\n",
       "    <tr>\n",
       "      <th>2</th>\n",
       "      <td>Owned</td>\n",
       "      <td>Cost Burdened Households</td>\n",
       "      <td>U.S.</td>\n",
       "      <td>0.22</td>\n",
       "    </tr>\n",
       "    <tr>\n",
       "      <th>3</th>\n",
       "      <td>Owned</td>\n",
       "      <td>Crowded Households</td>\n",
       "      <td>Bay Area</td>\n",
       "      <td>0.03</td>\n",
       "    </tr>\n",
       "    <tr>\n",
       "      <th>4</th>\n",
       "      <td>Owned</td>\n",
       "      <td>Crowded Households</td>\n",
       "      <td>Comparable Regions</td>\n",
       "      <td>0.02</td>\n",
       "    </tr>\n",
       "    <tr>\n",
       "      <th>5</th>\n",
       "      <td>Owned</td>\n",
       "      <td>Crowded Households</td>\n",
       "      <td>U.S.</td>\n",
       "      <td>0.02</td>\n",
       "    </tr>\n",
       "    <tr>\n",
       "      <th>6</th>\n",
       "      <td>Rented</td>\n",
       "      <td>Cost Burdened Households</td>\n",
       "      <td>Bay Area</td>\n",
       "      <td>0.46</td>\n",
       "    </tr>\n",
       "    <tr>\n",
       "      <th>7</th>\n",
       "      <td>Rented</td>\n",
       "      <td>Cost Burdened Households</td>\n",
       "      <td>Comparable Regions</td>\n",
       "      <td>0.50</td>\n",
       "    </tr>\n",
       "    <tr>\n",
       "      <th>8</th>\n",
       "      <td>Rented</td>\n",
       "      <td>Cost Burdened Households</td>\n",
       "      <td>U.S.</td>\n",
       "      <td>0.49</td>\n",
       "    </tr>\n",
       "    <tr>\n",
       "      <th>9</th>\n",
       "      <td>Rented</td>\n",
       "      <td>Crowded Households</td>\n",
       "      <td>Bay Area</td>\n",
       "      <td>0.13</td>\n",
       "    </tr>\n",
       "    <tr>\n",
       "      <th>10</th>\n",
       "      <td>Rented</td>\n",
       "      <td>Crowded Households</td>\n",
       "      <td>Comparable Regions</td>\n",
       "      <td>0.07</td>\n",
       "    </tr>\n",
       "    <tr>\n",
       "      <th>11</th>\n",
       "      <td>Rented</td>\n",
       "      <td>Crowded Households</td>\n",
       "      <td>U.S.</td>\n",
       "      <td>0.06</td>\n",
       "    </tr>\n",
       "    <tr>\n",
       "      <th>12</th>\n",
       "      <td>Total</td>\n",
       "      <td>Cost Burdened Households</td>\n",
       "      <td>Bay Area</td>\n",
       "      <td>0.33</td>\n",
       "    </tr>\n",
       "    <tr>\n",
       "      <th>13</th>\n",
       "      <td>Total</td>\n",
       "      <td>Cost Burdened Households</td>\n",
       "      <td>Comparable Regions</td>\n",
       "      <td>0.32</td>\n",
       "    </tr>\n",
       "    <tr>\n",
       "      <th>14</th>\n",
       "      <td>Total</td>\n",
       "      <td>Cost Burdened Households</td>\n",
       "      <td>U.S.</td>\n",
       "      <td>0.27</td>\n",
       "    </tr>\n",
       "    <tr>\n",
       "      <th>15</th>\n",
       "      <td>Total</td>\n",
       "      <td>Crowded Households</td>\n",
       "      <td>Bay Area</td>\n",
       "      <td>0.07</td>\n",
       "    </tr>\n",
       "    <tr>\n",
       "      <th>16</th>\n",
       "      <td>Total</td>\n",
       "      <td>Crowded Households</td>\n",
       "      <td>Comparable Regions</td>\n",
       "      <td>0.03</td>\n",
       "    </tr>\n",
       "    <tr>\n",
       "      <th>17</th>\n",
       "      <td>Total</td>\n",
       "      <td>Crowded Households</td>\n",
       "      <td>U.S.</td>\n",
       "      <td>0.03</td>\n",
       "    </tr>\n",
       "  </tbody>\n",
       "</table>\n",
       "</div>"
      ],
      "text/plain": [
       "     TEN_l                   Measure           Geography  value\n",
       "0    Owned  Cost Burdened Households            Bay Area   0.29\n",
       "1    Owned  Cost Burdened Households  Comparable Regions   0.27\n",
       "2    Owned  Cost Burdened Households                U.S.   0.22\n",
       "3    Owned        Crowded Households            Bay Area   0.03\n",
       "4    Owned        Crowded Households  Comparable Regions   0.02\n",
       "5    Owned        Crowded Households                U.S.   0.02\n",
       "6   Rented  Cost Burdened Households            Bay Area   0.46\n",
       "7   Rented  Cost Burdened Households  Comparable Regions   0.50\n",
       "8   Rented  Cost Burdened Households                U.S.   0.49\n",
       "9   Rented        Crowded Households            Bay Area   0.13\n",
       "10  Rented        Crowded Households  Comparable Regions   0.07\n",
       "11  Rented        Crowded Households                U.S.   0.06\n",
       "12   Total  Cost Burdened Households            Bay Area   0.33\n",
       "13   Total  Cost Burdened Households  Comparable Regions   0.32\n",
       "14   Total  Cost Burdened Households                U.S.   0.27\n",
       "15   Total        Crowded Households            Bay Area   0.07\n",
       "16   Total        Crowded Households  Comparable Regions   0.03\n",
       "17   Total        Crowded Households                U.S.   0.03"
      ]
     },
     "execution_count": 573,
     "metadata": {},
     "output_type": "execute_result"
    }
   ],
   "source": [
    "pd.concat([pd.concat([comparable_burden.stack(),\n",
    "                      comparable_crowding.stack()],\n",
    "                     keys=['Cost Burdened Households','Crowded Households'],\n",
    "                     names=['Measure','Geography','impacted']).loc[:,:,True]],keys=['Total'],names=['TEN_l']).append(pd.concat([comparable_crowding_ten,comparable_burdened_ten],keys=['Crowded Households','Cost Burdened Households'],\n",
    "         names=['Measure']).stack().unstack(0).reset_index(1,drop=True).stack().reset_index(name='value').set_index(['TEN_l','Measure','Geography']).value).sort_index().reset_index(name='value')#.to_csv(os.path.join(drop,'Data/RHNA/comparable_burden.csv'))"
   ]
  },
  {
   "cell_type": "code",
   "execution_count": 574,
   "metadata": {},
   "outputs": [],
   "source": [
    "# ## cost burden percentage for comparable regions, by tenure, household income\n",
    "\n",
    "# comparable_burdened_ten_AMI_abs=pd.concat([\n",
    "#     households_bayarea.groupby(['hhinc_above_80pct_AMI_HUD','TEN_l','is_cost_burdened']).WGTP.sum(),\n",
    "#     households_comp.groupby(['hhinc_above_80pct_AMI_HUD','TEN_l','is_cost_burdened']).WGTP.sum(),\n",
    "#     households.groupby(['hhinc_above_80pct_AMI_HUD','TEN_l','is_cost_burdened']).WGTP.sum()],\n",
    "#            keys=['Bay Area','Comparable Regions','U.S.'],names=['Geography'])\n",
    "# comparable_burdened_ten_AMI_abs"
   ]
  },
  {
   "cell_type": "code",
   "execution_count": 575,
   "metadata": {},
   "outputs": [],
   "source": [
    "CSA_candidates_for_r=pd.concat([CSA_candidates.iloc[ind[0]].iloc[1:],CSA_candidates.loc[['San Francisco Bay Area']],\n",
    "                                CSA_candidates.iloc[[-2]]],keys=['Comparables','Bay Area','Example\\nOutlier'],names=['grouping']).stack().reset_index(name='value')\n",
    "\n",
    "CSA_candidates_for_r.variable=CSA_candidates_for_r.variable.str.replace('csasummary_','')\n",
    "CSA_candidates_for_r.to_csv(os.path.join(drop,'Data/RHNA/pums_comparable_regions.csv'))"
   ]
  },
  {
   "cell_type": "code",
   "execution_count": 576,
   "metadata": {},
   "outputs": [
    {
     "data": {
      "text/html": [
       "<div>\n",
       "<style scoped>\n",
       "    .dataframe tbody tr th:only-of-type {\n",
       "        vertical-align: middle;\n",
       "    }\n",
       "\n",
       "    .dataframe tbody tr th {\n",
       "        vertical-align: top;\n",
       "    }\n",
       "\n",
       "    .dataframe thead th {\n",
       "        text-align: right;\n",
       "    }\n",
       "</style>\n",
       "<table border=\"1\" class=\"dataframe\">\n",
       "  <thead>\n",
       "    <tr style=\"text-align: right;\">\n",
       "      <th>CSA</th>\n",
       "      <th>San Francisco Bay Area</th>\n",
       "      <th>Washington-Baltimore-Arlington, DC-MD-VA-WV-PA</th>\n",
       "      <th>Seattle-Tacoma, WA</th>\n",
       "      <th>Boston-Worcester-Providence, MA-RI-NH-CT</th>\n",
       "      <th>Denver-Aurora, CO</th>\n",
       "      <th>Minneapolis-St. Paul, MN-WI</th>\n",
       "      <th>Hartford-East Hartford, CT</th>\n",
       "      <th>New York-Newark, NY-NJ-CT-PA</th>\n",
       "    </tr>\n",
       "    <tr>\n",
       "      <th>variable</th>\n",
       "      <th></th>\n",
       "      <th></th>\n",
       "      <th></th>\n",
       "      <th></th>\n",
       "      <th></th>\n",
       "      <th></th>\n",
       "      <th></th>\n",
       "      <th></th>\n",
       "    </tr>\n",
       "  </thead>\n",
       "  <tbody>\n",
       "    <tr>\n",
       "      <th>movestatus</th>\n",
       "      <td>0.13</td>\n",
       "      <td>0.04</td>\n",
       "      <td>0.06</td>\n",
       "      <td>0.03</td>\n",
       "      <td>0.06</td>\n",
       "      <td>0.03</td>\n",
       "      <td>0.04</td>\n",
       "      <td>0.02</td>\n",
       "    </tr>\n",
       "    <tr>\n",
       "      <th>fpl2x</th>\n",
       "      <td>0.16</td>\n",
       "      <td>0.16</td>\n",
       "      <td>0.16</td>\n",
       "      <td>0.20</td>\n",
       "      <td>0.19</td>\n",
       "      <td>0.19</td>\n",
       "      <td>0.21</td>\n",
       "      <td>0.23</td>\n",
       "    </tr>\n",
       "    <tr>\n",
       "      <th>crowd</th>\n",
       "      <td>0.07</td>\n",
       "      <td>0.02</td>\n",
       "      <td>0.03</td>\n",
       "      <td>0.02</td>\n",
       "      <td>0.03</td>\n",
       "      <td>0.03</td>\n",
       "      <td>0.01</td>\n",
       "      <td>0.05</td>\n",
       "    </tr>\n",
       "    <tr>\n",
       "      <th>vacant</th>\n",
       "      <td>0.02</td>\n",
       "      <td>0.03</td>\n",
       "      <td>0.02</td>\n",
       "      <td>0.02</td>\n",
       "      <td>0.02</td>\n",
       "      <td>0.02</td>\n",
       "      <td>0.03</td>\n",
       "      <td>0.02</td>\n",
       "    </tr>\n",
       "    <tr>\n",
       "      <th>post2005</th>\n",
       "      <td>0.09</td>\n",
       "      <td>0.12</td>\n",
       "      <td>0.17</td>\n",
       "      <td>0.08</td>\n",
       "      <td>0.16</td>\n",
       "      <td>0.11</td>\n",
       "      <td>0.06</td>\n",
       "      <td>0.07</td>\n",
       "    </tr>\n",
       "    <tr>\n",
       "      <th>occ_prof</th>\n",
       "      <td>0.26</td>\n",
       "      <td>0.24</td>\n",
       "      <td>0.22</td>\n",
       "      <td>0.20</td>\n",
       "      <td>0.22</td>\n",
       "      <td>0.19</td>\n",
       "      <td>0.19</td>\n",
       "      <td>0.18</td>\n",
       "    </tr>\n",
       "    <tr>\n",
       "      <th>occ_svcs</th>\n",
       "      <td>0.17</td>\n",
       "      <td>0.18</td>\n",
       "      <td>0.18</td>\n",
       "      <td>0.20</td>\n",
       "      <td>0.18</td>\n",
       "      <td>0.19</td>\n",
       "      <td>0.21</td>\n",
       "      <td>0.21</td>\n",
       "    </tr>\n",
       "    <tr>\n",
       "      <th>hhinc_low</th>\n",
       "      <td>0.24</td>\n",
       "      <td>0.27</td>\n",
       "      <td>0.29</td>\n",
       "      <td>0.33</td>\n",
       "      <td>0.31</td>\n",
       "      <td>0.32</td>\n",
       "      <td>0.34</td>\n",
       "      <td>0.34</td>\n",
       "    </tr>\n",
       "    <tr>\n",
       "      <th>hhinc_high</th>\n",
       "      <td>0.23</td>\n",
       "      <td>0.16</td>\n",
       "      <td>0.12</td>\n",
       "      <td>0.13</td>\n",
       "      <td>0.10</td>\n",
       "      <td>0.10</td>\n",
       "      <td>0.10</td>\n",
       "      <td>0.14</td>\n",
       "    </tr>\n",
       "    <tr>\n",
       "      <th>slf_21_30_mf</th>\n",
       "      <td>0.83</td>\n",
       "      <td>0.85</td>\n",
       "      <td>0.84</td>\n",
       "      <td>0.83</td>\n",
       "      <td>0.87</td>\n",
       "      <td>0.88</td>\n",
       "      <td>0.84</td>\n",
       "      <td>0.80</td>\n",
       "    </tr>\n",
       "    <tr>\n",
       "      <th>slf_15_65_mf</th>\n",
       "      <td>0.77</td>\n",
       "      <td>0.78</td>\n",
       "      <td>0.76</td>\n",
       "      <td>0.77</td>\n",
       "      <td>0.79</td>\n",
       "      <td>0.81</td>\n",
       "      <td>0.77</td>\n",
       "      <td>0.74</td>\n",
       "    </tr>\n",
       "    <tr>\n",
       "      <th>seniors</th>\n",
       "      <td>0.15</td>\n",
       "      <td>0.14</td>\n",
       "      <td>0.15</td>\n",
       "      <td>0.16</td>\n",
       "      <td>0.13</td>\n",
       "      <td>0.14</td>\n",
       "      <td>0.17</td>\n",
       "      <td>0.16</td>\n",
       "    </tr>\n",
       "    <tr>\n",
       "      <th>youth</th>\n",
       "      <td>0.14</td>\n",
       "      <td>0.13</td>\n",
       "      <td>0.14</td>\n",
       "      <td>0.14</td>\n",
       "      <td>0.14</td>\n",
       "      <td>0.14</td>\n",
       "      <td>0.13</td>\n",
       "      <td>0.14</td>\n",
       "    </tr>\n",
       "    <tr>\n",
       "      <th>burden_rent</th>\n",
       "      <td>0.23</td>\n",
       "      <td>0.23</td>\n",
       "      <td>0.22</td>\n",
       "      <td>0.24</td>\n",
       "      <td>0.25</td>\n",
       "      <td>0.23</td>\n",
       "      <td>0.25</td>\n",
       "      <td>0.28</td>\n",
       "    </tr>\n",
       "  </tbody>\n",
       "</table>\n",
       "</div>"
      ],
      "text/plain": [
       "CSA           San Francisco Bay Area  Washington-Baltimore-Arlington, DC-MD-VA-WV-PA  Seattle-Tacoma, WA  Boston-Worcester-Providence, MA-RI-NH-CT  Denver-Aurora, CO  Minneapolis-St. Paul, MN-WI  Hartford-East Hartford, CT  New York-Newark, NY-NJ-CT-PA\n",
       "variable                                                                                                                                                                                                                                                    \n",
       "movestatus                      0.13                                            0.04                0.06                                      0.03               0.06                         0.03                        0.04                          0.02\n",
       "fpl2x                           0.16                                            0.16                0.16                                      0.20               0.19                         0.19                        0.21                          0.23\n",
       "crowd                           0.07                                            0.02                0.03                                      0.02               0.03                         0.03                        0.01                          0.05\n",
       "vacant                          0.02                                            0.03                0.02                                      0.02               0.02                         0.02                        0.03                          0.02\n",
       "post2005                        0.09                                            0.12                0.17                                      0.08               0.16                         0.11                        0.06                          0.07\n",
       "occ_prof                        0.26                                            0.24                0.22                                      0.20               0.22                         0.19                        0.19                          0.18\n",
       "occ_svcs                        0.17                                            0.18                0.18                                      0.20               0.18                         0.19                        0.21                          0.21\n",
       "hhinc_low                       0.24                                            0.27                0.29                                      0.33               0.31                         0.32                        0.34                          0.34\n",
       "hhinc_high                      0.23                                            0.16                0.12                                      0.13               0.10                         0.10                        0.10                          0.14\n",
       "slf_21_30_mf                    0.83                                            0.85                0.84                                      0.83               0.87                         0.88                        0.84                          0.80\n",
       "slf_15_65_mf                    0.77                                            0.78                0.76                                      0.77               0.79                         0.81                        0.77                          0.74\n",
       "seniors                         0.15                                            0.14                0.15                                      0.16               0.13                         0.14                        0.17                          0.16\n",
       "youth                           0.14                                            0.13                0.14                                      0.14               0.14                         0.14                        0.13                          0.14\n",
       "burden_rent                     0.23                                            0.23                0.22                                      0.24               0.25                         0.23                        0.25                          0.28"
      ]
     },
     "execution_count": 576,
     "metadata": {},
     "output_type": "execute_result"
    }
   ],
   "source": [
    "CSA_candidates.iloc[ind[0]].rename(columns=lambda x: x.replace('csasummary_','')).T"
   ]
  },
  {
   "cell_type": "code",
   "execution_count": 441,
   "metadata": {},
   "outputs": [],
   "source": [
    "# # naics_mappings['NAICS']=naics_mappings['NAICS-2'].astype(str)\n",
    "# # naicsmap=naics_mappings.set_index('NAICS').MTCname\n",
    "\n",
    "\n",
    "# persons['mtcsector']=persons.NAICSP.str.slice(0,2).map(naicsmap)\n",
    "# persons['outside_bayarea']=persons.STCOUNTY.isin(bayareafips_full).map({True:'In Region',False:'Not in Region'})\n",
    "\n",
    "# incommute=persons.loc[(persons.POWSTPUMA.str.slice(1,6).isin(bayareafips_full))].groupby(['outside_bayarea','mtcsector']).PWGTP.sum().unstack(0)\n",
    "\n",
    "# incommute.stack().groupby(level=1).apply(pct).unstack(1).plot(kind='barh',figsize=[8,6],stacked=False)\n",
    "# title('Workers by MTC supersector\\nUniverse: Bay Area POWPUMAs, any national origin\\nSource: U.S. Census Bureau, American Community Survey, 2018 PUMS')\n",
    "\n",
    "# incommutesummary_wagp=persons.loc[((persons.POWSTPUMA.str.slice(1,6).isin(bayareafips_full)))&\n",
    "#                                   (persons.WAGP>0)].groupby(['outside_bayarea','mtcsector']).apply(group_median_SE_ALT,var='WAGP',percentile=[50.],weight='PWGTP')\n",
    "# incommutesummary_wagp=incommutesummary_wagp['percentile_50.0'].estimate\n",
    "\n",
    "# incommutesummary_wagp.unstack(0).plot(kind='bar')"
   ]
  },
  {
   "cell_type": "code",
   "execution_count": null,
   "metadata": {},
   "outputs": [],
   "source": []
  }
 ],
 "metadata": {
  "kernelspec": {
   "display_name": "Python 2",
   "language": "python",
   "name": "python2"
  },
  "language_info": {
   "codemirror_mode": {
    "name": "ipython",
    "version": 2
   },
   "file_extension": ".py",
   "mimetype": "text/x-python",
   "name": "python",
   "nbconvert_exporter": "python",
   "pygments_lexer": "ipython2",
   "version": "2.7.15"
  }
 },
 "nbformat": 4,
 "nbformat_minor": 2
}

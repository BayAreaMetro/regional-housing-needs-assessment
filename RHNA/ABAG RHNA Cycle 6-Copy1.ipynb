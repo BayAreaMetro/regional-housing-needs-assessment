{
 "cells": [
  {
   "cell_type": "markdown",
   "metadata": {},
   "source": [
    "## Association of Bay Area Governments RHNA Allocation Script\n",
    "This notebook produced the Proposed RHNA allocation for the nine-Bay Area Counties and their jurisdictions.\n",
    "\n",
    "The basic methodology was developed beginning in October 2019 with the ABAG-appointed Housing Methodology Committee (HMC), meeting roughly monthly through September 2020, and consists of the following building blocks:\n",
    "\n",
    "* A regional housing needs determination [(RHND)](https://www.hcd.ca.gov/community-development/housing-element/docs/abagrhna-final060920(r).pdf) provided by California Housing and Community Development Department (CA HCD) in June of 2020\n",
    "* A baseline allocation serving as a starting point for the distribution (projected 2050 households, from the Blueprint projection)\n",
    "* A set of factors describing the 109 jurisdictions serving to adjust the baseline allocation up or down. A jurisdiction with above-average scores on the HMC-chosen factors will see an upwards adjustment of the baseline allocation, while a jurisdiction with below-average scores will see a downwards adjustment.\n",
    "* A set of factor weights determined by the HMC, where the weight determines the share of the total units to be allocated according to a specific factor.\n",
    "\n",
    "\n",
    "The methodology and illustrative allocation was adopted by ABAG's [Executive Board on January 21, 2021](https://abag.ca.gov/file/320876/download?token=Qwm-suhU). The purpose was to distribute the 441,776 units as required by California Department of Housing and Community Development.\n",
    "\n",
    "Further details on the RHNA allocation is contained in the [draft methodology report](https://abag.ca.gov/sites/default/files/rhna_methodology_report_2023-2031_finalposting.pdf)."
   ]
  },
  {
   "cell_type": "code",
   "execution_count": 1,
   "metadata": {},
   "outputs": [
    {
     "name": "stdout",
     "output_type": "stream",
     "text": [
      "Populating the interactive namespace from numpy and matplotlib\n"
     ]
    },
    {
     "name": "stderr",
     "output_type": "stream",
     "text": [
      "/Users/aolsen/opt/anaconda3/envs/geoenv/lib/python3.7/site-packages/IPython/core/magics/pylab.py:160: UserWarning: pylab import has clobbered these variables: ['datetime']\n",
      "`%matplotlib` prevents importing * from pylab and numpy\n",
      "  \"\\n`%matplotlib` prevents importing * from pylab and numpy\"\n"
     ]
    }
   ],
   "source": [
    "import pandas as pd\n",
    "from collections import OrderedDict\n",
    "import os\n",
    "import feather as ft\n",
    "\n",
    "from matplotlib.backends.backend_pdf import PdfPages\n",
    "\n",
    "from shapely.geometry import Point\n",
    "from geopandas import GeoDataFrame, read_file\n",
    "from geopandas.tools import overlay\n",
    "from geopandas.tools import sjoin\n",
    "from shapely.geometry import Point\n",
    "from fiona.crs import from_epsg\n",
    "import geopandas as gpd\n",
    "import mapclassify\n",
    "\n",
    "from datetime import datetime\n",
    "from textwrap import wrap\n",
    "import re\n",
    "import glob\n",
    "\n",
    "import seaborn as sns\n",
    "import matplotlib.pyplot as plt\n",
    "import matplotlib.cm as cm\n",
    "import matplotlib.font_manager as fm\n",
    "import matplotlib.colors as mcolors\n",
    "import matplotlib.ticker as ticker\n",
    "\n",
    "import pylab as P\n",
    "%pylab inline\n",
    "\n",
    "\n",
    "# Get current size\n",
    "from matplotlib import rcParams\n",
    "fig_size = plt.rcParams[\"figure.figsize\"]\n",
    "\n",
    "# Set default figure dims\n",
    "fig_size[0] = 12\n",
    "fig_size[1] = 7\n",
    "\n",
    "plt.rcParams[\"figure.figsize\"] = fig_size\n",
    "plt.rcParams['figure.figsize']\n",
    "plt.style.use('ggplot')\n",
    "\n",
    "plt.rcParams['font.family'] = 'sans-serif'\n",
    "plt.rcParams['font.sans-serif'] = ['Trebuchet MS']\n",
    "\n",
    "flist = matplotlib.font_manager.get_fontconfig_fonts()\n",
    "fm._rebuild()\n",
    "\n",
    "# this seems to do the trick of embedding fonts for PDF output\n",
    "matplotlib.rc('pdf', fonttype=42)\n",
    "plt.rc('pdf', fonttype=42)"
   ]
  },
  {
   "cell_type": "markdown",
   "metadata": {},
   "source": [
    "\n",
    "| Income Category \t\t\t  \t|  \t\t\t Percent \t\t\t \t|  \t\t\t Housing Unit Need \t\t\t \t|\n",
    "|-------------------\t|------------\t|----------------------\t|\n",
    "|  \t\t\t Very Low \t\t\t       \t|  \t\t\t 25.9% \t\t\t   \t|  \t\t\t 114,442 \t\t\t           \t|\n",
    "|  \t\t\t Low \t\t\t            \t|  \t\t\t 14.9% \t\t\t   \t|  \t\t\t 65,892 \t\t\t            \t|\n",
    "|  \t\t\t Moderate \t\t\t       \t|  \t\t\t 16.5% \t\t\t   \t|  \t\t\t 72,712 \t\t\t            \t|\n",
    "|  \t\t\t Above Moderate \t\t\t \t|  \t\t\t 42.6% \t\t\t   \t|  \t\t\t 188,130 \t\t\t           \t|\n",
    "|  \t\t\t Total \t\t\t          \t|  \t\t\t 100% \t\t\t    \t|  \t\t\t 441,176            \t|"
   ]
  },
  {
   "cell_type": "markdown",
   "metadata": {},
   "source": [
    "## Define mappings and convenience functions"
   ]
  },
  {
   "cell_type": "markdown",
   "metadata": {},
   "source": [
    "### Define misc functions"
   ]
  },
  {
   "cell_type": "code",
   "execution_count": 2,
   "metadata": {},
   "outputs": [],
   "source": [
    "def comma_format(x, p):\n",
    "    return format(x, \"6,.0f\")\n",
    "\n",
    "\n",
    "def float_format(x, p):\n",
    "    return format(x, \"6,.2f\")\n",
    "\n",
    "\n",
    "def percent_format(x, p):\n",
    "    return format(x*100, \"6,.1f\")+'%'\n",
    "\n",
    "\n",
    "def comma_fmt(x, pos): return '{:,.0f}'.format(x)"
   ]
  },
  {
   "cell_type": "code",
   "execution_count": 3,
   "metadata": {},
   "outputs": [],
   "source": [
    "# useful for map labels\n",
    "import matplotlib.patheffects as PathEffects\n",
    "\n",
    "# for making a table in a pdf\n",
    "from pandas.plotting import table"
   ]
  },
  {
   "cell_type": "code",
   "execution_count": 4,
   "metadata": {},
   "outputs": [],
   "source": [
    "## for custom continuous color ramps\n",
    "class MidPointNormalize(mcolors.Normalize):\n",
    "    def __init__(self, vmin=None, vmax=None, midpoint=None, clip=False):\n",
    "        self.midpoint = midpoint\n",
    "        mcolors.Normalize.__init__(self, vmin, vmax, clip)\n",
    "\n",
    "    def __call__(self, value, clip=None):\n",
    "        x, y = [self.vmin, self.midpoint, self.vmax], [0, 0.5, 1]\n",
    "        return np.ma.masked_array(np.interp(value, x, y), np.isnan(value))"
   ]
  },
  {
   "cell_type": "code",
   "execution_count": 5,
   "metadata": {},
   "outputs": [],
   "source": [
    "pct = lambda x: x/x.sum()\n",
    "zscore=lambda x: (x-x.mean())/x.std()"
   ]
  },
  {
   "cell_type": "code",
   "execution_count": 6,
   "metadata": {},
   "outputs": [],
   "source": [
    "# topcode / bottom code a series using percentiles\n",
    "\n",
    "def clip_to_percentiles(s, lower=.25, upper=.75):\n",
    "    bounds = s.quantile([lower, upper])\n",
    "    return s.clip(lower=bounds.loc[lower], upper=bounds.loc[upper])\n",
    "\n",
    "\n",
    "# add as a series method\n",
    "pd.Series.clip_to_percentiles = clip_to_percentiles"
   ]
  },
  {
   "cell_type": "code",
   "execution_count": 7,
   "metadata": {},
   "outputs": [],
   "source": [
    "# helper function to remove vowels from string\n",
    "\n",
    "def rem_vowel(string):\n",
    "    \"\"\"Removes any vowels from string.\"\"\"\n",
    "    vowels = ('a', 'e', 'i', 'o', 'u')\n",
    "    for x in string.lower():\n",
    "        if x in vowels:\n",
    "            string = string.replace(x, \"\")\n",
    "    return string"
   ]
  },
  {
   "cell_type": "code",
   "execution_count": 8,
   "metadata": {},
   "outputs": [],
   "source": [
    "def rescale(s, new_range_low=1000, new_range_hi=10000, intercept=.5, midpoint=1.):\n",
    "    \"\"\"Scale each observation according to its relative location within the distribution.\n",
    "    \"\"\"\n",
    "\n",
    "    # center it around 1\n",
    "    x = ((s-s.min())*(new_range_hi-new_range_low))/(s.max()-s.min())\n",
    "    # x=((s-s.mean()))/(s.max()-s.min())\n",
    "    return x+new_range_low"
   ]
  },
  {
   "cell_type": "code",
   "execution_count": 9,
   "metadata": {},
   "outputs": [],
   "source": [
    "def weighted_avg(factor_weights, rescale=False):\n",
    "    \"\"\"Given a dict of vars and weights, turns into a series. Optionally rescales to ensure sum to 100%.\"\"\"\n",
    "\n",
    "    # the subsetting ensures that we only use weights for actual factors in use\n",
    "\n",
    "    # refactor to pass just the relevant dict\n",
    "    wgts = pd.Series(factor_weights)  # .loc[factor_dict]\n",
    "\n",
    "    if rescale:\n",
    "        # provided weights don't necessarily sum to 100. Rescale.\n",
    "        wgts_rescaled = wgts/wgts.sum()\n",
    "        return wgts_rescaled\n",
    "    else:\n",
    "        return wgts"
   ]
  },
  {
   "cell_type": "code",
   "execution_count": 10,
   "metadata": {},
   "outputs": [],
   "source": [
    "def rescale_split(s, new_range_low=1000, new_range_hi=10000, intercept=.5, midpoint=1):\n",
    "    \"\"\"Scale each observation according to its relative location within the \n",
    "    distribution - ensuring each half remains above / below midpoint.\n",
    "    \"\"\"\n",
    "\n",
    "    s_midpoints = s.median()\n",
    "    all_factors = {}\n",
    "    s = combined_factors.copy()\n",
    "    s_upper_lower = (s[factor_weights.keys()].T.div(\n",
    "        s_midpoints, axis=0).T > 1).stack()\n",
    "\n",
    "    for nme, dta in s_upper_lower.groupby(level='factor'):\n",
    "\n",
    "        # upper half of cities for variable\n",
    "        s_upper_ix = dta.loc[dta.reset_index(\n",
    "            1, drop=True), nme].index.get_level_values(0)\n",
    "\n",
    "        # lower half of cities for variable\n",
    "        s_lower_ix = dta.loc[list(set(dta.index.get_level_values(\n",
    "            0))-set(s_upper_ix)), nme].index.get_level_values(0)\n",
    "\n",
    "        s_lower = s[nme].loc[s_lower_ix]\n",
    "        s_upper = s[nme].loc[s_upper_ix]\n",
    "\n",
    "        x_upper = midpoint+((s_upper-s_upper.min()) *\n",
    "                            (new_range_hi-midpoint))/(s_upper.max()-s_upper.min())\n",
    "        x_lower = new_range_low + \\\n",
    "            ((s_lower-s_lower.min())*(midpoint-new_range_low)) / \\\n",
    "            (s_upper.max()-s_upper.min())\n",
    "        all_factors[nme] = x_upper.append(x_lower)\n",
    "\n",
    "    return pd.concat(all_factors).unstack(0)"
   ]
  },
  {
   "cell_type": "code",
   "execution_count": 84,
   "metadata": {},
   "outputs": [],
   "source": [
    "def run_allocation_inc(factor_weights_income, rhnd_income, map_column='draft_rhna_alloc_v2_grrate', new_range_low=.5, new_range_hi=1.5,\n",
    "                       baseline='hh19', file_slug='', map_title='', export_shapefile=False):\n",
    "    \"\"\"\n",
    "    Allocates units based on a list of factors and weights.\n",
    "    \"\"\"\n",
    "\n",
    "    # combine factors into one dataframe\n",
    "\n",
    "    all_inc_groups = {}\n",
    "\n",
    "    #combined_factors = pd.concat(\n",
    "    #    factor_dict, names=['factor']).unstack(0).fillna(0)\n",
    "    #combined_factors = combined_factors.loc[~combined_factors.index.str.contains(\n",
    "    #    'Unincorporated San Francisco')]\n",
    "    combined_factors['region'] = 'Bay Area'\n",
    "\n",
    "    # Scale raw factor scores to a consistent range around .5 to 1.5, centering around 1\n",
    "    combined_factors_SCALED = combined_factors.groupby('region').apply(rescale, new_range_low=new_range_low,\n",
    "                                                                       new_range_hi=new_range_hi)\n",
    "\n",
    "    # Then turn them into an index by averaging them across\n",
    "    # We do both a simple average as well as, more interestingly, a **weighted average.**\n",
    "\n",
    "    for inc_grp, inc_weights in factor_weights_income.items():\n",
    "\n",
    "        ######################################################################\n",
    "        # RHNA Calculation\n",
    "        # STEP 1: Calculate base regional share based on households\n",
    "\n",
    "        base_share = all_baselines[baseline]\n",
    "\n",
    "        # STEP 2: Scale base share based on combined index factors\n",
    "\n",
    "        # Take baseline distribution - and modify it with each of the 10 or so factors\n",
    "        # Result: baseline share adjusted upwards or downwards, at the jurisdiction level\n",
    "        base_share_scaled_v2 = combined_factors_SCALED.mul(base_share, axis=0)\n",
    "\n",
    "        # STEP 3: Normalize STEP 2 shares to 100 percent\n",
    "        # Result: RHNA shares\n",
    "\n",
    "        # Factor now sums to 100% for region\n",
    "        # result: a set of factors, standardized. These are the distributions \n",
    "        # we will use to allocate, once weights and relevant factors are chosen\n",
    "        base_share_scaled_rebase_v2 = base_share_scaled_v2/base_share_scaled_v2.sum()\n",
    "\n",
    "        # STEP 4: Apply shares to RHND\n",
    "        ## the number to be allocated for a particular income group\n",
    "        RHND = rhnd_income[inc_grp]\n",
    "\n",
    "        # weights are compartmentalized\n",
    "        # RHND mapped to factors according to weights - this is a unit count to be allocated \n",
    "        # in a specific income group, with the help of specific factors\n",
    "        \n",
    "        RHND_to_factors = RHND * weighted_avg(inc_weights)\n",
    "\n",
    "        # Then geographically distribute per the relevant factor distribution (these will be different of course)\n",
    "        rhna_inc_alloc = (base_share_scaled_rebase_v2.mul(\n",
    "            RHND_to_factors, axis=1)).round(0)\n",
    "\n",
    "        all_inc_groups[inc_grp] = rhna_inc_alloc\n",
    "\n",
    "    \n",
    "    ## combine the four income group allocations into one frame\n",
    "    rhna_inc_alloc = pd.concat(all_inc_groups, names=[\n",
    "                               'income_group']).unstack('income_group')\n",
    "\n",
    "    rhna_inc_alloc['county'] = jurisdictions.set_index('jurisdicti').county\n",
    "    rhna_inc_alloc = rhna_inc_alloc.set_index(\n",
    "        'county', append=True).stack(level=['income_group'])\n",
    "    rhna_inc_alloc.index = rhna_inc_alloc.index.set_names('juris', level=0)\n",
    "    rhna_inc_alloc.index = rhna_inc_alloc.index.reorder_levels(\n",
    "        ['county', 'juris', 'income_group'])\n",
    "\n",
    "    with_rhna5 = pd.concat([rhna_inc_alloc.sum(axis=1),\n",
    "                            rhna_2014_2022_inc], keys=['RHNA_2230', 'RHNA_1422'],\n",
    "                           names=['vintage', 'county', 'juris', 'income_group'])\n",
    "\n",
    "    return rhna_inc_alloc, with_rhna5"
   ]
  },
  {
   "cell_type": "markdown",
   "metadata": {},
   "source": [
    "#### Get various mappings"
   ]
  },
  {
   "cell_type": "code",
   "execution_count": 12,
   "metadata": {},
   "outputs": [],
   "source": [
    "# fips to county names for the bay area\n",
    "bayareafips_full = {'06001': 'Alameda', '06013': 'Contra Costa', '06041': 'Marin', '06055': 'Napa',\n",
    "                    '06075': 'San Francisco', '06081': 'San Mateo', '06085': 'Santa Clara', '06097': 'Sonoma', '06095': 'Solano'}\n",
    "\n",
    "# County maps (MTC has one that is geographic, cricling bay counterclockwise starting with sf; ABAG has an alphabetic one)\n",
    "countymap = {1: 'Alameda', 2: 'Contra Costa', 3: 'Marin', 4: 'Napa',\n",
    "             5: 'San Francisco', 6: 'San Mateo', 7: 'Santa Clara', 8: 'Solano', 9: 'Sonoma'}\n",
    "\n",
    "# define subregions\n",
    "subregions = {'Napa County Subregion': ['American Canyon', 'Napa', 'Yountville', 'Unincorporated Napa'],\n",
    "              'Solano County Subregion': ['Benicia', 'Dixon', 'Fairfield', 'Rio Vista', 'Suisun City', 'Vacaville', 'Vallejo', 'Unincorporated Solano']}\n",
    "subregions = pd.Series(subregions).apply(pd.Series).stack(\n",
    ").reset_index(name='juris').set_index('juris').level_0"
   ]
  },
  {
   "cell_type": "code",
   "execution_count": 13,
   "metadata": {},
   "outputs": [],
   "source": [
    "# city classification from vital signs\n",
    "mtc_city_classification_vs = pd.Series({'Big Three': ['San Jose', 'San Francisco', 'Oakland'],\n",
    "                                        'Bayside': ['Alameda', 'Albany', 'Atherton', 'Belmont', 'Belvedere', 'Berkeley', 'Brisbane', 'Burlingame', 'Campbell', 'Colma', 'Corte Madera', 'Cupertino', 'Daly City', 'East Palo Alto', 'El Cerrito', 'Emeryville', 'Fairfax', 'Foster City', 'Fremont', 'Hayward', 'Hercules', 'Hillsborough', 'Larkspur', 'Los Altos', 'Los Altos Hills', 'Los Gatos', 'Menlo Park', 'Mill Valley', 'Millbrae', 'Milpitas', 'Monte Sereno', 'Mountain View', 'Newark', 'Pacifica', 'Palo Alto', 'Piedmont', 'Pinole', 'Portola Valley', 'Redwood City', 'Richmond', 'Ross', 'San Anselmo', 'San Bruno', 'San Carlos', 'San Leandro', 'San Mateo', 'San Pablo', 'San Rafael', 'Santa Clara', 'Saratoga', 'Sausalito', 'South San Francisco', 'Sunnyvale', 'Tiburon', 'Union City', 'Vallejo', 'Woodside'],\n",
    "\n",
    "                                        'Inland, Delta and Coastal': ['American Canyon', 'Antioch', 'Benicia', 'Brentwood', 'Calistoga', 'Clayton', 'Cloverdale', 'Concord', 'Cotati', 'Danville', 'Dixon', 'Dublin', 'Fairfield', 'Gilroy', 'Half Moon Bay', 'Healdsburg', 'Lafayette', 'Livermore', 'Martinez', 'Moraga', 'Morgan Hill', 'Napa', 'Novato', 'Oakley', 'Orinda', 'Petaluma', 'Pittsburg', 'Pleasant Hill', 'Pleasanton', 'Rio Vista', 'Rohnert Park', 'San Ramon', 'Santa Rosa', 'Sebastopol', 'Sonoma', 'St. Helena', 'Suisun City', 'Vacaville', 'Walnut Creek', 'Windsor', 'Yountville'],\n",
    "                                        'Unincorporated': ['Unincorporated Alameda', 'Unincorporated Contra Costa', 'Unincorporated Marin',\n",
    "                                                           'Unincorporated Napa', 'Unincorporated San Mateo', 'Unincorporated Santa Clara',\n",
    "                                                           'Unincorporated Sonoma', 'Unincorporated Solano']}).apply(pd.Series).stack().reset_index(1, drop=True).reset_index(name='juris').set_index('juris')['index']"
   ]
  },
  {
   "cell_type": "code",
   "execution_count": 14,
   "metadata": {},
   "outputs": [
    {
     "data": {
      "text/plain": [
       "bayarea_ami\n",
       "VLI     0.259402\n",
       "LI      0.149355\n",
       "MOD     0.164814\n",
       "MOD+    0.426428\n",
       "Name: True, dtype: float64"
      ]
     },
     "execution_count": 14,
     "metadata": {},
     "output_type": "execute_result"
    }
   ],
   "source": [
    "# Set assumptions from June HCD memo on RHND\n",
    "\n",
    "ami_levels_reg = pd.Series({'VLI': 114442,\n",
    "                            'LI': 65892,\n",
    "                            'MOD': 72712,\n",
    "                            'MOD+': 188130})\n",
    "RHND = ami_levels_reg.sum()\n",
    "\n",
    "RHND_INCOME = ami_levels_reg.to_dict()\n",
    "\n",
    "ami_levels_reg = ami_levels_reg/ami_levels_reg.sum()\n",
    "ami_levels_reg.index.name = 'bayarea_ami'\n",
    "ami_levels_reg.name = True\n",
    "ami_levels_reg"
   ]
  },
  {
   "cell_type": "code",
   "execution_count": 15,
   "metadata": {},
   "outputs": [],
   "source": [
    "major_groups = {'VLI': 'Lower', 'LI': 'Lower', 'MOD': 'Upper', 'MOD+': 'Upper'}\n",
    "income_name_map = {'VLI': 'Very Low Income (<50% of Area Median Income)',\n",
    "                   'LI': 'Low Income (50-80% of Area Median Income)', 'MOD': 'Moderate Income (80-120% of Area Median Income)', 'MOD+': 'Above Moderate Income (>120% of Area Median Income)'}\n",
    "\n",
    "income_cat_names = ['VLI', 'LI', 'MOD', 'MOD+']"
   ]
  },
  {
   "cell_type": "markdown",
   "metadata": {},
   "source": [
    "### Get base year households, jurisdictions, and old RHNA"
   ]
  },
  {
   "cell_type": "markdown",
   "metadata": {},
   "source": [
    "#### Parse DOF E5 data on households - this will be the base all other things equal proportion"
   ]
  },
  {
   "cell_type": "code",
   "execution_count": 374,
   "metadata": {},
   "outputs": [],
   "source": [
    "dofhist = pd.read_csv(\n",
    "    'data/dof_e5_city.csv')\n",
    "\n",
    "dofhist['juris'] = dofhist.City.str.strip().replace(\n",
    "    {'St Helena': 'St. Helena'})\n",
    "\n",
    "dofhist.loc[dofhist.juris.str.contains(\n",
    "    'Uninc'), 'juris'] = 'Unincorporated '+dofhist.loc[dofhist.juris.str.contains('Uninc'), 'County']\n",
    "\n",
    "dof_2019_hh = dofhist.loc[(dofhist.year == 2019) & (\n",
    "    dofhist.juris != 'Incorporated')].set_index('juris')['U Occupied']\n",
    "\n",
    "# dofhist.loc[(dofhist.year == 2019) & (dofhist.juris !=\n",
    "#                                       'Incorporated')].set_index('juris')['U Occupied']\n",
    "\n",
    "\n",
    "dof_2020 = pd.read_excel(\n",
    "    'data/bayarea_e5_2010_2020.xlsx', 'U Occupied')\n",
    "\n",
    "dof_2020.loc[dof_2020['City'].str.contains(\n",
    "    'Uninc'), 'City'] = 'Unincorporated '+dof_2020.loc[dof_2020['City'].str.contains('Uninc'), 'County']\n",
    "\n",
    "dof_2020_hh = dof_2020.set_index(['County', 'City'])['2020']\n",
    "dof_2020_hh.index = dof_2020_hh.index.set_names(['county', 'juris'])\n",
    "\n",
    "dof_2020_hh = dof_2020_hh.reset_index('county', drop=True)\n",
    "dof_2020_hh.index = dof_2020_hh.index.str.replace('St Helena', 'St. Helena')"
   ]
  },
  {
   "cell_type": "code",
   "execution_count": 375,
   "metadata": {},
   "outputs": [
    {
     "data": {
      "text/html": [
       "<div>\n",
       "<style scoped>\n",
       "    .dataframe tbody tr th:only-of-type {\n",
       "        vertical-align: middle;\n",
       "    }\n",
       "\n",
       "    .dataframe tbody tr th {\n",
       "        vertical-align: top;\n",
       "    }\n",
       "\n",
       "    .dataframe thead th {\n",
       "        text-align: right;\n",
       "    }\n",
       "</style>\n",
       "<table border=\"1\" class=\"dataframe\">\n",
       "  <thead>\n",
       "    <tr style=\"text-align: right;\">\n",
       "      <th></th>\n",
       "      <th>GEOID</th>\n",
       "      <th>county</th>\n",
       "      <th>jurisdicti</th>\n",
       "      <th>geometry</th>\n",
       "      <th>juris</th>\n",
       "      <th>geometry_pt</th>\n",
       "      <th>hh</th>\n",
       "    </tr>\n",
       "    <tr>\n",
       "      <th>GEOID</th>\n",
       "      <th></th>\n",
       "      <th></th>\n",
       "      <th></th>\n",
       "      <th></th>\n",
       "      <th></th>\n",
       "      <th></th>\n",
       "      <th></th>\n",
       "    </tr>\n",
       "  </thead>\n",
       "  <tbody>\n",
       "    <tr>\n",
       "      <th>0656938</th>\n",
       "      <td>0656938</td>\n",
       "      <td>Alameda</td>\n",
       "      <td>Piedmont</td>\n",
       "      <td>POLYGON ((566068.635 4186432.129, 566561.605 4...</td>\n",
       "      <td>Piedmont</td>\n",
       "      <td>POINT (567797.523 4186207.997)</td>\n",
       "      <td>3,863.00</td>\n",
       "    </tr>\n",
       "    <tr>\n",
       "      <th>0622594</th>\n",
       "      <td>0622594</td>\n",
       "      <td>Alameda</td>\n",
       "      <td>Emeryville</td>\n",
       "      <td>POLYGON ((561495.025 4189113.080, 562575.022 4...</td>\n",
       "      <td>Emeryville</td>\n",
       "      <td>POINT (562007.905 4188149.490)</td>\n",
       "      <td>6,381.00</td>\n",
       "    </tr>\n",
       "    <tr>\n",
       "      <th>0600674</th>\n",
       "      <td>0600674</td>\n",
       "      <td>Alameda</td>\n",
       "      <td>Albany</td>\n",
       "      <td>POLYGON ((560402.861 4194645.578, 562691.705 4...</td>\n",
       "      <td>Albany</td>\n",
       "      <td>POINT (561755.758 4193927.989)</td>\n",
       "      <td>6,552.00</td>\n",
       "    </tr>\n",
       "    <tr>\n",
       "      <th>0650916</th>\n",
       "      <td>0650916</td>\n",
       "      <td>Alameda</td>\n",
       "      <td>Newark</td>\n",
       "      <td>POLYGON ((581920.453 4152759.465, 582831.602 4...</td>\n",
       "      <td>Newark</td>\n",
       "      <td>POINT (586037.145 4153210.981)</td>\n",
       "      <td>14,098.00</td>\n",
       "    </tr>\n",
       "    <tr>\n",
       "      <th>0681204</th>\n",
       "      <td>0681204</td>\n",
       "      <td>Alameda</td>\n",
       "      <td>Union City</td>\n",
       "      <td>POLYGON ((579770.062 4159924.931, 580255.426 4...</td>\n",
       "      <td>Union City</td>\n",
       "      <td>POINT (584748.877 4161651.097)</td>\n",
       "      <td>20,917.00</td>\n",
       "    </tr>\n",
       "  </tbody>\n",
       "</table>\n",
       "</div>"
      ],
      "text/plain": [
       "           GEOID   county  jurisdicti  \\\n",
       "GEOID                                   \n",
       "0656938  0656938  Alameda    Piedmont   \n",
       "0622594  0622594  Alameda  Emeryville   \n",
       "0600674  0600674  Alameda      Albany   \n",
       "0650916  0650916  Alameda      Newark   \n",
       "0681204  0681204  Alameda  Union City   \n",
       "\n",
       "                                                  geometry       juris  \\\n",
       "GEOID                                                                    \n",
       "0656938  POLYGON ((566068.635 4186432.129, 566561.605 4...    Piedmont   \n",
       "0622594  POLYGON ((561495.025 4189113.080, 562575.022 4...  Emeryville   \n",
       "0600674  POLYGON ((560402.861 4194645.578, 562691.705 4...      Albany   \n",
       "0650916  POLYGON ((581920.453 4152759.465, 582831.602 4...      Newark   \n",
       "0681204  POLYGON ((579770.062 4159924.931, 580255.426 4...  Union City   \n",
       "\n",
       "                            geometry_pt        hh  \n",
       "GEOID                                              \n",
       "0656938  POINT (567797.523 4186207.997)  3,863.00  \n",
       "0622594  POINT (562007.905 4188149.490)  6,381.00  \n",
       "0600674  POINT (561755.758 4193927.989)  6,552.00  \n",
       "0650916  POINT (586037.145 4153210.981) 14,098.00  \n",
       "0681204  POINT (584748.877 4161651.097) 20,917.00  "
      ]
     },
     "execution_count": 375,
     "metadata": {},
     "output_type": "execute_result"
    }
   ],
   "source": [
    "# load jurisdictions shapefile\n",
    "jurisdictions = gpd.read_file(\n",
    "    'data/places_w_remainder_uninc_complete_2019_vintage.shp')\n",
    "jurisdictions['juris'] = jurisdictions.jurisdicti\n",
    "# jurisdictions=jurisdictions[jurisdictions.LSAD.isin(['25','43','99'])]\n",
    "jurisdictions.index = jurisdictions.GEOID\n",
    "jurisdictions2 = jurisdictions.copy()\n",
    "jurisdictions['geometry'] = jurisdictions.simplify(tolerance=250)\n",
    "jurisdictions['geometry_pt'] = jurisdictions.geometry.representative_point()\n",
    "\n",
    "jurisdictions['hh'] = jurisdictions.juris.map(dof_2019_hh)\n",
    "jurisdictions = jurisdictions.sort_values(['county', 'hh'], ascending=True)\n",
    "jurisdictions.head()"
   ]
  },
  {
   "cell_type": "code",
   "execution_count": 376,
   "metadata": {},
   "outputs": [
    {
     "data": {
      "text/plain": [
       "(443366.6832900024, 669591.5175100251, 4073093.62337473, 4312780.598924695)"
      ]
     },
     "execution_count": 376,
     "metadata": {},
     "output_type": "execute_result"
    },
    {
     "data": {
      "image/png": "[encoded data removed]",
      "text/plain": [
       "<Figure size 864x504 with 1 Axes>"
      ]
     },
     "metadata": {},
     "output_type": "display_data"
    }
   ],
   "source": [
    "ax=jurisdictions.plot(column='hh',scheme='NaturalBreaks')\n",
    "ax.axis('off')"
   ]
  },
  {
   "cell_type": "code",
   "execution_count": 378,
   "metadata": {},
   "outputs": [
    {
     "data": {
      "text/plain": [
       "juris\n",
       "San Mateo          Largest 15 (by 2019 households)\n",
       "Vallejo            Largest 15 (by 2019 households)\n",
       "Concord            Largest 15 (by 2019 households)\n",
       "Santa Clara        Largest 15 (by 2019 households)\n",
       "Hayward            Largest 15 (by 2019 households)\n",
       "                               ...                \n",
       "Albany          Middle Cities (by 2019 households)\n",
       "Fairfax         Middle Cities (by 2019 households)\n",
       "Redwood City    Middle Cities (by 2019 households)\n",
       "Pleasanton      Middle Cities (by 2019 households)\n",
       "San Anselmo     Middle Cities (by 2019 households)\n",
       "Name: level_0, Length: 109, dtype: object"
      ]
     },
     "execution_count": 378,
     "metadata": {},
     "output_type": "execute_result"
    }
   ],
   "source": [
    "# group cities into different size buckets\n",
    "\n",
    "cities_top15 = dof_2019_hh.sort_values().tail(15).index.tolist()\n",
    "cities_bottom15 = dof_2019_hh.sort_values().head(15).index.tolist()\n",
    "\n",
    "# all other cities\n",
    "cities_middle = list(set(dof_2019_hh.index)-set(cities_top15+cities_bottom15))\n",
    "\n",
    "# combine then in a series\n",
    "city_size_class = pd.Series({'Largest 15 (by 2019 households)': cities_top15, 'Smallest 15 (by 2019 households)': cities_bottom15,\n",
    "                             'Middle Cities (by 2019 households)': cities_middle}).apply(pd.Series).stack().reset_index(name='juris').set_index('juris').level_0\n",
    "city_size_class"
   ]
  },
  {
   "cell_type": "markdown",
   "metadata": {},
   "source": [
    "#### Parse RHNA 2014-2022 for later comparison"
   ]
  },
  {
   "cell_type": "code",
   "execution_count": 379,
   "metadata": {},
   "outputs": [],
   "source": [
    "rhna_2014_2022 = pd.read_excel('data/final_rhna_methodology_model_RHNA5.xlsx',\n",
    "                               'Final RHNA', skiprows=7, names=['juris', 'VLI', 'LI', 'MOD', 'MOD+', 'total'])\n",
    "\n",
    "# extract county designation from top of each county group\n",
    "rhna_2014_2022['county'] = rhna_2014_2022.loc[rhna_2014_2022['juris'].str.contains(\n",
    "    'County$').fillna(False), 'juris']\n",
    "\n",
    "# forward fill it\n",
    "rhna_2014_2022.county = rhna_2014_2022.county.fillna(method='ffill')\n",
    "rhna_2014_2022['county'] = rhna_2014_2022.county.str.replace(' County', '')\n",
    "\n",
    "\n",
    "# remove those rows - they don't have data\n",
    "rhna_2014_2022 = rhna_2014_2022.loc[~rhna_2014_2022['juris'].str.contains(\n",
    "    'County$').fillna(False)]\n",
    "\n",
    "# format uninc string\n",
    "rhna_2014_2022.loc[rhna_2014_2022['juris'].str.contains('Uninc').fillna(False), 'juris'] =\\\n",
    "    'Unincorporated ' + rhna_2014_2022.loc[rhna_2014_2022['juris'].str.contains(\n",
    "        'Uninc').fillna(False), 'county'].str.replace(' County', '')\n",
    "\n",
    "rhna_2014_2022 = rhna_2014_2022[rhna_2014_2022.juris.notnull()]\n",
    "rhna_2014_2022 = rhna_2014_2022[rhna_2014_2022.juris != 'REGION']\n",
    "\n",
    "# store income distrib\n",
    "rhna_2014_2022_inc = rhna_2014_2022.set_index(\n",
    "    ['county', 'juris']).drop(['total'], axis=1).stack()\n",
    "rhna_2014_2022_inc.index = rhna_2014_2022_inc.index.set_names(\n",
    "    'income_group', level=2)\n",
    "\n",
    "# store totals\n",
    "rhna_2014_2022_cnty_juris = rhna_2014_2022.set_index(\n",
    "    ['county', 'juris']).total.dropna()\n",
    "\n",
    "rhna_2014_2022 = rhna_2014_2022.set_index('juris').total.dropna()"
   ]
  },
  {
   "cell_type": "code",
   "execution_count": 380,
   "metadata": {},
   "outputs": [
    {
     "data": {
      "text/plain": [
       "approach\n",
       "RHNA 2015-2023 Scaled to 2023-2031 RHND   441,176.00\n",
       "Name: value, dtype: float64"
      ]
     },
     "execution_count": 380,
     "metadata": {},
     "output_type": "execute_result"
    }
   ],
   "source": [
    "## RHNA 2014-2022, scaled to current RHND\n",
    "\n",
    "rhna_2014_2022_inc_scaled = (\n",
    "    rhna_2014_2022_inc*(RHND/rhna_2014_2022_cnty_juris.sum()))\n",
    "rhna_2014_2022_inc_scaled.index = rhna_2014_2022_inc_scaled.index.set_names(\n",
    "    'bayarea_ami', level=2)\n",
    "rhna_2014_2022_inc_scaled = pd.concat([rhna_2014_2022_inc_scaled], keys=[(\n",
    "    'RHNA 2015-2023 Scaled to 2023-2031 RHND', 'RHNA 2015-2023 Scaled to 2023-2031 RHND')], names=['approach', 'baseline'])\n",
    "\n",
    "rhna_2014_2022_inc_scaled = rhna_2014_2022_inc_scaled.reset_index(name='value')\n",
    "rhna_2014_2022_inc_scaled['equity_adjustment'] = \"Unmodified Allocation\"\n",
    "rhna_2014_2022_inc_scaled = rhna_2014_2022_inc_scaled.set_index(\n",
    "    ['approach', 'baseline', 'equity_adjustment', 'county', 'juris', 'bayarea_ami']).value\n",
    "rhna_2014_2022_inc_scaled.sum(level=0)"
   ]
  },
  {
   "cell_type": "code",
   "execution_count": 381,
   "metadata": {},
   "outputs": [
    {
     "data": {
      "text/plain": [
       "approach\n",
       "RHNA 2015-2023   187,990.00\n",
       "Name: value, dtype: float64"
      ]
     },
     "execution_count": 381,
     "metadata": {},
     "output_type": "execute_result"
    }
   ],
   "source": [
    "rhna_2014_2022_inc_raw = pd.concat([rhna_2014_2022_inc], keys=[(\n",
    "    'RHNA 2015-2023', 'RHNA 2015-2023')], names=['approach', 'baseline'])\n",
    "rhna_2014_2022_inc_raw.index = rhna_2014_2022_inc_raw.index.set_names(\n",
    "    'bayarea_ami', level=4)\n",
    "\n",
    "rhna_2014_2022_inc_raw = rhna_2014_2022_inc_raw.reset_index(name='value')\n",
    "rhna_2014_2022_inc_raw['equity_adjustment'] = \"Unmodified Allocation\"\n",
    "rhna_2014_2022_inc_raw = rhna_2014_2022_inc_raw.set_index(\n",
    "    ['approach', 'baseline', 'equity_adjustment', 'county', 'juris', 'bayarea_ami']).value\n",
    "rhna_2014_2022_inc_raw.sum(level=0)"
   ]
  },
  {
   "cell_type": "markdown",
   "metadata": {},
   "source": [
    "### Prep key allocation building blocks\n",
    "* Baseline: Starting point for the allocation, like a jurisdiction's share of regional households\n",
    "* Factors: Used to adjust up or down the baseline allocation. A jurisdiction with above-average scores on chosen factors will see an increase in baseline allocation; one with below-average scores will see a decrease, all other things equal."
   ]
  },
  {
   "cell_type": "markdown",
   "metadata": {},
   "source": [
    "#### Load baselines"
   ]
  },
  {
   "cell_type": "code",
   "execution_count": 385,
   "metadata": {},
   "outputs": [
    {
     "data": {
      "text/html": [
       "<div>\n",
       "<style scoped>\n",
       "    .dataframe tbody tr th:only-of-type {\n",
       "        vertical-align: middle;\n",
       "    }\n",
       "\n",
       "    .dataframe tbody tr th {\n",
       "        vertical-align: top;\n",
       "    }\n",
       "\n",
       "    .dataframe thead th {\n",
       "        text-align: right;\n",
       "    }\n",
       "</style>\n",
       "<table border=\"1\" class=\"dataframe\">\n",
       "  <thead>\n",
       "    <tr style=\"text-align: right;\">\n",
       "      <th></th>\n",
       "      <th>hh19</th>\n",
       "      <th>jobs17</th>\n",
       "      <th>bp_hh50_dr</th>\n",
       "      <th>bp_hh50_fnl</th>\n",
       "    </tr>\n",
       "    <tr>\n",
       "      <th>juris</th>\n",
       "      <th></th>\n",
       "      <th></th>\n",
       "      <th></th>\n",
       "      <th></th>\n",
       "    </tr>\n",
       "  </thead>\n",
       "  <tbody>\n",
       "    <tr>\n",
       "      <th>Alameda</th>\n",
       "      <td>0.01</td>\n",
       "      <td>0.01</td>\n",
       "      <td>0.01</td>\n",
       "      <td>0.01</td>\n",
       "    </tr>\n",
       "    <tr>\n",
       "      <th>Albany</th>\n",
       "      <td>0.00</td>\n",
       "      <td>0.00</td>\n",
       "      <td>0.00</td>\n",
       "      <td>0.00</td>\n",
       "    </tr>\n",
       "  </tbody>\n",
       "</table>\n",
       "</div>"
      ],
      "text/plain": [
       "         hh19  jobs17  bp_hh50_dr  bp_hh50_fnl\n",
       "juris                                         \n",
       "Alameda  0.01    0.01        0.01         0.01\n",
       "Albany   0.00    0.00        0.00         0.00"
      ]
     },
     "execution_count": 385,
     "metadata": {},
     "output_type": "execute_result"
    }
   ],
   "source": [
    "baseline_variants = ['hh19',\n",
    "                     'Blueprint', 'hh19_bp_1550_avg', 'bp_hh50_fnl']\n",
    "\n",
    "all_baselines = ft.read_dataframe(\n",
    "    'data/juris_baselines.feather').set_index('juris')\n",
    "all_baselines=all_baselines[['hh19','jobs17','bp_hh50_dr','bp_hh50_fnl']]\n",
    "all_baselines.head(2)"
   ]
  },
  {
   "cell_type": "markdown",
   "metadata": {},
   "source": [
    "#### Load factors"
   ]
  },
  {
   "cell_type": "code",
   "execution_count": 386,
   "metadata": {},
   "outputs": [
    {
     "data": {
      "text/html": [
       "<div>\n",
       "<style scoped>\n",
       "    .dataframe tbody tr th:only-of-type {\n",
       "        vertical-align: middle;\n",
       "    }\n",
       "\n",
       "    .dataframe tbody tr th {\n",
       "        vertical-align: top;\n",
       "    }\n",
       "\n",
       "    .dataframe thead th {\n",
       "        text-align: right;\n",
       "    }\n",
       "</style>\n",
       "<table border=\"1\" class=\"dataframe\">\n",
       "  <thead>\n",
       "    <tr style=\"text-align: right;\">\n",
       "      <th></th>\n",
       "      <th>Jobs-Housing Fit</th>\n",
       "      <th>Jobs-Housing Balance</th>\n",
       "      <th>Job Proximity - Transit</th>\n",
       "      <th>Job Proximity - Auto</th>\n",
       "      <th>Future Jobs</th>\n",
       "      <th>Transit Connectivity</th>\n",
       "      <th>Access to High Opportunity Areas</th>\n",
       "      <th>Natural Hazards</th>\n",
       "      <th>Divergence Index</th>\n",
       "      <th>Urbanized Area</th>\n",
       "      <th>Vehicle Miles Travelled (VMT)</th>\n",
       "      <th>region</th>\n",
       "    </tr>\n",
       "    <tr>\n",
       "      <th>index</th>\n",
       "      <th></th>\n",
       "      <th></th>\n",
       "      <th></th>\n",
       "      <th></th>\n",
       "      <th></th>\n",
       "      <th></th>\n",
       "      <th></th>\n",
       "      <th></th>\n",
       "      <th></th>\n",
       "      <th></th>\n",
       "      <th></th>\n",
       "      <th></th>\n",
       "    </tr>\n",
       "  </thead>\n",
       "  <tbody>\n",
       "    <tr>\n",
       "      <th>Alameda</th>\n",
       "      <td>2.16</td>\n",
       "      <td>0.91</td>\n",
       "      <td>2.57</td>\n",
       "      <td>16.46</td>\n",
       "      <td>0.01</td>\n",
       "      <td>0.01</td>\n",
       "      <td>0.66</td>\n",
       "      <td>0.36</td>\n",
       "      <td>0.05</td>\n",
       "      <td>0.01</td>\n",
       "      <td>26.14</td>\n",
       "      <td>Bay Area</td>\n",
       "    </tr>\n",
       "    <tr>\n",
       "      <th>Albany</th>\n",
       "      <td>2.13</td>\n",
       "      <td>0.57</td>\n",
       "      <td>5.33</td>\n",
       "      <td>16.53</td>\n",
       "      <td>0.00</td>\n",
       "      <td>0.01</td>\n",
       "      <td>0.84</td>\n",
       "      <td>0.80</td>\n",
       "      <td>0.06</td>\n",
       "      <td>0.00</td>\n",
       "      <td>24.29</td>\n",
       "      <td>Bay Area</td>\n",
       "    </tr>\n",
       "  </tbody>\n",
       "</table>\n",
       "</div>"
      ],
      "text/plain": [
       "         Jobs-Housing Fit  Jobs-Housing Balance  Job Proximity - Transit  \\\n",
       "index                                                                      \n",
       "Alameda              2.16                  0.91                     2.57   \n",
       "Albany               2.13                  0.57                     5.33   \n",
       "\n",
       "         Job Proximity - Auto  Future Jobs  Transit Connectivity  \\\n",
       "index                                                              \n",
       "Alameda                 16.46         0.01                  0.01   \n",
       "Albany                  16.53         0.00                  0.01   \n",
       "\n",
       "         Access to High Opportunity Areas  Natural Hazards  Divergence Index  \\\n",
       "index                                                                          \n",
       "Alameda                              0.66             0.36              0.05   \n",
       "Albany                               0.84             0.80              0.06   \n",
       "\n",
       "         Urbanized Area  Vehicle Miles Travelled (VMT)    region  \n",
       "index                                                             \n",
       "Alameda            0.01                          26.14  Bay Area  \n",
       "Albany             0.00                          24.29  Bay Area  "
      ]
     },
     "execution_count": 386,
     "metadata": {},
     "output_type": "execute_result"
    }
   ],
   "source": [
    "# load the raw factors - data describing each jurisdiction on a number of dimensions. Data is not yet normalized, but in native scale\n",
    "\n",
    "combined_factors = ft.read_dataframe(\n",
    "    'data/juris_factors_raw.feather').set_index('index')\n",
    "combined_factors.head(2)"
   ]
  },
  {
   "cell_type": "markdown",
   "metadata": {},
   "source": [
    "Since the factors here are in their original scaling and some are ratios and some are percentages, we want to standardize them so they are on the same scale - with bounds from .5 to 1.5.  A jurisdiction in the top of the distribution on the raw factor will land it at or near 1.5. A jurisdiction at the bottom of the distribution for a factor will land it at or near .5.\n",
    "\n",
    "This makes the interpretation relatively straightforward: A high scoring jurisdiction will see its baseline allocation **increased** by 1.5 for that factor. A low scoring one, conversely, will see its allocation **decreased** by .5."
   ]
  },
  {
   "cell_type": "code",
   "execution_count": 387,
   "metadata": {},
   "outputs": [],
   "source": [
    "combined_factors_SCALED=combined_factors.groupby('region').apply(rescale,new_range_low=.5,new_range_hi=1.5)\n"
   ]
  },
  {
   "cell_type": "code",
   "execution_count": 388,
   "metadata": {},
   "outputs": [
    {
     "data": {
      "text/html": [
       "<div>\n",
       "<style scoped>\n",
       "    .dataframe tbody tr th:only-of-type {\n",
       "        vertical-align: middle;\n",
       "    }\n",
       "\n",
       "    .dataframe tbody tr th {\n",
       "        vertical-align: top;\n",
       "    }\n",
       "\n",
       "    .dataframe thead tr th {\n",
       "        text-align: left;\n",
       "    }\n",
       "</style>\n",
       "<table border=\"1\" class=\"dataframe\">\n",
       "  <thead>\n",
       "    <tr>\n",
       "      <th>index</th>\n",
       "      <th colspan=\"2\" halign=\"left\">Orinda</th>\n",
       "      <th colspan=\"2\" halign=\"left\">Oakland</th>\n",
       "      <th colspan=\"2\" halign=\"left\">Santa Rosa</th>\n",
       "      <th colspan=\"2\" halign=\"left\">San Francisco</th>\n",
       "    </tr>\n",
       "    <tr>\n",
       "      <th></th>\n",
       "      <th>0: orig</th>\n",
       "      <th>1: standardized</th>\n",
       "      <th>0: orig</th>\n",
       "      <th>1: standardized</th>\n",
       "      <th>0: orig</th>\n",
       "      <th>1: standardized</th>\n",
       "      <th>0: orig</th>\n",
       "      <th>1: standardized</th>\n",
       "    </tr>\n",
       "  </thead>\n",
       "  <tbody>\n",
       "    <tr>\n",
       "      <th>Jobs-Housing Fit</th>\n",
       "      <td>8.06</td>\n",
       "      <td>0.64</td>\n",
       "      <td>1.42</td>\n",
       "      <td>0.51</td>\n",
       "      <td>2.17</td>\n",
       "      <td>0.52</td>\n",
       "      <td>2.68</td>\n",
       "      <td>0.53</td>\n",
       "    </tr>\n",
       "    <tr>\n",
       "      <th>Jobs-Housing Balance</th>\n",
       "      <td>0.55</td>\n",
       "      <td>0.53</td>\n",
       "      <td>1.26</td>\n",
       "      <td>0.61</td>\n",
       "      <td>1.08</td>\n",
       "      <td>0.59</td>\n",
       "      <td>1.97</td>\n",
       "      <td>0.69</td>\n",
       "    </tr>\n",
       "    <tr>\n",
       "      <th>Job Proximity - Transit</th>\n",
       "      <td>0.07</td>\n",
       "      <td>0.50</td>\n",
       "      <td>7.04</td>\n",
       "      <td>0.98</td>\n",
       "      <td>0.42</td>\n",
       "      <td>0.53</td>\n",
       "      <td>14.56</td>\n",
       "      <td>1.50</td>\n",
       "    </tr>\n",
       "    <tr>\n",
       "      <th>Job Proximity - Auto</th>\n",
       "      <td>18.14</td>\n",
       "      <td>1.07</td>\n",
       "      <td>19.81</td>\n",
       "      <td>1.12</td>\n",
       "      <td>4.17</td>\n",
       "      <td>0.63</td>\n",
       "      <td>31.99</td>\n",
       "      <td>1.50</td>\n",
       "    </tr>\n",
       "    <tr>\n",
       "      <th>Future Jobs</th>\n",
       "      <td>0.00</td>\n",
       "      <td>0.50</td>\n",
       "      <td>0.06</td>\n",
       "      <td>0.86</td>\n",
       "      <td>0.02</td>\n",
       "      <td>0.60</td>\n",
       "      <td>0.17</td>\n",
       "      <td>1.50</td>\n",
       "    </tr>\n",
       "    <tr>\n",
       "      <th>Transit Connectivity</th>\n",
       "      <td>0.00</td>\n",
       "      <td>0.52</td>\n",
       "      <td>0.11</td>\n",
       "      <td>0.99</td>\n",
       "      <td>0.01</td>\n",
       "      <td>0.54</td>\n",
       "      <td>0.23</td>\n",
       "      <td>1.50</td>\n",
       "    </tr>\n",
       "    <tr>\n",
       "      <th>Access to High Opportunity Areas</th>\n",
       "      <td>1.00</td>\n",
       "      <td>1.50</td>\n",
       "      <td>0.24</td>\n",
       "      <td>0.74</td>\n",
       "      <td>0.07</td>\n",
       "      <td>0.57</td>\n",
       "      <td>0.54</td>\n",
       "      <td>1.04</td>\n",
       "    </tr>\n",
       "    <tr>\n",
       "      <th>Natural Hazards</th>\n",
       "      <td>0.30</td>\n",
       "      <td>0.69</td>\n",
       "      <td>0.55</td>\n",
       "      <td>0.98</td>\n",
       "      <td>0.88</td>\n",
       "      <td>1.36</td>\n",
       "      <td>0.83</td>\n",
       "      <td>1.31</td>\n",
       "    </tr>\n",
       "    <tr>\n",
       "      <th>Divergence Index</th>\n",
       "      <td>0.26</td>\n",
       "      <td>0.92</td>\n",
       "      <td>0.19</td>\n",
       "      <td>0.80</td>\n",
       "      <td>0.17</td>\n",
       "      <td>0.77</td>\n",
       "      <td>0.03</td>\n",
       "      <td>0.53</td>\n",
       "    </tr>\n",
       "    <tr>\n",
       "      <th>Urbanized Area</th>\n",
       "      <td>0.01</td>\n",
       "      <td>0.58</td>\n",
       "      <td>0.04</td>\n",
       "      <td>0.90</td>\n",
       "      <td>0.03</td>\n",
       "      <td>0.78</td>\n",
       "      <td>0.03</td>\n",
       "      <td>0.82</td>\n",
       "    </tr>\n",
       "    <tr>\n",
       "      <th>Vehicle Miles Travelled (VMT)</th>\n",
       "      <td>33.85</td>\n",
       "      <td>1.24</td>\n",
       "      <td>23.64</td>\n",
       "      <td>0.89</td>\n",
       "      <td>18.14</td>\n",
       "      <td>0.71</td>\n",
       "      <td>14.58</td>\n",
       "      <td>0.59</td>\n",
       "    </tr>\n",
       "    <tr>\n",
       "      <th>region</th>\n",
       "      <td>Bay Area</td>\n",
       "      <td>NaN</td>\n",
       "      <td>Bay Area</td>\n",
       "      <td>NaN</td>\n",
       "      <td>Bay Area</td>\n",
       "      <td>NaN</td>\n",
       "      <td>Bay Area</td>\n",
       "      <td>NaN</td>\n",
       "    </tr>\n",
       "  </tbody>\n",
       "</table>\n",
       "</div>"
      ],
      "text/plain": [
       "index                               Orinda                   Oakland  \\\n",
       "                                   0: orig 1: standardized   0: orig   \n",
       "Jobs-Housing Fit                      8.06            0.64      1.42   \n",
       "Jobs-Housing Balance                  0.55            0.53      1.26   \n",
       "Job Proximity - Transit               0.07            0.50      7.04   \n",
       "Job Proximity - Auto                 18.14            1.07     19.81   \n",
       "Future Jobs                           0.00            0.50      0.06   \n",
       "Transit Connectivity                  0.00            0.52      0.11   \n",
       "Access to High Opportunity Areas      1.00            1.50      0.24   \n",
       "Natural Hazards                       0.30            0.69      0.55   \n",
       "Divergence Index                      0.26            0.92      0.19   \n",
       "Urbanized Area                        0.01            0.58      0.04   \n",
       "Vehicle Miles Travelled (VMT)        33.85            1.24     23.64   \n",
       "region                            Bay Area             NaN  Bay Area   \n",
       "\n",
       "index                                            Santa Rosa                  \\\n",
       "                                 1: standardized    0: orig 1: standardized   \n",
       "Jobs-Housing Fit                            0.51       2.17            0.52   \n",
       "Jobs-Housing Balance                        0.61       1.08            0.59   \n",
       "Job Proximity - Transit                     0.98       0.42            0.53   \n",
       "Job Proximity - Auto                        1.12       4.17            0.63   \n",
       "Future Jobs                                 0.86       0.02            0.60   \n",
       "Transit Connectivity                        0.99       0.01            0.54   \n",
       "Access to High Opportunity Areas            0.74       0.07            0.57   \n",
       "Natural Hazards                             0.98       0.88            1.36   \n",
       "Divergence Index                            0.80       0.17            0.77   \n",
       "Urbanized Area                              0.90       0.03            0.78   \n",
       "Vehicle Miles Travelled (VMT)               0.89      18.14            0.71   \n",
       "region                                       NaN   Bay Area             NaN   \n",
       "\n",
       "index                            San Francisco                  \n",
       "                                       0: orig 1: standardized  \n",
       "Jobs-Housing Fit                          2.68            0.53  \n",
       "Jobs-Housing Balance                      1.97            0.69  \n",
       "Job Proximity - Transit                  14.56            1.50  \n",
       "Job Proximity - Auto                     31.99            1.50  \n",
       "Future Jobs                               0.17            1.50  \n",
       "Transit Connectivity                      0.23            1.50  \n",
       "Access to High Opportunity Areas          0.54            1.04  \n",
       "Natural Hazards                           0.83            1.31  \n",
       "Divergence Index                          0.03            0.53  \n",
       "Urbanized Area                            0.03            0.82  \n",
       "Vehicle Miles Travelled (VMT)            14.58            0.59  \n",
       "region                                Bay Area             NaN  "
      ]
     },
     "execution_count": 388,
     "metadata": {},
     "output_type": "execute_result"
    }
   ],
   "source": [
    "pd.concat([combined_factors,\n",
    "           combined_factors_SCALED,\n",
    "           ],\n",
    "          keys=['0: orig', '1: standardized']).stack().unstack([1, 0]).sort_index(axis=1).loc[:, ['Orinda', 'Oakland', 'Santa Rosa', 'San Francisco']]"
   ]
  },
  {
   "cell_type": "code",
   "execution_count": 390,
   "metadata": {},
   "outputs": [
    {
     "data": {
      "text/html": [
       "<div>\n",
       "<style scoped>\n",
       "    .dataframe tbody tr th:only-of-type {\n",
       "        vertical-align: middle;\n",
       "    }\n",
       "\n",
       "    .dataframe tbody tr th {\n",
       "        vertical-align: top;\n",
       "    }\n",
       "\n",
       "    .dataframe thead tr th {\n",
       "        text-align: left;\n",
       "    }\n",
       "</style>\n",
       "<table border=\"1\" class=\"dataframe\">\n",
       "  <thead>\n",
       "    <tr>\n",
       "      <th>index</th>\n",
       "      <th colspan=\"2\" halign=\"left\">Atherton</th>\n",
       "      <th colspan=\"2\" halign=\"left\">Brisbane</th>\n",
       "      <th colspan=\"2\" halign=\"left\">Livermore</th>\n",
       "      <th colspan=\"2\" halign=\"left\">Oakland</th>\n",
       "      <th colspan=\"2\" halign=\"left\">San Francisco</th>\n",
       "    </tr>\n",
       "    <tr>\n",
       "      <th></th>\n",
       "      <th>orig</th>\n",
       "      <th>standardized</th>\n",
       "      <th>orig</th>\n",
       "      <th>standardized</th>\n",
       "      <th>orig</th>\n",
       "      <th>standardized</th>\n",
       "      <th>orig</th>\n",
       "      <th>standardized</th>\n",
       "      <th>orig</th>\n",
       "      <th>standardized</th>\n",
       "    </tr>\n",
       "  </thead>\n",
       "  <tbody>\n",
       "    <tr>\n",
       "      <th>Jobs-Housing Fit</th>\n",
       "      <td>1.5</td>\n",
       "      <td>1.5</td>\n",
       "      <td>24.0</td>\n",
       "      <td>24.0</td>\n",
       "      <td>45.0</td>\n",
       "      <td>45.0</td>\n",
       "      <td>103.0</td>\n",
       "      <td>103.0</td>\n",
       "      <td>85.0</td>\n",
       "      <td>85.0</td>\n",
       "    </tr>\n",
       "    <tr>\n",
       "      <th>Jobs-Housing Balance</th>\n",
       "      <td>59.0</td>\n",
       "      <td>59.0</td>\n",
       "      <td>4.0</td>\n",
       "      <td>4.0</td>\n",
       "      <td>26.0</td>\n",
       "      <td>26.0</td>\n",
       "      <td>44.0</td>\n",
       "      <td>44.0</td>\n",
       "      <td>18.0</td>\n",
       "      <td>18.0</td>\n",
       "    </tr>\n",
       "    <tr>\n",
       "      <th>Job Proximity - Transit</th>\n",
       "      <td>18.0</td>\n",
       "      <td>18.0</td>\n",
       "      <td>66.0</td>\n",
       "      <td>66.0</td>\n",
       "      <td>69.0</td>\n",
       "      <td>69.0</td>\n",
       "      <td>4.0</td>\n",
       "      <td>4.0</td>\n",
       "      <td>1.0</td>\n",
       "      <td>1.0</td>\n",
       "    </tr>\n",
       "    <tr>\n",
       "      <th>Job Proximity - Auto</th>\n",
       "      <td>24.0</td>\n",
       "      <td>24.0</td>\n",
       "      <td>12.0</td>\n",
       "      <td>12.0</td>\n",
       "      <td>73.0</td>\n",
       "      <td>73.0</td>\n",
       "      <td>29.0</td>\n",
       "      <td>29.0</td>\n",
       "      <td>1.0</td>\n",
       "      <td>1.0</td>\n",
       "    </tr>\n",
       "    <tr>\n",
       "      <th>Future Jobs</th>\n",
       "      <td>96.0</td>\n",
       "      <td>96.0</td>\n",
       "      <td>58.0</td>\n",
       "      <td>58.0</td>\n",
       "      <td>24.0</td>\n",
       "      <td>24.0</td>\n",
       "      <td>3.0</td>\n",
       "      <td>3.0</td>\n",
       "      <td>1.0</td>\n",
       "      <td>1.0</td>\n",
       "    </tr>\n",
       "    <tr>\n",
       "      <th>Transit Connectivity</th>\n",
       "      <td>49.0</td>\n",
       "      <td>49.0</td>\n",
       "      <td>65.0</td>\n",
       "      <td>65.0</td>\n",
       "      <td>22.0</td>\n",
       "      <td>22.0</td>\n",
       "      <td>3.0</td>\n",
       "      <td>3.0</td>\n",
       "      <td>1.0</td>\n",
       "      <td>1.0</td>\n",
       "    </tr>\n",
       "    <tr>\n",
       "      <th>Access to High Opportunity Areas</th>\n",
       "      <td>53.0</td>\n",
       "      <td>53.0</td>\n",
       "      <td>93.0</td>\n",
       "      <td>93.0</td>\n",
       "      <td>54.0</td>\n",
       "      <td>54.0</td>\n",
       "      <td>62.0</td>\n",
       "      <td>62.0</td>\n",
       "      <td>49.0</td>\n",
       "      <td>49.0</td>\n",
       "    </tr>\n",
       "    <tr>\n",
       "      <th>Natural Hazards</th>\n",
       "      <td>2.0</td>\n",
       "      <td>2.0</td>\n",
       "      <td>101.0</td>\n",
       "      <td>101.0</td>\n",
       "      <td>15.0</td>\n",
       "      <td>15.0</td>\n",
       "      <td>96.0</td>\n",
       "      <td>96.0</td>\n",
       "      <td>48.0</td>\n",
       "      <td>48.0</td>\n",
       "    </tr>\n",
       "    <tr>\n",
       "      <th>Divergence Index</th>\n",
       "      <td>40.0</td>\n",
       "      <td>40.0</td>\n",
       "      <td>109.0</td>\n",
       "      <td>109.0</td>\n",
       "      <td>73.0</td>\n",
       "      <td>73.0</td>\n",
       "      <td>56.0</td>\n",
       "      <td>56.0</td>\n",
       "      <td>106.0</td>\n",
       "      <td>106.0</td>\n",
       "    </tr>\n",
       "    <tr>\n",
       "      <th>Urbanized Area</th>\n",
       "      <td>70.0</td>\n",
       "      <td>70.0</td>\n",
       "      <td>87.0</td>\n",
       "      <td>87.0</td>\n",
       "      <td>16.0</td>\n",
       "      <td>16.0</td>\n",
       "      <td>4.0</td>\n",
       "      <td>4.0</td>\n",
       "      <td>5.0</td>\n",
       "      <td>5.0</td>\n",
       "    </tr>\n",
       "    <tr>\n",
       "      <th>Vehicle Miles Travelled (VMT)</th>\n",
       "      <td>41.0</td>\n",
       "      <td>41.0</td>\n",
       "      <td>67.0</td>\n",
       "      <td>67.0</td>\n",
       "      <td>17.0</td>\n",
       "      <td>17.0</td>\n",
       "      <td>80.0</td>\n",
       "      <td>80.0</td>\n",
       "      <td>107.0</td>\n",
       "      <td>107.0</td>\n",
       "    </tr>\n",
       "  </tbody>\n",
       "</table>\n",
       "</div>"
      ],
      "text/plain": [
       "index                            Atherton              Brisbane               \\\n",
       "                                     orig standardized     orig standardized   \n",
       "Jobs-Housing Fit                      1.5          1.5     24.0         24.0   \n",
       "Jobs-Housing Balance                 59.0         59.0      4.0          4.0   \n",
       "Job Proximity - Transit              18.0         18.0     66.0         66.0   \n",
       "Job Proximity - Auto                 24.0         24.0     12.0         12.0   \n",
       "Future Jobs                          96.0         96.0     58.0         58.0   \n",
       "Transit Connectivity                 49.0         49.0     65.0         65.0   \n",
       "Access to High Opportunity Areas     53.0         53.0     93.0         93.0   \n",
       "Natural Hazards                       2.0          2.0    101.0        101.0   \n",
       "Divergence Index                     40.0         40.0    109.0        109.0   \n",
       "Urbanized Area                       70.0         70.0     87.0         87.0   \n",
       "Vehicle Miles Travelled (VMT)        41.0         41.0     67.0         67.0   \n",
       "\n",
       "index                            Livermore              Oakland               \\\n",
       "                                      orig standardized    orig standardized   \n",
       "Jobs-Housing Fit                      45.0         45.0   103.0        103.0   \n",
       "Jobs-Housing Balance                  26.0         26.0    44.0         44.0   \n",
       "Job Proximity - Transit               69.0         69.0     4.0          4.0   \n",
       "Job Proximity - Auto                  73.0         73.0    29.0         29.0   \n",
       "Future Jobs                           24.0         24.0     3.0          3.0   \n",
       "Transit Connectivity                  22.0         22.0     3.0          3.0   \n",
       "Access to High Opportunity Areas      54.0         54.0    62.0         62.0   \n",
       "Natural Hazards                       15.0         15.0    96.0         96.0   \n",
       "Divergence Index                      73.0         73.0    56.0         56.0   \n",
       "Urbanized Area                        16.0         16.0     4.0          4.0   \n",
       "Vehicle Miles Travelled (VMT)         17.0         17.0    80.0         80.0   \n",
       "\n",
       "index                            San Francisco               \n",
       "                                          orig standardized  \n",
       "Jobs-Housing Fit                          85.0         85.0  \n",
       "Jobs-Housing Balance                      18.0         18.0  \n",
       "Job Proximity - Transit                    1.0          1.0  \n",
       "Job Proximity - Auto                       1.0          1.0  \n",
       "Future Jobs                                1.0          1.0  \n",
       "Transit Connectivity                       1.0          1.0  \n",
       "Access to High Opportunity Areas          49.0         49.0  \n",
       "Natural Hazards                           48.0         48.0  \n",
       "Divergence Index                         106.0        106.0  \n",
       "Urbanized Area                             5.0          5.0  \n",
       "Vehicle Miles Travelled (VMT)            107.0        107.0  "
      ]
     },
     "execution_count": 390,
     "metadata": {},
     "output_type": "execute_result"
    }
   ],
   "source": [
    "# Check that the RANK (1 to 109) between original and scaled factor variable is consistent for a few cities\n",
    "pd.options.display.float_format = '{:,.1f}'.format\n",
    "\n",
    "pd.concat([combined_factors.drop(labels='region', axis=1),\n",
    "           combined_factors_SCALED],\n",
    "          keys=['orig', 'standardized']).stack().groupby(level=[0, 2]).rank(ascending=False).loc[:, ['Atherton', 'Brisbane', 'Livermore', 'Oakland', 'San Francisco']].unstack([1, 0]).sort_index(axis=1)"
   ]
  },
  {
   "cell_type": "markdown",
   "metadata": {},
   "source": [
    "#### Define a dict with a name of each factor and an associated fraction of 1. \n",
    "\n",
    "The interpretation of these weights is: Allocate x percent of the allocation according to the jurisdiction-level distribution of the relevant factor. In other words, if the **Access to High Opportunity Areas** factor is assigned 20%, it means 20% of the RHND (in this case 20% of 441,776, or 88,235 units, will be distributed according to this factor."
   ]
  },
  {
   "cell_type": "code",
   "execution_count": 391,
   "metadata": {},
   "outputs": [
    {
     "data": {
      "text/plain": [
       "1.0"
      ]
     },
     "execution_count": 391,
     "metadata": {},
     "output_type": "execute_result"
    }
   ],
   "source": [
    "factor_weights = {\n",
    "    'Access to High Opportunity Areas': .1,\n",
    "    'Divergence Index': .1,\n",
    "    'Job Proximity - Auto': .1,\n",
    "    'Job Proximity - Transit': .1,\n",
    "    'Vehicle Miles Travelled (VMT)': .1,\n",
    "    'Jobs-Housing Balance': .1,\n",
    "    'Jobs-Housing Fit': .2,\n",
    "    # 'Future Jobs':.1,\n",
    "    'Transit Connectivity': .1,\n",
    "    'Blueprint': .05,\n",
    "    'Blueprint50': .00,\n",
    "    'Urbanized Area': 0,\n",
    "    'Blueprint_grrate': .00,\n",
    "    'Blueprint_grrate_topcode': .00,\n",
    "    'Natural Hazards': .05}\n",
    "\n",
    "# check that they sum to 1\n",
    "pd.Series(factor_weights).sum()"
   ]
  },
  {
   "cell_type": "code",
   "execution_count": 392,
   "metadata": {},
   "outputs": [],
   "source": [
    "pd.options.display.float_format = '{:,.0f}'.format"
   ]
  },
  {
   "cell_type": "markdown",
   "metadata": {},
   "source": [
    "## Income distribution `Approach C` bottom-up using factors for each category \n",
    "This is the approach the HMC preferred - that each income group be treated as its own allocation, with factors selected for each, and the allocation accordingly \"run\" four times, one for each income group. The resulting allocation is then simply the sum of the four income group allocations. "
   ]
  },
  {
   "cell_type": "markdown",
   "metadata": {},
   "source": [
    "### Enter factors and weigts in a dictionary for each variant. Dictionary is keyed on the four income groups\n",
    "\n",
    "Each of them should sum to 100% - and the dicts will be passed to `run_allocation_inc` function"
   ]
  },
  {
   "cell_type": "code",
   "execution_count": 393,
   "metadata": {},
   "outputs": [],
   "source": [
    "## HMC option 7A\n",
    "factor_weights_2x_sep4 =\\\n",
    "    {\n",
    "        'VLI': {'Access to High Opportunity Areas': 0.5,\n",
    "                'Job Proximity - Auto': 0.25,\n",
    "                'Job Proximity - Transit': 0.25\n",
    "                },\n",
    "        'LI': {'Access to High Opportunity Areas': 0.5,\n",
    "               'Job Proximity - Auto': 0.25,\n",
    "               'Job Proximity - Transit': 0.25\n",
    "               },\n",
    "        'MOD': {\n",
    "            'Job Proximity - Auto': 0.5,\n",
    "            'Access to High Opportunity Areas': 0.5\n",
    "        },\n",
    "        'MOD+': {\n",
    "            'Job Proximity - Auto': 0.5,\n",
    "            'Access to High Opportunity Areas': 0.5\n",
    "        }}"
   ]
  },
  {
   "cell_type": "code",
   "execution_count": 394,
   "metadata": {},
   "outputs": [],
   "source": [
    "## HMC option 8A\n",
    "factor_weights_2x_eli_sep4 =\\\n",
    "    {\n",
    "        'VLI': {'Access to High Opportunity Areas': .7,\n",
    "                'Job Proximity - Auto': 0.15,\n",
    "                'Job Proximity - Transit': 0.15\n",
    "                },\n",
    "        'LI': {'Access to High Opportunity Areas': .7,\n",
    "               'Job Proximity - Auto': 0.15,\n",
    "               'Job Proximity - Transit': 0.15\n",
    "               },\n",
    "        'MOD': {'Access to High Opportunity Areas': .4,\n",
    "                'Job Proximity - Auto': 0.6\n",
    "                },\n",
    "        'MOD+': {'Access to High Opportunity Areas': .4,\n",
    "                 'Job Proximity - Auto': 0.6\n",
    "                 }}"
   ]
  },
  {
   "cell_type": "code",
   "execution_count": 396,
   "metadata": {},
   "outputs": [
    {
     "data": {
      "text/html": [
       "<div>\n",
       "<style scoped>\n",
       "    .dataframe tbody tr th:only-of-type {\n",
       "        vertical-align: middle;\n",
       "    }\n",
       "\n",
       "    .dataframe tbody tr th {\n",
       "        vertical-align: top;\n",
       "    }\n",
       "\n",
       "    .dataframe thead th {\n",
       "        text-align: right;\n",
       "    }\n",
       "</style>\n",
       "<table border=\"1\" class=\"dataframe\">\n",
       "  <thead>\n",
       "    <tr style=\"text-align: right;\">\n",
       "      <th></th>\n",
       "      <th>Access to High Opportunity Areas</th>\n",
       "      <th>Job Proximity - Auto</th>\n",
       "      <th>Job Proximity - Transit</th>\n",
       "    </tr>\n",
       "  </thead>\n",
       "  <tbody>\n",
       "    <tr>\n",
       "      <th>VLI</th>\n",
       "      <td>0.70</td>\n",
       "      <td>0.15</td>\n",
       "      <td>0.15</td>\n",
       "    </tr>\n",
       "    <tr>\n",
       "      <th>LI</th>\n",
       "      <td>0.70</td>\n",
       "      <td>0.15</td>\n",
       "      <td>0.15</td>\n",
       "    </tr>\n",
       "    <tr>\n",
       "      <th>MOD</th>\n",
       "      <td>0.40</td>\n",
       "      <td>0.60</td>\n",
       "      <td>0.00</td>\n",
       "    </tr>\n",
       "    <tr>\n",
       "      <th>MOD+</th>\n",
       "      <td>0.40</td>\n",
       "      <td>0.60</td>\n",
       "      <td>0.00</td>\n",
       "    </tr>\n",
       "  </tbody>\n",
       "</table>\n",
       "</div>"
      ],
      "text/plain": [
       "      Access to High Opportunity Areas  Job Proximity - Auto  \\\n",
       "VLI                               0.70                  0.15   \n",
       "LI                                0.70                  0.15   \n",
       "MOD                               0.40                  0.60   \n",
       "MOD+                              0.40                  0.60   \n",
       "\n",
       "      Job Proximity - Transit  \n",
       "VLI                      0.15  \n",
       "LI                       0.15  \n",
       "MOD                      0.00  \n",
       "MOD+                     0.00  "
      ]
     },
     "execution_count": 396,
     "metadata": {},
     "output_type": "execute_result"
    }
   ],
   "source": [
    "## 8A / '2-F Bottom-Up HRA-Fit-Bal Sep 4' / - the winner\n",
    "pd.options.display.float_format = '{:,.2f}'.format\n",
    "\n",
    "pd.Series(factor_weights_2x_eli_sep4).apply(pd.Series).fillna(0).loc[income_cat_names]"
   ]
  },
  {
   "cell_type": "markdown",
   "metadata": {},
   "source": [
    "### Prep weights and give meaningful names\n",
    "\n",
    "Define more descriptive names for the variants"
   ]
  },
  {
   "cell_type": "code",
   "execution_count": 397,
   "metadata": {},
   "outputs": [],
   "source": [
    "baseline_descriptive_names={#'BP_scaled_RHND': 'BP scaled to RHND',\n",
    "    #'RHNA 2015-2023 Scaled to 2023-2031 RHND':'RHNA 2015-2023 Scaled to 2023-2031 RHND',\n",
    "    #'RHNA 2015-2023':'RHNA 2015-2023',\n",
    "    #'bp_hh15_50_dr':'Housing Growth (Blueprint Draft)',\n",
    "    'bp_hh50_dr': '2050 Households (Blueprint Draft)',\n",
    "    #'bp_hh15_50_fnl':'Housing Growth (Blueprint Final)',\n",
    "    'bp_hh50_fnl': '2050 Households (Blueprint Final)',\n",
    "    #'bp_hh50_soi': '2050 Households (Blueprint) SOI',\n",
    "    'hh19': 'Households 2019',\n",
    "    #'area_ua_os_clip':'Urbanized Land Area',\n",
    "}"
   ]
  },
  {
   "cell_type": "code",
   "execution_count": 398,
   "metadata": {},
   "outputs": [],
   "source": [
    "# Collect the approach dicts in a larger dict\n",
    "\n",
    "approach_c_weights = {  # '2-F Bottom-Up':factor_weights_2x,\n",
    "    # '3-F Bottom-Up':factor_weights_3x,\n",
    "    # '3-F Bottom-Up 3+1':factor_weights_3x_3plus1,\n",
    "    # '2-F Bottom-Up 3+1':factor_weights_2x_3plus1,\n",
    "    # '2-F Bottom-Up HRA-Fit-Bal':factor_weights_2x_eli,\n",
    "    # '2-F Bottom-Up HRA-Fit-Bal 3+1':factor_weights_2x_eli_3p1,\n",
    "    '2-F Bottom-Up HRA-Fit-Auto Sep 4': factor_weights_2x_sep4,\n",
    "    '2-F Bottom-Up HRA-Fit-Bal Sep 4': factor_weights_2x_eli_sep4,\n",
    "}"
   ]
  },
  {
   "cell_type": "code",
   "execution_count": 399,
   "metadata": {},
   "outputs": [],
   "source": [
    "# Add more friendly names - useful in the outputs\n",
    "\n",
    "approach_map_nicename = {\n",
    "    'Baseline Allocation': 'Baseline Allocation',\n",
    "    'Blueprint Scaled to RHND': 'Blueprint Scaled to RHND',\n",
    "    'Blueprint Factor Only': 'Blueprint Factor Only',\n",
    "    'BP_scaled_RHND': 'BP Scaled to RHND',\n",
    "    '2-F Bottom-Up HRA-Fit-Auto Aug 28': 'Option 5A: 50/50 High Opportunity Areas & Jobs',\n",
    "    '2-F Bottom-Up HRA-Fit-Bal Aug 28': 'Option 6A: Modified High Opportunity Areas Emphasis',\n",
    "    '2-F Bottom-Up HRA-Fit-Auto Sep 4': 'Option 7A: Balanced High Opportunity Areas & Job Proximity',\n",
    "    '2-F Bottom-Up HRA-Fit-Bal Sep 4': 'Option 8A: High Opportunity Areas Emphasis & Job Proximity',\n",
    "}\n",
    "\n",
    "# grouping is useful in the R scripts for plotting purposes\n",
    "approach_grouping = {\n",
    "    '3-F Bottom-Up HRA-Transit-Auto Oct 15': 'Bottom Up',\n",
    "    '2-F Bottom-Up HRA-Access': 'Bottom Up',\n",
    "    '3-F Bottom-Up HRA-Access-Balance': 'Bottom Up',\n",
    "    '3-F Bottom-Up HRA-Balance-Access': 'Bottom Up',\n",
    "    'Baseline Allocation': 'Shift Approach',\n",
    "    '3-F Bottom-Up Aug 28': 'Bottom Up',\n",
    "    '2-F Bottom-Up HRA-Fit-Bal Aug 28': 'Bottom Up',\n",
    "    '2-F Bottom-Up HRA-Fit-Auto Sep 4': 'Bottom Up',\n",
    "    '2-F Bottom-Up HRA-Fit-Bal Sep 4': 'Bottom Up',\n",
    "    '2-F Bottom-Up HRA-Fit-Bal Sep 4 Capped': 'Bottom Up',\n",
    "    '2-F Bottom-Up HRA-Fit-Bal Sep 4 CDP': 'Bottom Up',\n",
    "    '3-F Bottom-Up Aug 28': 'Bottom Up',\n",
    "    '2-F Bottom-Up HRA-Fit-Auto Aug 28': 'Bottom Up',\n",
    "    '2-F Bottom-Up HRA-Fit-Bal Aug 28': 'Bottom Up',\n",
    "    u'2-F Bottom-Up HRA FIT': 'Bottom Up',\n",
    "    u'3-F Bottom-Up 3+1': 'Bottom Up',\n",
    "    u'2-F Bottom-Up 3+1': 'Bottom Up',\n",
    "    u'3-F Bottom-Up': 'Bottom Up',\n",
    "    'Housing / Jobs Crescent': 'Shift Approach', u'3-F Bottom-Up HRA boost': 'Bottom Up',\n",
    "    u'2-F Bottom-Up': 'Bottom Up', u'3-F Bottom-Up HRA w BP Fact.': 'Bottom Up',\n",
    "    u'Blueprint Scaled to RHND': 'Shift Approach',\n",
    "    '2-F HRA PBA Only': 'Bottom Up', '2-F HRA PBA Only 3+1': 'Bottom Up',\n",
    "    'Blueprint Factor Only': 'Shift Approach',\n",
    "    'HRA PBA Factors': 'Shift Approach', 'BP_scaled_RHND': 'Shift Approach',\n",
    "    '2-F Bottom-Up HRA-Fit-Bal 3+1': 'Bottom Up',\n",
    "    '2-F Bottom-Up HRA-Fit-Bal': 'Bottom Up',\n",
    "    'RHNA 2015-2023': 'RHNA 2015-2023',\n",
    "    'RHNA 2015-2023 Scaled to 2023-2031 RHND': 'RHNA 2015-2023 Scaled to 2023-2031 RHND'}"
   ]
  },
  {
   "cell_type": "code",
   "execution_count": 401,
   "metadata": {},
   "outputs": [
    {
     "data": {
      "text/html": [
       "<div>\n",
       "<style scoped>\n",
       "    .dataframe tbody tr th:only-of-type {\n",
       "        vertical-align: middle;\n",
       "    }\n",
       "\n",
       "    .dataframe tbody tr th {\n",
       "        vertical-align: top;\n",
       "    }\n",
       "\n",
       "    .dataframe thead th {\n",
       "        text-align: right;\n",
       "    }\n",
       "</style>\n",
       "<table border=\"1\" class=\"dataframe\">\n",
       "  <thead>\n",
       "    <tr style=\"text-align: right;\">\n",
       "      <th>approach</th>\n",
       "      <th>Option 7A: Balanced High Opportunity Areas &amp; Job Proximity</th>\n",
       "      <th>Option 8A: High Opportunity Areas Emphasis &amp; Job Proximity</th>\n",
       "    </tr>\n",
       "    <tr>\n",
       "      <th>Income Group</th>\n",
       "      <th></th>\n",
       "      <th></th>\n",
       "    </tr>\n",
       "  </thead>\n",
       "  <tbody>\n",
       "    <tr>\n",
       "      <th>LI</th>\n",
       "      <td>1.00</td>\n",
       "      <td>1.00</td>\n",
       "    </tr>\n",
       "    <tr>\n",
       "      <th>MOD</th>\n",
       "      <td>1.00</td>\n",
       "      <td>1.00</td>\n",
       "    </tr>\n",
       "    <tr>\n",
       "      <th>MOD+</th>\n",
       "      <td>1.00</td>\n",
       "      <td>1.00</td>\n",
       "    </tr>\n",
       "    <tr>\n",
       "      <th>VLI</th>\n",
       "      <td>1.00</td>\n",
       "      <td>1.00</td>\n",
       "    </tr>\n",
       "  </tbody>\n",
       "</table>\n",
       "</div>"
      ],
      "text/plain": [
       "approach      Option 7A: Balanced High Opportunity Areas & Job Proximity  \\\n",
       "Income Group                                                               \n",
       "LI                                                         1.00            \n",
       "MOD                                                        1.00            \n",
       "MOD+                                                       1.00            \n",
       "VLI                                                        1.00            \n",
       "\n",
       "approach      Option 8A: High Opportunity Areas Emphasis & Job Proximity  \n",
       "Income Group                                                              \n",
       "LI                                                         1.00           \n",
       "MOD                                                        1.00           \n",
       "MOD+                                                       1.00           \n",
       "VLI                                                        1.00           "
      ]
     },
     "execution_count": 401,
     "metadata": {},
     "output_type": "execute_result"
    }
   ],
   "source": [
    "# Check: Do they sum to 100% for each income group?\n",
    "\n",
    "factor_weight_df = pd.Series(approach_c_weights).apply(pd.Series).stack().apply(pd.Series).stack(\n",
    ").reset_index(name='value').rename(columns={'level_2': 'factor', 'level_1': 'Income Group'})\n",
    "factor_weight_df['approach'] = factor_weight_df.level_0.map(\n",
    "    approach_map_nicename)\n",
    "\n",
    "# check that the weights sum to 1 for each income group for each approach\n",
    "factor_weight_df.groupby(['approach', 'Income Group']).value.sum().unstack(0)"
   ]
  },
  {
   "cell_type": "markdown",
   "metadata": {},
   "source": [
    "## Run the RHNA allocation, with different baselines"
   ]
  },
  {
   "cell_type": "code",
   "execution_count": 402,
   "metadata": {},
   "outputs": [],
   "source": [
    "pd.options.display.float_format = '{:,.0f}'.format"
   ]
  },
  {
   "cell_type": "code",
   "execution_count": 403,
   "metadata": {},
   "outputs": [
    {
     "name": "stdout",
     "output_type": "stream",
     "text": [
      "2-F Bottom-Up HRA-Fit-Auto Sep 4\n",
      "2-F Bottom-Up HRA-Fit-Bal Sep 4\n"
     ]
    },
    {
     "data": {
      "text/html": [
       "<div>\n",
       "<style scoped>\n",
       "    .dataframe tbody tr th:only-of-type {\n",
       "        vertical-align: middle;\n",
       "    }\n",
       "\n",
       "    .dataframe tbody tr th {\n",
       "        vertical-align: top;\n",
       "    }\n",
       "\n",
       "    .dataframe thead th {\n",
       "        text-align: right;\n",
       "    }\n",
       "</style>\n",
       "<table border=\"1\" class=\"dataframe\">\n",
       "  <thead>\n",
       "    <tr style=\"text-align: right;\">\n",
       "      <th></th>\n",
       "      <th></th>\n",
       "      <th></th>\n",
       "      <th>baseline</th>\n",
       "      <th>bp_hh50_dr</th>\n",
       "      <th>bp_hh50_fnl</th>\n",
       "      <th>hh19</th>\n",
       "    </tr>\n",
       "    <tr>\n",
       "      <th>variant</th>\n",
       "      <th>county</th>\n",
       "      <th>juris</th>\n",
       "      <th>bayarea_ami</th>\n",
       "      <th></th>\n",
       "      <th></th>\n",
       "      <th></th>\n",
       "    </tr>\n",
       "  </thead>\n",
       "  <tbody>\n",
       "    <tr>\n",
       "      <th rowspan=\"5\" valign=\"top\">2-F Bottom-Up HRA-Fit-Auto Sep 4</th>\n",
       "      <th rowspan=\"5\" valign=\"top\">Alameda</th>\n",
       "      <th rowspan=\"4\" valign=\"top\">Alameda</th>\n",
       "      <th>VLI</th>\n",
       "      <td>1,252</td>\n",
       "      <td>1,378</td>\n",
       "      <td>1,433</td>\n",
       "    </tr>\n",
       "    <tr>\n",
       "      <th>LI</th>\n",
       "      <td>721</td>\n",
       "      <td>793</td>\n",
       "      <td>825</td>\n",
       "    </tr>\n",
       "    <tr>\n",
       "      <th>MOD</th>\n",
       "      <td>805</td>\n",
       "      <td>890</td>\n",
       "      <td>927</td>\n",
       "    </tr>\n",
       "    <tr>\n",
       "      <th>MOD+</th>\n",
       "      <td>2,083</td>\n",
       "      <td>2,301</td>\n",
       "      <td>2,398</td>\n",
       "    </tr>\n",
       "    <tr>\n",
       "      <th>Albany</th>\n",
       "      <th>VLI</th>\n",
       "      <td>306</td>\n",
       "      <td>297</td>\n",
       "      <td>351</td>\n",
       "    </tr>\n",
       "  </tbody>\n",
       "</table>\n",
       "</div>"
      ],
      "text/plain": [
       "baseline                                                      bp_hh50_dr  \\\n",
       "variant                          county  juris   bayarea_ami               \n",
       "2-F Bottom-Up HRA-Fit-Auto Sep 4 Alameda Alameda VLI               1,252   \n",
       "                                                 LI                  721   \n",
       "                                                 MOD                 805   \n",
       "                                                 MOD+              2,083   \n",
       "                                         Albany  VLI                 306   \n",
       "\n",
       "baseline                                                      bp_hh50_fnl  \\\n",
       "variant                          county  juris   bayarea_ami                \n",
       "2-F Bottom-Up HRA-Fit-Auto Sep 4 Alameda Alameda VLI                1,378   \n",
       "                                                 LI                   793   \n",
       "                                                 MOD                  890   \n",
       "                                                 MOD+               2,301   \n",
       "                                         Albany  VLI                  297   \n",
       "\n",
       "baseline                                                      hh19  \n",
       "variant                          county  juris   bayarea_ami        \n",
       "2-F Bottom-Up HRA-Fit-Auto Sep 4 Alameda Alameda VLI         1,433  \n",
       "                                                 LI            825  \n",
       "                                                 MOD           927  \n",
       "                                                 MOD+        2,398  \n",
       "                                         Albany  VLI           351  "
      ]
     },
     "execution_count": 403,
     "metadata": {},
     "output_type": "execute_result"
    }
   ],
   "source": [
    "opt_c_methods_basevariation={}\n",
    "\n",
    "\n",
    "for nme,dta in approach_c_weights.items():\n",
    "    print(nme)\n",
    "    for bsln in ['hh19','bp_hh50_dr','bp_hh50_fnl']:\n",
    "        nme2=nme.replace('/','_').replace(' ','_').replace('__','_').replace('_-_','_').replace('__','_')\n",
    "        RHNA_COMPARISON,RHNA_COMPARISON_combo=run_allocation_inc(\n",
    "                                                        factor_weights_income=dta,\n",
    "                                                        rhnd_income=RHND_INCOME,\n",
    "                                                        new_range_hi=1.5,\n",
    "                                                        new_range_low=.5,\n",
    "                                                        baseline=bsln,\n",
    "                                                        )\n",
    "\n",
    "        opt_c_methods_basevariation[(nme,bsln)]=RHNA_COMPARISON\n",
    "    \n",
    "opt_c_methods_out_bslnvariant=pd.concat(opt_c_methods_basevariation,names=['variant','baseline'])\n",
    "opt_c_methods_out_bslnvariant.index=opt_c_methods_out_bslnvariant.index.set_names('bayarea_ami',level=4)\n",
    "opt_c_methods_out_bslnvariant.sum(axis=1).unstack('baseline').head()"
   ]
  },
  {
   "cell_type": "markdown",
   "metadata": {},
   "source": [
    "#### Manually define variants for subsetting from all the variants run (approaches by baseline)\n",
    "The loop produces an allocation for each variant x baseline. We don't necessarily care for all the combinations - so we define a tuple with which to keep."
   ]
  },
  {
   "cell_type": "code",
   "execution_count": 404,
   "metadata": {},
   "outputs": [],
   "source": [
    "BASELINE = 'bp_hh50_fnl'\n",
    "OPTION8A = '2-F Bottom-Up HRA-Fit-Bal Sep 4'\n",
    "\n",
    "rhnd_income = RHND_INCOME\n",
    "factor_weights_income = approach_c_weights[OPTION8A]\n"
   ]
  },
  {
   "cell_type": "code",
   "execution_count": 405,
   "metadata": {},
   "outputs": [],
   "source": [
    "# Tuple with approach x baseline combinations to keep\n",
    "variant_c_keepers=[\n",
    "    ('2-F Bottom-Up HRA-Fit-Bal Sep 4','bp_hh50_fnl'),    \n",
    "    ('2-F Bottom-Up HRA-Fit-Bal Sep 4','bp_hh50_dr'),    \n",
    "        ]"
   ]
  },
  {
   "cell_type": "code",
   "execution_count": 406,
   "metadata": {},
   "outputs": [
    {
     "data": {
      "text/plain": [
       "approach                         baseline    county   juris    bayarea_ami\n",
       "2-F Bottom-Up HRA-Fit-Bal Sep 4  bp_hh50_dr  Alameda  Alameda  VLI           1,318\n",
       "                                                               LI              759\n",
       "                                                               MOD             786\n",
       "                                                               MOD+          2,033\n",
       "                                                      Albany   VLI             324\n",
       "Name: value, dtype: float64"
      ]
     },
     "execution_count": 406,
     "metadata": {},
     "output_type": "execute_result"
    }
   ],
   "source": [
    "# Filter approach C - get a Pandas Series, keyed on variant, baseline, county, juris, income\n",
    "\n",
    "opt_c_approach_keep = opt_c_methods_out_bslnvariant.sum(axis=1).unstack(\n",
    "    level=['variant', 'baseline']).loc(1)[pd.MultiIndex.from_tuples(variant_c_keepers)].stack(level=[0, 1])\n",
    "opt_c_approach_keep.index = opt_c_approach_keep.index.set_names(\n",
    "    ['county', 'juris', 'bayarea_ami', 'variant', 'baseline'])\n",
    "opt_c_approach_keep = opt_c_approach_keep.reorder_levels(\n",
    "    ['variant', 'baseline', 'county', 'juris', 'bayarea_ami'])\n",
    "\n",
    "allocation_plain = opt_c_approach_keep.copy()\n",
    "\n",
    "# set income group as factor variable for proper ordering, then add back to index\n",
    "allocation_plain = allocation_plain.reset_index('bayarea_ami', name='value')\n",
    "allocation_plain.bayarea_ami = allocation_plain.bayarea_ami.astype(\n",
    "    pd.CategoricalDtype(categories=income_cat_names, ordered=True))\n",
    "allocation_plain = allocation_plain.set_index(\n",
    "    'bayarea_ami', append=True).value.sort_index()\n",
    "\n",
    "allocation_plain.index = allocation_plain.index.set_names('approach', level=0)\n",
    "\n",
    "allocation_plain = allocation_plain.sort_index()\n",
    "allocation_plain.head()"
   ]
  },
  {
   "cell_type": "markdown",
   "metadata": {},
   "source": [
    "### Check allocation against regional totals / RHND\n",
    "\n",
    "Because of floating point precision used for factors and baseline, when rounding each city's allocation, a handful of units out of the 441k may be off relative to the RHND targets. This is a handful of units - we can't adjust this proportionately given the nature of the adjustment requiring a whole number. Instead, we select the city with the largest allocation, where it will all other things equal have the least impact. This city is San Francisco."
   ]
  },
  {
   "cell_type": "code",
   "execution_count": 408,
   "metadata": {},
   "outputs": [
    {
     "data": {
      "text/plain": [
       "county         juris        \n",
       "San Francisco  San Francisco   82,845\n",
       "Santa Clara    San Jose        62,761\n",
       "Alameda        Oakland         26,493\n",
       "Name: value, dtype: float64"
      ]
     },
     "execution_count": 408,
     "metadata": {},
     "output_type": "execute_result"
    }
   ],
   "source": [
    "allocation_plain.loc[OPTION8A,'bp_hh50_fnl'].sum(level=['county','juris']).sort_values(ascending=False).head(3)"
   ]
  },
  {
   "cell_type": "markdown",
   "metadata": {},
   "source": [
    "### Enforce regional controls"
   ]
  },
  {
   "cell_type": "code",
   "execution_count": 409,
   "metadata": {},
   "outputs": [
    {
     "data": {
      "text/plain": [
       "bayarea_ami\n",
       "VLI    0\n",
       "LI     0\n",
       "MOD    0\n",
       "MOD+   0\n",
       "dtype: float64"
      ]
     },
     "execution_count": 409,
     "metadata": {},
     "output_type": "execute_result"
    }
   ],
   "source": [
    "CORRECTION_CITY='San Francisco'\n",
    "\n",
    "POST_CORRECTION=allocation_plain.groupby(level=['approach','baseline','bayarea_ami'],observed=True).sum()-pd.Series(RHND_INCOME,index=pd.Index(income_cat_names,name='bayarea_ami'))\n",
    "tester=allocation_plain.copy()\n",
    "allocation_plain.update(allocation_plain.loc[:,:,[CORRECTION_CITY]].add(POST_CORRECTION*-1))\n",
    "\n",
    "\n",
    "allocation_plain.loc[OPTION8A,'bp_hh50_fnl'].reset_index().to_csv('/Users/aolsen/Box/Housing Needs Data Packets/sources/rhna_cycle6_opt8_bphh50.csv')\n",
    "\n",
    "allocation_plain.loc[OPTION8A,['bp_hh50_dr','bp_hh50_fnl']].sum(level=['baseline','county','juris']).unstack([0]).rename(columns=baseline_descriptive_names).stack().floordiv(10).mul(10).unstack(2).to_excel('/Users/aolsen/Box/RHNA/Analyses/baseline/RHNA_8A_w_different_baselines_rounded.xlsx')\n",
    "\n",
    "## did the adjustment work?\n",
    "ADJUSTMENT_CHECK=allocation_plain.loc[OPTION8A,'bp_hh50_fnl'].unstack(2).sum()-pd.Series(RHND_INCOME)\n",
    "ADJUSTMENT_CHECK.index=ADJUSTMENT_CHECK.index.set_names('bayarea_ami')\n",
    "ADJUSTMENT_CHECK"
   ]
  },
  {
   "cell_type": "markdown",
   "metadata": {},
   "source": [
    "#### Adjustment effect\n",
    "A reduction of four units for SF, with 3 fewer VLI, 6 fewer LI, 7 additional MOD, and 2 fewer MOD+"
   ]
  },
  {
   "cell_type": "code",
   "execution_count": 410,
   "metadata": {},
   "outputs": [
    {
     "name": "stdout",
     "output_type": "stream",
     "text": [
      "approach                         baseline     county         juris          bayarea_ami\n",
      "2-F Bottom-Up HRA-Fit-Bal Sep 4  bp_hh50_fnl  San Francisco  San Francisco  VLI           -3\n",
      "                                                                            LI            -6\n",
      "                                                                            MOD            7\n",
      "                                                                            MOD+          -2\n",
      "dtype: float64\n",
      "Net effect:  -4.0\n"
     ]
    }
   ],
   "source": [
    "adj_diff = (allocation_plain.loc[[OPTION8A], [\n",
    "            'bp_hh50_fnl']]-opt_c_approach_keep.loc[[OPTION8A], ['bp_hh50_fnl']])\n",
    "print(adj_diff[adj_diff != 0])\n",
    "\n",
    "print('Net effect: ', adj_diff[adj_diff != 0].sum())"
   ]
  },
  {
   "cell_type": "markdown",
   "metadata": {},
   "source": [
    "## Equity Adjustment\n",
    "\n",
    "The Housing Methodology Committee came up with a list of 49 jurisdictions that are both more segregated and higher income than the average. The equity adjustment then looks at the two low income groups and sets a floor that is proportional to the city's share of regional households in 2020. If the city has 1.6 percent of the region's households, it will get 1.6 percent of the region's low income RHNA as well. See this Executive Board [appendix](http://mtc.legistar.com/gateway.aspx?M=F&ID=7bcacfc3-77ec-47a7-b224-68256428029a.pdf) for more information on the effects of this adjustment. Overall - just below 3,100 units (0.7%), out of 441,700, are shifted."
   ]
  },
  {
   "cell_type": "code",
   "execution_count": 411,
   "metadata": {},
   "outputs": [
    {
     "data": {
      "text/plain": [
       "Index(['Menlo Park', 'Pleasanton', 'Sunnyvale', 'Belmont', 'Dublin',\n",
       "       'Livermore', 'Millbrae', 'Pleasant Hill', 'Foster City', 'San Ramon',\n",
       "       'Palo Alto', 'Hillsborough', 'Half Moon Bay', 'Hercules', 'San Carlos',\n",
       "       'Los Altos', 'Los Altos Hills', 'Moraga', 'Los Gatos', 'Union City',\n",
       "       'Fremont', 'Atherton', 'Orinda', 'Windsor', 'Saratoga', 'Daly City',\n",
       "       'Lafayette', 'Piedmont', 'Monte Sereno', 'Clayton', 'Danville',\n",
       "       'Gilroy', 'St. Helena', 'Healdsburg', 'Corte Madera', 'Woodside',\n",
       "       'Portola Valley', 'Milpitas', 'Larkspur', 'Fairfax', 'Cupertino',\n",
       "       'Tiburon', 'Mill Valley', 'Sausalito', 'San Anselmo', 'Ross',\n",
       "       'Belvedere', 'Unincorporated Marin', 'Unincorporated Napa'],\n",
       "      dtype='object', name='juris')"
      ]
     },
     "execution_count": 411,
     "metadata": {},
     "output_type": "execute_result"
    }
   ],
   "source": [
    "affh_advocate_list=pd.read_excel('data/AFFH Eval Criteria Proposal Data w uninc.xlsx','Data w uninc',skipfooter=1).set_index(['county','Jurisdiction'])\n",
    "\n",
    "affh_advocate_list['advocate_class']=affh_advocate_list['Proposed Equity-Oriented Approach '].map({'NO':'Other jurisdictions','YES':'Jurisdictions with above-average divergence scores\\nand % of households above 120% Area Median Income'})\n",
    "\n",
    "affh_advocate_list.index=affh_advocate_list.index.set_names('juris',level=1)\n",
    "affh_advocate_list=affh_advocate_list.advocate_class\n",
    "affh_advocate_list=affh_advocate_list.replace('Jurisdictions with above-average divergence scores\\nand % of households above 120% Area Median Income',\n",
    "                          'Jurisdictions identified by HMC-proposed composite score for divergence index and % of households above 120% Area Median Income')\n",
    "exclusionary_cities=affh_advocate_list[affh_advocate_list!='Other jurisdictions'].index.get_level_values(1)\n",
    "exclusionary_cities"
   ]
  },
  {
   "cell_type": "code",
   "execution_count": 426,
   "metadata": {},
   "outputs": [],
   "source": [
    "# # These dictionaries are used for preparing the city classifications data\n",
    "\n",
    "# measure_expansion_map = {'Measure 1a': ['Measure 1a.1', 'Measure 1a.2'],\n",
    "#                          'Measure 3a': ['Measure 3a.1', 'Measure 3a.2'],\n",
    "#                          'Measure 5a': ['Measure 5a.1', 'Measure 5a.2'],\n",
    "#                          # 'Measure 5b':['Measure 5b.1'],#,'Measure 5d.1'],\n",
    "#                          }\n",
    "\n",
    "# measure_to_col_map = {'Measure 1a': 'Measure 1a Lower Income RHNA in High Cost Areas',\n",
    "#                       'Measure 3a': 'Measure 3a Lower Income RHNA in Jobs-Housing Fit Imbalanced Areas',\n",
    "#                       'Measure 5a': 'Measure 5a Lower Income RHNA in High Opportunity Areas',\n",
    "#                       'Measure 5b': u'Measure 5b Household Growth in High Divergence Score Areas with High-Income Households'\n",
    "#                       }"
   ]
  },
  {
   "cell_type": "code",
   "execution_count": 427,
   "metadata": {},
   "outputs": [],
   "source": [
    "# load jurisdiction level classification variables - used for performance measures as well\n",
    "\n",
    "measures_cat = pd.read_excel(\n",
    "    'data/juris_measure_classification_binned_topversion_v2.xlsx').set_index(['county', 'juris'])\n",
    "\n",
    "#print(measures_cat.head())\n",
    "# for each of these cols that also have the proportionality measure, create a duplicate column for the city classification\n",
    "# for that measure - this is a hack, but kosher since the classification is the same for 1a.1 and 1a.2 etc\n",
    "\n",
    "# to_drop_cols_cat = []\n",
    "# for k1, v1 in measure_expansion_map.items():\n",
    "#     for vx in v1:\n",
    "#         new_dupe_name = measure_to_col_map[k1].replace(k1, vx)\n",
    "#         # add dupe classification column\n",
    "#         measures_cat[new_dupe_name] = measures_cat[measure_to_col_map[k1]]\n",
    "#         to_drop_cols_cat.append(measure_to_col_map[k1])\n",
    "# measures_cat = measures_cat.drop(labels=to_drop_cols_cat, axis=1)"
   ]
  },
  {
   "cell_type": "code",
   "execution_count": 428,
   "metadata": {},
   "outputs": [],
   "source": [
    "# add alt segregation city list from HMC members\n",
    "measures_cat['Measure 5d.1 Comparison between the top 49 jurisdictions exhibiting above average racial and socioeconomic exclusion and the rest of the region'] =\\\n",
    "    measures_cat.index.get_level_values(1).map(\n",
    "        affh_advocate_list.reset_index(0, drop=True))\n",
    "\n",
    "measures_cat['Measure 5d.2 Comparison between the top 49 jurisdictions exhibiting above average racial and socioeconomic exclusion and the rest of the region'] =\\\n",
    "    measures_cat.index.get_level_values(1).map(\n",
    "        affh_advocate_list.reset_index(0, drop=True))"
   ]
  },
  {
   "cell_type": "code",
   "execution_count": 429,
   "metadata": {},
   "outputs": [],
   "source": [
    "# name of classification var for the exclusive cities\n",
    "EXCLUSION_JURIS_VAR = u'Measure 5d.2 Comparison between the top 49 jurisdictions exhibiting above average racial and socioeconomic exclusion and the rest of the region'\n",
    "\n",
    "allocation_perf_cat = allocation_plain.to_frame(\n",
    "    name='units').join(measures_cat).reset_index()"
   ]
  },
  {
   "cell_type": "markdown",
   "metadata": {},
   "source": [
    "### Define and run the adjustment"
   ]
  },
  {
   "cell_type": "code",
   "execution_count": 440,
   "metadata": {},
   "outputs": [],
   "source": [
    "def equity_adjustment(use_2020_hh=True):\n",
    "    \"\"\"Adjusts low income allocations (VLI+LI) if those allocations are less than proportional to \n",
    "    2020 household share of regional households.\"\"\"\n",
    "\n",
    "    perf_measures = {}\n",
    "\n",
    "    # pick the households reference data for use in checking proportionality - default is 2020\n",
    "    if use_2020_hh:\n",
    "        juris_baseyear_households = dof_2020_hh\n",
    "    else:\n",
    "        juris_baseyear_households = dof_2019_hh\n",
    "\n",
    "    allocation_perf_cat = allocation_plain.to_frame(\n",
    "        name='units').join(measures_cat).reset_index()\n",
    "\n",
    "    allocation_perf_cat['major_bins'] = allocation_perf_cat.bayarea_ami.map(\n",
    "        major_groups)\n",
    "    allocation_perf_cat['approach2'] = allocation_perf_cat['approach'] = allocation_perf_cat.approach + \\\n",
    "        '\\n'+allocation_perf_cat.baseline\n",
    "\n",
    "    #####################################################################\n",
    "    # aug 31 HMC equity measure - VLI+LI proportional to household share\n",
    "    #####################################################################\n",
    "\n",
    "    # count of INDIDVIDUAL jurisdictions that are proportional\n",
    "    CITY_CAT = 'Measure 5d.2 Comparison between the top 49 jurisdictions exhibiting above average racial and socioeconomic exclusion and the rest of the region'\n",
    "\n",
    "    units_6_grouped = allocation_perf_cat[allocation_perf_cat.major_bins == 'Lower'].groupby(['county', 'juris', 'approach']).units.sum().to_frame(name='units')\\\n",
    "        .join(measures_cat[CITY_CAT]).set_index(CITY_CAT, append=True).units\n",
    "\n",
    "    # juris level lq\n",
    "    # numerator is 2 low income groups for a city as share of region\n",
    "    measure_6_lq_numerator = (\n",
    "        units_6_grouped/units_6_grouped.sum(level='approach'))\n",
    "\n",
    "    # denominator is juris share of regional households\n",
    "    measure_6_lq_denominator = (juris_baseyear_households.to_frame(name='units').join(\n",
    "        measures_cat[CITY_CAT]).groupby(['juris', CITY_CAT]).sum().units/juris_baseyear_households.sum())\n",
    "\n",
    "    # then, the location quotient compares the percent VLI+LI/sum(VLI+LI) with households/sum(households)\n",
    "    measure_6_juris_lq = (measure_6_lq_numerator /\n",
    "                          measure_6_lq_denominator).reset_index()\n",
    "    measure_6_proportional = measure_6_lq_denominator * \\\n",
    "        (pd.Series(RHND_INCOME).loc[['LI', 'VLI']].sum())\n",
    "\n",
    "    # Check: Is juris level lq above 1 (at least proportional?\n",
    "    measure_6_juris_lq['above_1'] = measure_6_juris_lq.units > .99\n",
    "\n",
    "    # Then, count the share of above-1 jurisdictions by city grouping\n",
    "    measure_6_juris_proportionality = measure_6_juris_lq.groupby(\n",
    "        [CITY_CAT, 'approach', 'above_1']).size().groupby(level=[CITY_CAT, 'approach']).apply(pct)\n",
    "    measure_6_juris_proportionality = measure_6_juris_proportionality.swaplevel(\n",
    "        0, 1).loc[:, :, True]\n",
    "    perf_measures[CITY_CAT] = measure_6_juris_proportionality\n",
    "\n",
    "    ###################################################################################################\n",
    "    # Calculate 'deficit' in units - jurisdiction-level units below perfect proportionality\n",
    "    ###################################################################################################\n",
    "\n",
    "    #measure_6_units = (measure_6_lq_numerator *\n",
    "    #                   pd.Series(RHND_INCOME).loc[['LI', 'VLI']].sum())\n",
    "\n",
    "    ## simpler \n",
    "    measure_6_units = units_6_grouped.copy()\n",
    "    \n",
    "    approach_unit_deficit = (measure_6_units.subtract(measure_6_proportional)).sum(level=['juris', 'approach',\n",
    "                                                                                          EXCLUSION_JURIS_VAR]).reset_index()\n",
    "    approach_unit_deficit['variant'] = approach_unit_deficit.approach.str.split(\n",
    "        '\\n').apply(lambda x: x[0]).map(approach_map_nicename)\n",
    "    \n",
    "    approach_unit_deficit = approach_unit_deficit.loc[(approach_unit_deficit.variant.notna()) & (\n",
    "        approach_unit_deficit.variant != 'Baseline Allocation')]\n",
    "\n",
    "    # round units to reallocate to integers\n",
    "    approach_unit_deficit.units = approach_unit_deficit.units.map(np.ceil)\n",
    "\n",
    "    #####################################################################################################\n",
    "    ## Do the actual adjustment                                                                         #\n",
    "    # 1. start with frame for adjustment - juris level allocation, just VLI, LI, grouped into 49 and rest\n",
    "    #####################################################################################################\n",
    "\n",
    "    allocation_LI_for_adjustment = allocation_perf_cat.groupby(\n",
    "        ['major_bins', 'juris', 'approach', EXCLUSION_JURIS_VAR]).units.sum().loc['Lower']\n",
    "\n",
    "    # 2. how many VLI/LI units to be moved across the fence, from the remainder cities to the deficit ones?\n",
    "    \n",
    "    # jurisdiction level deficit\n",
    "    juris_deficit = approach_unit_deficit[approach_unit_deficit.units < 0].set_index(\n",
    "        ['juris', 'approach', EXCLUSION_JURIS_VAR]).units\n",
    "\n",
    "    # sum to a total\n",
    "    total_deficit = juris_deficit.groupby(\n",
    "        level=['approach', EXCLUSION_JURIS_VAR]).sum()\n",
    "\n",
    "    # 2a. Get the deficit from the group of 49 more exclusive jurisdictions\n",
    "    total_deficit_from = total_deficit.loc[:,\n",
    "                                           'Jurisdictions identified by HMC-proposed composite score for divergence index and % of households above 120% Area Median Income']\n",
    "\n",
    "    # 2b. Get the share of VLI+LI shares from the remainder (sender) jurisdictions\n",
    "    juris_vli_li_allocation_controlgroup = (allocation_LI_for_adjustment\n",
    "                                            .loc[:, :, 'Other jurisdictions']\n",
    "                                            .sum(level=['juris', 'approach']))\n",
    "    \n",
    "    juris_vli_li_allocation_controlgroup_share = juris_vli_li_allocation_controlgroup / \\\n",
    "        juris_vli_li_allocation_controlgroup.sum(level='approach')\n",
    "\n",
    "    # flip the series sign: the deficit jurisdictions in the segregated group \n",
    "    # needs that exact deficit added to reach proportionality\n",
    "\n",
    "    juris_deficit *= -1\n",
    "    \n",
    "    # these deficits are to be taken from the non-49 ('control group') group of cities.\n",
    "    # We take them in proportion to those cities' respective share of VLI+LI units\n",
    "\n",
    "    # 3 multiply the deficit with the share vli+li from the control group jurisdiction list\n",
    "    adjustment_control_group = (\n",
    "        total_deficit_from * juris_vli_li_allocation_controlgroup_share)\n",
    "\n",
    "    # 4a: result - control group\n",
    "    alloc_control = allocation_LI_for_adjustment.add(\n",
    "        adjustment_control_group, fill_value=0).loc[:, :, 'Other jurisdictions']\n",
    "\n",
    "    # 4b: result - case group (49 jurisdictions)\n",
    "    alloc_case = allocation_LI_for_adjustment.add(\n",
    "        juris_deficit, fill_value=0).loc[:, :, 'Jurisdictions identified by HMC-proposed composite score for divergence index and % of households above 120% Area Median Income']\n",
    "\n",
    "    # put the two series together - case and control, to get the full 109 jurisdictions\n",
    "    alloc_both = pd.concat([alloc_case, alloc_control])\n",
    "\n",
    "    # 5: Disaggregate adjusted frame (in two lower bins combined) using existing allocation shares\n",
    "    # TODO: Consider refactoring this. This bit works as long as we use factors to allocate two\n",
    "    # bottom bins together (which was the case with the HMC proposal) - otherwise they might not\n",
    "    # be proportional and weird things could happen\n",
    "\n",
    "    within_bin_shares = (allocation_perf_cat[allocation_perf_cat\n",
    "                                             .major_bins == 'Lower']\n",
    "                         .groupby(['juris', 'approach', 'major_bins', 'bayarea_ami'])\n",
    "                         .units.sum(\n",
    "                         ).groupby(level=['approach', 'juris', 'major_bins'])\n",
    "                         .apply(pct))\n",
    "\n",
    "    alloc_both_disagg = alloc_both.mul(within_bin_shares, axis=0).reset_index()\n",
    "\n",
    "    alloc_both_disagg = (alloc_both_disagg\n",
    "                         .drop(labels=['approach'], axis=1)\n",
    "                         .join(alloc_both_disagg.approach.str.split('\\n').apply(pd.Series, index=['approach', 'baseline']))\n",
    "                        )\n",
    "\n",
    "    alloc_both_disagg['county'] = alloc_both_disagg.juris.map(\n",
    "        jurisdictions.set_index('juris').county)\n",
    "    alloc_both_disagg = alloc_both_disagg.set_index(\n",
    "        allocation_plain.index.names).units\n",
    "\n",
    "    # copy the original combined allocation frame and update with the equity adjustments\n",
    "    allocation_equity_adj = allocation_plain.copy()\n",
    "    allocation_equity_adj.update(alloc_both_disagg)\n",
    "\n",
    "    return allocation_equity_adj.round(0).astype(np.int64)"
   ]
  },
  {
   "cell_type": "code",
   "execution_count": 442,
   "metadata": {},
   "outputs": [
    {
     "data": {
      "text/plain": [
       "approach                         baseline     county   juris                  bayarea_ami\n",
       "2-F Bottom-Up HRA-Fit-Bal Sep 4  bp_hh50_dr   Alameda  Alameda                VLI            1289\n",
       "                                                                              LI              742\n",
       "                                                                              MOD             786\n",
       "                                                                              MOD+           2033\n",
       "                                                       Albany                 VLI             317\n",
       "                                                                                             ... \n",
       "                                 bp_hh50_fnl  Sonoma   Unincorporated Sonoma  MOD+           1622\n",
       "                                                       Windsor                VLI             384\n",
       "                                                                              LI              222\n",
       "                                                                              MOD             108\n",
       "                                                                              MOD+            279\n",
       "Name: value, Length: 872, dtype: int64"
      ]
     },
     "execution_count": 442,
     "metadata": {},
     "output_type": "execute_result"
    }
   ],
   "source": [
    "# call the equity adjustment function\n",
    "\n",
    "allocation_equity_adj = equity_adjustment(use_2020_hh=True)\n",
    "allocation_equity_adj"
   ]
  },
  {
   "cell_type": "markdown",
   "metadata": {},
   "source": [
    "### Enforce regional controls - equity adjusted file"
   ]
  },
  {
   "cell_type": "code",
   "execution_count": 443,
   "metadata": {},
   "outputs": [
    {
     "data": {
      "text/plain": [
       "bayarea_ami\n",
       "VLI     0\n",
       "LI      0\n",
       "MOD     0\n",
       "MOD+    0\n",
       "dtype: int64"
      ]
     },
     "execution_count": 443,
     "metadata": {},
     "output_type": "execute_result"
    }
   ],
   "source": [
    "# collapse to regional totals - check against RHND income numbers\n",
    "# set city with largest allocation as adjustment city\n",
    "CORRECTION_CITY = 'San Francisco'\n",
    "\n",
    "POST_CORRECTION = allocation_equity_adj.groupby(level=['approach', 'baseline', 'bayarea_ami'], observed=True).sum(\n",
    ")-pd.Series(RHND_INCOME, index=pd.Index(income_cat_names, name='bayarea_ami'))\n",
    "tester = allocation_equity_adj.copy()\n",
    "allocation_equity_adj.update(allocation_equity_adj.loc[:, :, [\n",
    "                             CORRECTION_CITY]].add(POST_CORRECTION*-1))\n",
    "\n",
    "allocation_equity_adj.loc[OPTION8A, ['bp_hh50_dr', 'bp_hh50_fnl']].sum(level=['baseline', 'county', 'juris']).unstack([0]).rename(\n",
    "    columns=baseline_descriptive_names).stack().floordiv(10).mul(10).unstack(2).to_excel('/Users/aolsen/Box/RHNA/Analyses/baseline/RHNA_8A_w_different_baselines_rounded.xlsx')\n",
    "\n",
    "# did the adjustment work?\n",
    "ADJUSTMENT_CHECK = allocation_equity_adj.loc[OPTION8A, 'bp_hh50_fnl'].unstack(\n",
    "    2).sum()-pd.Series(RHND_INCOME)\n",
    "ADJUSTMENT_CHECK.index = ADJUSTMENT_CHECK.index.set_names('bayarea_ami')\n",
    "ADJUSTMENT_CHECK"
   ]
  },
  {
   "cell_type": "code",
   "execution_count": 444,
   "metadata": {},
   "outputs": [],
   "source": [
    "# gillian_full=pd.read_excel('/Users/aolsen/Box/RHNA/Post-HMC work/2021 - 01 - 21 ExecBd/EB 20210121 Item 11b 2a - Appendix 2 - Illustrative Allocations v2 - GA-AOv2 - GA.xlsx','Sheet5',index_col=[0,1],header=[0,1,2])\n",
    "# gillian_unadj=gillian_full[(\"Step 2: Compare Jurisdiction's Lower-Income Allocation from Factors/Weights to Lower-Income Allocation Needed to be Proportional to Jurisdiction's Share of 2020 Households\",\"Unmodified Allocation from Factors/Weights\")].filter(regex='^Low|^Very')\n",
    "# gillian_unadj=gillian_unadj.reset_index()\n",
    "# gillian_unadj\n",
    "\n",
    "# #gillian_unadj.columns = ['total','VLI','LI']#gillian_unadj.columns.get_level_values(0)\n",
    "\n",
    "# gillian_unadj.columns=['county','juris']+ ['VLI','LI']\n",
    "# gillian_unadj=gillian_unadj[gillian_unadj.VLI.notna()]\n",
    "# gillian_unadj.juris=gillian_unadj.juris.str.replace('*','').str.replace('\\d','')\n",
    "# gillian_unadj\n",
    "\n",
    "# gillian_unadj_v=gillian.set_index(['county','juris'])[['VLI','LI']].stack()\n",
    "# gillian_unadj_v.index=gillian_unadj_v.index.set_names('bayarea_ami',2)\n"
   ]
  },
  {
   "cell_type": "code",
   "execution_count": 445,
   "metadata": {},
   "outputs": [],
   "source": [
    "# ## load methodology report version\n",
    "# gillian = pd.read_excel('/Users/aolsen/Box/RHNA/Reports/RHNA Methodology Report/Draft Methodology Report/Draft Methodology Report - February 2021/Methodology Report Tables - with eq adj.xlsx','APP 3 Equity Adjustment',index_col=[0,1],header=[0,1,2])\n",
    "# gillian_full=pd.read_excel('/Users/aolsen/Box/RHNA/Post-HMC work/2021 - 01 - 21 ExecBd/EB 20210121 Item 11b 2a - Appendix 2 - Illustrative Allocations v2 - GA-AOv2 - GA.xlsx','Sheet5',index_col=[0,1],header=[0,1,2])\n",
    "# #gillian=gillian['Step 3: Identify Change in Units by Income Category2']\n",
    "# gillian=gillian_full['Step 4: Final Very Low- and Low-Income Allocations','Beginning Allocation Plus Equity Adjustment']\n",
    "# gillian=gillian.reset_index()\n",
    "\n",
    "# #gillian.columns = ['total','VLI','LI']#gillian.columns.get_level_values(0)\n",
    "\n",
    "# gillian.columns=['county','juris']+ ['VLI','LI']\n",
    "# gillian=gillian[gillian.VLI.notna()]\n",
    "# gillian.juris=gillian.juris.str.replace('*','').str.replace('\\d','')"
   ]
  },
  {
   "cell_type": "code",
   "execution_count": 446,
   "metadata": {},
   "outputs": [],
   "source": [
    "# gillian_v=gillian.set_index(['county','juris'])[['VLI','LI']].stack()\n",
    "# gillian_v.index=gillian_v.index.set_names('bayarea_ami',2)\n"
   ]
  },
  {
   "cell_type": "code",
   "execution_count": 447,
   "metadata": {},
   "outputs": [],
   "source": [
    "# pd.options.display.float_format = '{:,.1f}'.format\n",
    "# excel_v_python=pd.concat([allocation_equity_adj.loc[[OPTION8A],\n",
    "#                    'bp_hh50_fnl',:,:,['VLI','LI']].reset_index([0,1],drop=True),\n",
    "#            gillian_v],keys=['python','excel'],names=['version'],axis=1).diff(axis=1).excel\n",
    "# excel_v_python[excel_v_python!=0]\n"
   ]
  },
  {
   "cell_type": "code",
   "execution_count": 448,
   "metadata": {},
   "outputs": [],
   "source": [
    "pd.options.display.float_format = '{:,.1f}'.format\n",
    "allocation_equity_adj.loc[[OPTION8A],\n",
    "                   'bp_hh50_fnl'].reset_index([0,1],drop=True).unstack(2).to_clipboard()"
   ]
  },
  {
   "cell_type": "code",
   "execution_count": 449,
   "metadata": {},
   "outputs": [
    {
     "data": {
      "text/html": [
       "<div>\n",
       "<style scoped>\n",
       "    .dataframe tbody tr th:only-of-type {\n",
       "        vertical-align: middle;\n",
       "    }\n",
       "\n",
       "    .dataframe tbody tr th {\n",
       "        vertical-align: top;\n",
       "    }\n",
       "\n",
       "    .dataframe thead th {\n",
       "        text-align: right;\n",
       "    }\n",
       "</style>\n",
       "<table border=\"1\" class=\"dataframe\">\n",
       "  <thead>\n",
       "    <tr style=\"text-align: right;\">\n",
       "      <th></th>\n",
       "      <th>bayarea_ami</th>\n",
       "      <th>VLI</th>\n",
       "      <th>LI</th>\n",
       "    </tr>\n",
       "    <tr>\n",
       "      <th>county</th>\n",
       "      <th>juris</th>\n",
       "      <th></th>\n",
       "      <th></th>\n",
       "    </tr>\n",
       "  </thead>\n",
       "  <tbody>\n",
       "    <tr>\n",
       "      <th>San Mateo</th>\n",
       "      <th>Atherton</th>\n",
       "      <td>94.0</td>\n",
       "      <td>54.0</td>\n",
       "    </tr>\n",
       "  </tbody>\n",
       "</table>\n",
       "</div>"
      ],
      "text/plain": [
       "bayarea_ami         VLI   LI\n",
       "county    juris             \n",
       "San Mateo Atherton 94.0 54.0"
      ]
     },
     "execution_count": 449,
     "metadata": {},
     "output_type": "execute_result"
    }
   ],
   "source": [
    "gillian_v.unstack(2).loc(0)[:,'Atherton']"
   ]
  },
  {
   "cell_type": "code",
   "execution_count": 450,
   "metadata": {},
   "outputs": [
    {
     "data": {
      "text/plain": [
       "county       juris \n",
       "Santa Clara  Gilroy   488.0\n",
       "dtype: float64"
      ]
     },
     "execution_count": 450,
     "metadata": {},
     "output_type": "execute_result"
    }
   ],
   "source": [
    "(allocation_equity_adj.loc[[OPTION8A],\n",
    "                   'bp_hh50_fnl'].reset_index([0,1],drop=True).unstack(2).loc(0)[:,'Gilroy']-allocation_plain.loc[[OPTION8A],\n",
    "                   'bp_hh50_fnl'].reset_index([0,1],drop=True).unstack(2).loc(0)[:,'Gilroy']).sum(axis=1)"
   ]
  },
  {
   "cell_type": "code",
   "execution_count": 259,
   "metadata": {},
   "outputs": [
    {
     "name": "stdout",
     "output_type": "stream",
     "text": [
      "approach                         baseline     county         juris          bayarea_ami\n",
      "2-F Bottom-Up HRA-Fit-Bal Sep 4  bp_hh50_fnl  San Francisco  San Francisco  VLI           -1\n",
      "                                                                            LI             2\n",
      "Name: value, dtype: int64\n",
      "Net effect:  1\n"
     ]
    }
   ],
   "source": [
    "# See effect of adjustment\n",
    "adj_diff_equity = (allocation_equity_adj.loc[[OPTION8A], [\n",
    "                   'bp_hh50_fnl']]-tester.loc[[OPTION8A], ['bp_hh50_fnl']])\n",
    "print(adj_diff_equity[adj_diff_equity != 0])\n",
    "\n",
    "print('Net effect: ', adj_diff_equity[adj_diff_equity != 0].sum())"
   ]
  },
  {
   "cell_type": "markdown",
   "metadata": {},
   "source": [
    "#### Combine allocation with and without equity adjustment in one frame\n",
    "Combines draft and final blueprint baselines, with and without equity adjustment"
   ]
  },
  {
   "cell_type": "code",
   "execution_count": 313,
   "metadata": {},
   "outputs": [],
   "source": [
    "#### Combine allocation with and without equity adjustment in one frame\n",
    "\n",
    "pd.options.display.float_format = '{:,.0f}'.format\n",
    "allocation_plain_and_adjusted = pd.concat([allocation_equity_adj,\n",
    "                                           allocation_plain],\n",
    "                                          keys=['Allocation With Equity Adjustment',\n",
    "                                                'Unmodified Allocation'],\n",
    "                                          names=['equity_adjustment'])  # .reset_index()\n",
    "allocation_plain_and_adjusted.loc[:, OPTION8A].unstack([0, 1])"
   ]
  },
  {
   "cell_type": "code",
   "execution_count": 321,
   "metadata": {},
   "outputs": [],
   "source": [
    "(allocation_equity_adj-allocation_plain).loc[OPTION8A,'bp_hh50_fnl'].unstack(2).to_clipboard()"
   ]
  },
  {
   "cell_type": "markdown",
   "metadata": {},
   "source": [
    "### Run a few summaries"
   ]
  },
  {
   "cell_type": "code",
   "execution_count": 54,
   "metadata": {},
   "outputs": [
    {
     "data": {
      "text/plain": [
       "<AxesSubplot:ylabel='county'>"
      ]
     },
     "execution_count": 54,
     "metadata": {},
     "output_type": "execute_result"
    },
    {
     "data": {
      "image/png": "[encoded data removed]",
      "text/plain": [
       "<Figure size 864x504 with 1 Axes>"
      ]
     },
     "metadata": {},
     "output_type": "display_data"
    }
   ],
   "source": [
    "pd.concat([\n",
    "    (allocation_plain.loc[OPTION8A, 'bp_hh50_fnl'].sum(level='county')/allocation_plain.loc[OPTION8A, 'bp_hh50_fnl'].sum(level='county').sum()),\n",
    "all_baselines.join(jurisdictions.set_index('juris').county).set_index('county', append=True).sum(level='county')],keys=['RHNA','Baselines'],axis=1).rename(columns={'value':'RHNA_SHARE'}).plot(kind='barh')"
   ]
  },
  {
   "cell_type": "code",
   "execution_count": 83,
   "metadata": {},
   "outputs": [
    {
     "data": {
      "text/plain": [
       "Text(0.5, 1.0, 'RHNA Cylce 6')"
      ]
     },
     "execution_count": 83,
     "metadata": {},
     "output_type": "execute_result"
    },
    {
     "data": {
      "image/png": "[encoded data removed]",
      "text/plain": [
       "<Figure size 864x504 with 1 Axes>"
      ]
     },
     "metadata": {},
     "output_type": "display_data"
    }
   ],
   "source": [
    "allocation_plain.loc[OPTION8A, 'bp_hh50_fnl'].sum(\n",
    "    level=0).sort_values().plot(kind='barh')\n",
    "title('RHNA Cylce 6')"
   ]
  },
  {
   "cell_type": "markdown",
   "metadata": {},
   "source": [
    "#### Allocation location quotients (relative to 2019 hhs)"
   ]
  },
  {
   "cell_type": "code",
   "execution_count": 56,
   "metadata": {},
   "outputs": [
    {
     "data": {
      "text/plain": [
       "Text(0.5, 1.0, 'RHNA location quotient (allocation share relative to household share)\\nRHNA Cycles 5 and 6')"
      ]
     },
     "execution_count": 56,
     "metadata": {},
     "output_type": "execute_result"
    },
    {
     "data": {
      "image/png": "[encoded data removed]",
      "text/plain": [
       "<Figure size 576x360 with 1 Axes>"
      ]
     },
     "metadata": {},
     "output_type": "display_data"
    }
   ],
   "source": [
    "rhna_2023_2031_lq = allocation_plain.loc[OPTION8A, 'bp_hh50_fnl'].sum(level=['county'])/allocation_plain.loc[OPTION8A, 'bp_hh50_fnl'].sum(level=['county']).sum() /\\\n",
    "    (rhna_2014_2022_cnty_juris.to_frame().join(dof_2019_hh).sum(level=0)[\n",
    "     'U Occupied']/rhna_2014_2022_cnty_juris.to_frame().join(dof_2019_hh).sum(level=0)['U Occupied'].sum())\n",
    "\n",
    "# county level location quotient (lq)\n",
    "\n",
    "rhna_2014_2022_lq = (rhna_2014_2022_cnty_juris.sum(level=0)/rhna_2014_2022_cnty_juris.sum(level=0).sum()) /\\\n",
    "    (rhna_2014_2022_cnty_juris.to_frame().join(dof_2019_hh).sum(level=0)[\n",
    "     'U Occupied']/rhna_2014_2022_cnty_juris.to_frame().join(dof_2019_hh).sum(level=0)['U Occupied'].sum())\n",
    "pd.concat([rhna_2014_2022_lq, rhna_2023_2031_lq], keys=[\n",
    "          'Cycle 5', 'Cycle 6']).unstack(0).plot(kind='bar', figsize=[8, 5])\n",
    "title('RHNA location quotient (allocation share relative to household share)\\nRHNA Cycles 5 and 6')"
   ]
  },
  {
   "cell_type": "markdown",
   "metadata": {},
   "source": [
    "#### How concentrated is the concentration at the top?"
   ]
  },
  {
   "cell_type": "code",
   "execution_count": 57,
   "metadata": {},
   "outputs": [
    {
     "data": {
      "text/plain": [
       "approach                         baseline   \n",
       "2-F Bottom-Up HRA-Fit-Bal Sep 4  bp_hh50_fnl   172,095\n",
       "Name: value, dtype: float64"
      ]
     },
     "execution_count": 57,
     "metadata": {},
     "output_type": "execute_result"
    }
   ],
   "source": [
    "allocation_plain.loc[OPTION8A, ['bp_hh50_fnl'], :, ['San Francisco', 'Oakland', 'San Jose']].sum(level=['approach', 'baseline'])\\\n",
    "    / allocation_plain.loc[OPTION8A, ['bp_hh50_fnl']].sum(level=['approach', 'baseline'])\n",
    "\n",
    "allocation_plain.loc[OPTION8A, ['bp_hh50_fnl'], :, [\n",
    "    'San Francisco', 'Oakland', 'San Jose']].sum(level=['approach', 'baseline'])"
   ]
  },
  {
   "cell_type": "code",
   "execution_count": 58,
   "metadata": {},
   "outputs": [
    {
     "data": {
      "text/plain": [
       "approach                         baseline   \n",
       "2-F Bottom-Up HRA-Fit-Bal Sep 4  bp_hh50_fnl   1\n",
       "Name: value, dtype: float64"
      ]
     },
     "execution_count": 58,
     "metadata": {},
     "output_type": "execute_result"
    }
   ],
   "source": [
    "# how much of the RHND goes to the top 25 cities in terms of their allocations?\n",
    "\n",
    "allocation_plain.loc[OPTION8A, ['bp_hh50_fnl']].sum(level=['approach', 'baseline', 'juris']).sort_values(ascending=False).head(25).sum(level=['approach', 'baseline'])\\\n",
    "    / allocation_plain.loc[OPTION8A, ['bp_hh50_fnl']].sum(level=['approach', 'baseline'])"
   ]
  },
  {
   "cell_type": "markdown",
   "metadata": {},
   "source": [
    "#### Write out allocation to spreadsheet"
   ]
  },
  {
   "cell_type": "code",
   "execution_count": 59,
   "metadata": {},
   "outputs": [],
   "source": [
    "adopted_out = allocation_plain_and_adjusted.loc['Allocation With Equity Adjustment',\n",
    "                                                OPTION8A, 'bp_hh50_fnl'].reset_index()\n",
    "adopted_out['Income Group'] = adopted_out.bayarea_ami.map(income_name_map)\n",
    "\n",
    "writer = pd.ExcelWriter('output/rhna_allocation.xlsx',engine='xlsxwriter')\n",
    "\n",
    "# Get the xlsxwriter workbook and worksheet objects.\n",
    "workbook = writer.book\n",
    "\n",
    "# Add a bold format to use to highlight cells.\n",
    "cell_format_hdr = workbook.add_format({'bold': True, 'font_color': 'black','font_size':16})\n",
    "cell_format = workbook.add_format({'bold': False, 'font_color': 'black','font_size':12})\n",
    "\n",
    "readmeworksheet=workbook.add_worksheet(name='README')\n",
    "\n",
    "readmeworksheet.write(0, 0, 'Proposed RHNA Allocation', cell_format_hdr)\n",
    "readmeworksheet.write(2, 0, 'Weights:', cell_format)\n",
    "readmeworksheet.write(2, 1, 'See sheet weights', cell_format)\n",
    "readmeworksheet.write(4, 0, 'Baseline Used:', cell_format)\n",
    "readmeworksheet.write(4, 1, 'Blueprint 2050 Households', cell_format)\n",
    "pd.Series(factor_weights_income).apply(pd.Series).T.to_excel(writer,'weights')\n",
    "\n",
    "adopted_out.groupby(['county', 'juris','Income Group'],observed=True).value.sum().unstack(2).to_excel(writer,'proposed_rhna_allocation')\n",
    "writer.close()"
   ]
  },
  {
   "cell_type": "markdown",
   "metadata": {},
   "source": [
    "#### Map it"
   ]
  },
  {
   "cell_type": "code",
   "execution_count": 60,
   "metadata": {},
   "outputs": [],
   "source": [
    "# first, load a shapefile with a hexgrid for the region\n",
    "\n",
    "hexgridv2 = gpd.read_file(\n",
    "    'data/hexgrid_y13620.shp')\n",
    "hexgridv2['jurisname_abbrev'] = hexgridv2.jurisdicti.map(jurisdictions.set_index('juris').jurisdicti.map(\n",
    "    rem_vowel).str.replace('Unncrprtd', 'Unc').map(lambda x: '\\n'.join(wrap(x, width=8))))\n",
    "hexgridv2['county'] = hexgridv2.jurisdicti.map(\n",
    "    jurisdictions.set_index('juris').county)\n",
    "hexgridv2['city'] = hexgridv2.jurisdicti\n",
    "hexgridv2 = hexgridv2[hexgridv2.juris != 'None']\n",
    "\n",
    "hexgridv2_background = gpd.GeoSeries(\n",
    "    hexgridv2.geometry.buffer(5000).unary_union.convex_hull)\n",
    "hexgridv2_background_sq = gpd.GeoSeries(\n",
    "    hexgridv2.geometry.buffer(5000).unary_union.envelope)\n",
    "\n",
    "hexgridv2['coords'] = hexgridv2['geometry'].apply(\n",
    "    lambda x: x.centroid.coords[:])\n",
    "hexgridv2['coords'] = [coords[0] for coords in hexgridv2['coords']]"
   ]
  },
  {
   "cell_type": "code",
   "execution_count": 61,
   "metadata": {},
   "outputs": [
    {
     "data": {
      "text/html": [
       "<div>\n",
       "<style scoped>\n",
       "    .dataframe tbody tr th:only-of-type {\n",
       "        vertical-align: middle;\n",
       "    }\n",
       "\n",
       "    .dataframe tbody tr th {\n",
       "        vertical-align: top;\n",
       "    }\n",
       "\n",
       "    .dataframe thead th {\n",
       "        text-align: right;\n",
       "    }\n",
       "</style>\n",
       "<table border=\"1\" class=\"dataframe\">\n",
       "  <thead>\n",
       "    <tr style=\"text-align: right;\">\n",
       "      <th>equity_adjustment</th>\n",
       "      <th>county</th>\n",
       "      <th>juris</th>\n",
       "      <th>Allocation With Equity Adjustment</th>\n",
       "      <th>Unmodified Allocation</th>\n",
       "      <th>geometry</th>\n",
       "      <th>coords</th>\n",
       "      <th>jurisname_abbrev</th>\n",
       "    </tr>\n",
       "  </thead>\n",
       "  <tbody>\n",
       "    <tr>\n",
       "      <th>0</th>\n",
       "      <td>Alameda</td>\n",
       "      <td>Alameda</td>\n",
       "      <td>5,354</td>\n",
       "      <td>5,406</td>\n",
       "      <td>POLYGON ((543945.437 4196665.881, 547877.194 4...</td>\n",
       "      <td>(551808.9510547959, 4200070.882799089)</td>\n",
       "      <td>Almd</td>\n",
       "    </tr>\n",
       "    <tr>\n",
       "      <th>1</th>\n",
       "      <td>Alameda</td>\n",
       "      <td>Albany</td>\n",
       "      <td>1,114</td>\n",
       "      <td>1,125</td>\n",
       "      <td>POLYGON ((532150.165 4217095.891, 536081.922 4...</td>\n",
       "      <td>(540013.6795557053, 4213690.889149418)</td>\n",
       "      <td>Albny</td>\n",
       "    </tr>\n",
       "    <tr>\n",
       "      <th>2</th>\n",
       "      <td>Alameda</td>\n",
       "      <td>Berkeley</td>\n",
       "      <td>8,934</td>\n",
       "      <td>9,025</td>\n",
       "      <td>POLYGON ((555740.708 4203475.884, 559672.465 4...</td>\n",
       "      <td>(563604.2225538867, 4200070.882799089)</td>\n",
       "      <td>Brkly</td>\n",
       "    </tr>\n",
       "  </tbody>\n",
       "</table>\n",
       "</div>"
      ],
      "text/plain": [
       "equity_adjustment   county     juris  Allocation With Equity Adjustment  \\\n",
       "0                  Alameda   Alameda                              5,354   \n",
       "1                  Alameda    Albany                              1,114   \n",
       "2                  Alameda  Berkeley                              8,934   \n",
       "\n",
       "equity_adjustment  Unmodified Allocation  \\\n",
       "0                                  5,406   \n",
       "1                                  1,125   \n",
       "2                                  9,025   \n",
       "\n",
       "equity_adjustment                                           geometry  \\\n",
       "0                  POLYGON ((543945.437 4196665.881, 547877.194 4...   \n",
       "1                  POLYGON ((532150.165 4217095.891, 536081.922 4...   \n",
       "2                  POLYGON ((555740.708 4203475.884, 559672.465 4...   \n",
       "\n",
       "equity_adjustment                                  coords jurisname_abbrev  \n",
       "0                  (551808.9510547959, 4200070.882799089)             Almd  \n",
       "1                  (540013.6795557053, 4213690.889149418)            Albny  \n",
       "2                  (563604.2225538867, 4200070.882799089)            Brkly  "
      ]
     },
     "execution_count": 61,
     "metadata": {},
     "output_type": "execute_result"
    }
   ],
   "source": [
    "# prep a geodataframe with the adopted allocation and the hexgrid geometry\n",
    "\n",
    "adopted_geo = allocation_plain_and_adjusted.loc[:, OPTION8A, 'bp_hh50_fnl'].sum(\n",
    "    level=['equity_adjustment', 'county', 'juris']).unstack('equity_adjustment').reset_index()\n",
    "\n",
    "adopted_geo['geometry'] = adopted_geo.juris.map(\n",
    "    hexgridv2.set_index('jurisdicti').geometry)\n",
    "adopted_geo = gpd.GeoDataFrame(adopted_geo, crs='EPSG:26910')\n",
    "adopted_geo['coords'] = adopted_geo['geometry'].apply(\n",
    "    lambda x: x.representative_point().coords[:])\n",
    "adopted_geo['coords'] = [coords[0] for coords in adopted_geo['coords']]\n",
    "\n",
    "adopted_geo['jurisname_abbrev'] = adopted_geo.juris.map(jurisdictions.set_index('juris').jurisdicti.map(\n",
    "    rem_vowel).str.replace('Unncrprtd', 'Unc').map(lambda x: '\\n'.join(wrap(x, width=8))))\n",
    "# adopted_geo=adopted_geo.set_index(['county','juris'])\n",
    "adopted_geo.head(3)"
   ]
  },
  {
   "cell_type": "code",
   "execution_count": 62,
   "metadata": {},
   "outputs": [],
   "source": [
    "# define a mapping function\n",
    "\n",
    "#cmap=cm.viridis\n",
    "cmap=cm.RdBu_r\n",
    "\n",
    "def map_juris_four_one_cb1(\n",
    "        this_df,\n",
    "        map_columns=['draft_rhna_alloc_bsln_grrate'],\n",
    "        map_titles=['draft_rhna_alloc_bsln_grrate'],\n",
    "        bounds=np.arange(0, .5, .05),\n",
    "        labelmultiplier=100,\n",
    "        labelformat='{juris}\\n{num:.0f}%',\n",
    "        cbarformat=percent_format,\n",
    "        cmap=cm.coolwarm, cmap2=cm.RdYlBu,\n",
    "        use_discrete=True,\n",
    "        file_slug='',\n",
    "        map_title='',\n",
    "        figsize=[11, 11],\n",
    "        ncols=2,\n",
    "        nrows=2,\n",
    "        add_colorbar=False,\n",
    "        skip_cell=None,\n",
    "        cbar_title='Jurisdiction Growth Rate',\n",
    "        use_hex=False, labels=False,\n",
    "        plot_hex_background=False,\n",
    "        bgcol='lightgrey',\n",
    "        wspace=-.3, hspace=.2,\n",
    "        annot='ABAG HMC Meeting #10 | Item 7a 2 Appendix 1 | September 4, 2020',\n",
    "        xy=(0., .5),\n",
    "        subttl='',\n",
    "        xy2=(0, 0),\n",
    "        xy3=(.2, 0),\n",
    "        wrap_width=60,\n",
    "        facet_title_wrap=55,\n",
    "        annot_desc='',\n",
    "        annot_desc_wrap=60,\n",
    "        save_images=False):\n",
    "\n",
    "    vmax = this_df[map_columns].stack().max()\n",
    "    vmin = this_df[map_columns].stack().min()\n",
    "    vmean = this_df[map_columns].stack().mean()\n",
    "\n",
    "    if use_discrete:\n",
    "        # discrete colorbar\n",
    "        #bounds = np.linspace(vmin,vmax,8)\n",
    "\n",
    "        norm = mcolors.BoundaryNorm(boundaries=bounds, ncolors=256, clip=True)\n",
    "        norm_neg = mcolors.BoundaryNorm(\n",
    "            boundaries=np.arange(-.2, .21, .05), ncolors=256, clip=True)\n",
    "\n",
    "    fig, axs = plt.subplots(ncols=ncols, nrows=nrows, figsize=figsize)\n",
    "    if type(axs) == ndarray:\n",
    "        axs = axs.ravel()\n",
    "\n",
    "    for i, map_column in enumerate(map_columns):\n",
    "        new_i = i\n",
    "        # if i>=skip_cell:\n",
    "        #    new_i=i+1\n",
    "        #    print 'skipping cell'\n",
    "        if type(axs) == ndarray:\n",
    "            # print '\\tmulti'\n",
    "            this_ax = axs[new_i]\n",
    "        else:\n",
    "            this_ax = axs\n",
    "\n",
    "        norm_cont = MidPointNormalize(\n",
    "            vmin, vmax, midpoint=this_df[map_column].median())\n",
    "        if plot_hex_background:\n",
    "            hexgridv2_background_sq.plot(\n",
    "                color=bgcol, edgecolor='black', linewidth=.4, ax=this_ax)\n",
    "        this_df.plot(column=map_column, edgecolor='black', linewidth=1.31, cmap=cmap,\n",
    "                     legend=False, norm=norm,\n",
    "                     ax=this_ax)\n",
    "\n",
    "        this_df['coords'] = this_df['geometry'].apply(\n",
    "            lambda x: x.centroid.coords[:])\n",
    "        this_df['coords'] = [coords[0] for coords in this_df['coords']]\n",
    "\n",
    "        this_ax.axis('off')\n",
    "        this_ax.set_aspect('equal', 'box')\n",
    "        this_ax.axes.get_xaxis().set_ticks([])\n",
    "        this_ax.axes.get_yaxis().set_ticks([])\n",
    "\n",
    "        this_ax.set_title('\\n'.join(\n",
    "            wrap(map_titles[i], width=facet_title_wrap)), size=13, fontweight='bold', y=.955)\n",
    "\n",
    "        surplus_panels = ncols*nrows-len(map_columns)\n",
    "        if surplus_panels > 0:\n",
    "            # loop through last panels\n",
    "            redundant_axs = axs[-surplus_panels:]\n",
    "            for redundant_ax in redundant_axs:\n",
    "\n",
    "                # wipe the skip cell panel\n",
    "                redundant_ax.axis('off')\n",
    "                redundant_ax.set_aspect('equal', 'box')\n",
    "                redundant_ax.axes.get_xaxis().set_ticks([])\n",
    "                redundant_ax.axes.get_yaxis().set_ticks([])\n",
    "\n",
    "        if labels:\n",
    "            this_df['this_bin'] = pd.cut(this_df[map_column], bins=list(\n",
    "                bounds), labels=False)  # .astype(str)\n",
    "            this_df['this_bin'] = this_df['this_bin'].fillna(0)\n",
    "            color_bins = this_df['this_bin'].unique().shape[0]\n",
    "\n",
    "            if use_hex:\n",
    "                for idx, row in this_df.iterrows():\n",
    "                    # this_ax.annotate(text='{juris}'.format(juris=row.jurisname_abbrev,\n",
    "                    this_ax.annotate(text=labelformat.format(juris=row.jurisname_abbrev,\n",
    "                                                             num=labelmultiplier *\n",
    "                                                             row[map_column]\n",
    "                                                             ), verticalalignment='center',\n",
    "                                     color='black' if row.this_bin <= 2 else 'white', xy=row['coords'],\n",
    "                                     horizontalalignment='center', size=8.5,\n",
    "                                     #path_effects=[PathEffects.withStroke(linewidth=1.7, foreground=\"black\")]\n",
    "                                     )\n",
    "            else:\n",
    "                for idx, row in this_df[this_df[map_column] > 0].iterrows():\n",
    "                    this_ax.annotate(text='{:.1f}'.format(100*row[map_column]), color='black', xy=row['coords'],\n",
    "                                     ha='center', size=9,\n",
    "                                     #path_effects=[PathEffects.withStroke(linewidth=1.7, foreground=\"black\")]\n",
    "                                     )\n",
    "\n",
    "    plt.suptitle(map_title, size=14, fontweight='bold', y=.980)\n",
    "\n",
    "    plt.tight_layout(rect=[0, .1, 1, .93])\n",
    "    plt.subplots_adjust(wspace=wspace, hspace=hspace)\n",
    "    plt.annotate(text=annot, color='black', xy=xy,\n",
    "                 xycoords='figure fraction')\n",
    "\n",
    "    plt.annotate(text='\\n'.join(wrap(subttl, width=wrap_width)), color='black', xy=xy2,\n",
    "                 xycoords='figure fraction', fontsize=12,\n",
    "                 horizontalalignment='center')  # , fontweight='bold')\n",
    "\n",
    "    if add_colorbar:\n",
    "        cax1 = fig.add_axes([0.15, 0.08, 0.7, 0.02])\n",
    "\n",
    "        # plt.Normalize(vmin=vmin, vmax=vmax))\n",
    "        sm1 = plt.cm.ScalarMappable(cmap=cmap, norm=norm)\n",
    "        # hack job for color bar\n",
    "        sm1._A = []\n",
    "        cbar1 = fig.colorbar(sm1, cax=cax1, orientation='horizontal', extend='both' if bounds[0] > 0 else 'max',\n",
    "                             extendfrac=.2, spacing='uniform',  # 'proportional',\n",
    "                             format=ticker.FuncFormatter(cbarformat))\n",
    "        cbar1.ax.tick_params(labelsize=11)\n",
    "        cbar1.ax.set_title(cbar_title, size=11)\n",
    "\n",
    "    plt.annotate(text='\\n'.join(wrap(annot_desc, width=annot_desc_wrap)),\n",
    "                 color='black', style='italic',\n",
    "                 xy=xy3,\n",
    "                 #xycoords='figure fraction',\n",
    "                 fontsize=8.5,\n",
    "                 ha='left',\n",
    "                 va='bottom',\n",
    "                 xycoords='figure fraction',\n",
    "                 bbox=dict(facecolor='white', ec='black',\n",
    "                           lw=.5,  # alpha=0.75,\n",
    "                           boxstyle=\"round,pad=0.4\"))\n",
    "\n",
    "    if save_images:\n",
    "        savefig('plots/map_approach_compare{slug}.png'.format(\n",
    "            slug='_%s' % file_slug if file_slug != '' else ''), dpi=300)\n",
    "        savefig('plots/map_approach_compare{slug}.svg'.format(\n",
    "            slug='_%s' % file_slug if file_slug != '' else ''))\n",
    "        savefig('plots/map_approach_compare{slug}.pdf'.format(\n",
    "            slug='_%s' % file_slug if file_slug != '' else ''))"
   ]
  },
  {
   "cell_type": "markdown",
   "metadata": {},
   "source": [
    "#### Call the mapping function "
   ]
  },
  {
   "cell_type": "code",
   "execution_count": 63,
   "metadata": {},
   "outputs": [
    {
     "data": {
      "image/png": "[encoded data removed]",
      "text/plain": [
       "<Figure size 936x792 with 3 Axes>"
      ]
     },
     "metadata": {},
     "output_type": "display_data"
    }
   ],
   "source": [
    "map_juris_four_one_cb1(adopted_geo,\n",
    "                       map_columns=[\n",
    "                           'Allocation With Equity Adjustment', 'Unmodified Allocation'],\n",
    "                       map_titles=['Equity Adjusted', 'Unmodified'],\n",
    "                       bounds=[0, 2500, 5000, 7500,\n",
    "                               10000, 15000, 20000, 100000],\n",
    "                       labelformat='%s' % '{juris}\\n{num:.1f}k',\n",
    "                       labelmultiplier=.001,\n",
    "                       cbarformat=comma_fmt,\n",
    "                       use_discrete=True,\n",
    "                       ncols=2,\n",
    "                       nrows=1,\n",
    "                       cmap=cm.Oranges,\n",
    "                       file_slug='allocation_8A',\n",
    "                       map_title='RHNA Allocation - Factor Version 8A, Baseline Blueprint 2050 Households',    \n",
    "                       cbar_title='Jurisdiction Growth',\n",
    "                       skip_cell=None,\n",
    "                       add_colorbar=True,\n",
    "                       figsize=[13, 11],\n",
    "                       use_hex=True,\n",
    "                       # label_size=7.5,\n",
    "                       wrap_width=40,\n",
    "                       labels=True,\n",
    "                       annot='PROPOSED RHNA ALLOCATION CYCLE 6',\n",
    "                       hspace=.025, wspace=.025,\n",
    "                       plot_hex_background=True,\n",
    "                       facet_title_wrap=35,\n",
    "                       xy=(.5, .02),\n",
    "                       save_images=True)"
   ]
  },
  {
   "cell_type": "code",
   "execution_count": null,
   "metadata": {},
   "outputs": [],
   "source": []
  }
 ],
 "metadata": {
  "kernelspec": {
   "display_name": "Python 3",
   "language": "python",
   "name": "python3"
  },
  "language_info": {
   "codemirror_mode": {
    "name": "ipython",
    "version": 3
   },
   "file_extension": ".py",
   "mimetype": "text/x-python",
   "name": "python",
   "nbconvert_exporter": "python",
   "pygments_lexer": "ipython3",
   "version": "3.7.7"
  },
  "toc": {
   "base_numbering": 1,
   "nav_menu": {},
   "number_sections": true,
   "sideBar": true,
   "skip_h1_title": false,
   "title_cell": "Table of Contents",
   "title_sidebar": "Contents",
   "toc_cell": false,
   "toc_position": {},
   "toc_section_display": true,
   "toc_window_display": false
  }
 },
 "nbformat": 4,
 "nbformat_minor": 2
}
